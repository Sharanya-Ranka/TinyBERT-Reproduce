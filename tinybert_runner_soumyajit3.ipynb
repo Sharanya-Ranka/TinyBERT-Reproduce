{
 "cells": [
  {
   "cell_type": "code",
   "execution_count": 1,
   "id": "6abfc827-0018-4ad7-b73b-8cd38b09abd9",
   "metadata": {},
   "outputs": [],
   "source": [
    "import boto3\n",
    "import task_distill_soumyajit\n",
    "import sys"
   ]
  },
  {
   "cell_type": "code",
   "execution_count": 2,
   "id": "2f5708a1-9e56-4e19-98f0-af4a4a1d6981",
   "metadata": {},
   "outputs": [],
   "source": [
    "teacher = \"models/models--JeremiahZ--bert-base-uncased-rte\"\n",
    "student = \"models/models--huawei-noah--TinyBERT_General_4L_312D\"\n",
    "data = \"data/glue_data/RTE\"\n",
    "task = \"rte\"\n",
    "augs = True\n",
    "fast = 0.0\n",
    "mode = \"fast\"\n",
    "base_output = \"models/TinyBERT-RTE\"\n",
    "\n",
    "if augs:\n",
    "    base_output = base_output + \"-(\" + mode + \")-(\" + str(fast) + \")/\"\n",
    "else:\n",
    "    base_output = base_output + \"/\"\n",
    "\n",
    "temp_output = base_output + \"step1\"\n",
    "output = base_output + \"step2\"\n",
    "eval_output = base_output + \"eval\""
   ]
  },
  {
   "cell_type": "code",
   "execution_count": 3,
   "id": "f897585c-de19-44f4-910a-8e6ffa78a02c",
   "metadata": {},
   "outputs": [
    {
     "name": "stdout",
     "output_type": "stream",
     "text": [
      "models/TinyBERT-RTE-(fast)-(0.0)/step1\n",
      "models/TinyBERT-RTE-(fast)-(0.0)/step2\n",
      "models/TinyBERT-RTE-(fast)-(0.0)/eval\n"
     ]
    }
   ],
   "source": [
    "print(temp_output)\n",
    "print(output)\n",
    "print(eval_output)"
   ]
  },
  {
   "cell_type": "code",
   "execution_count": 4,
   "id": "c31b5c84-25f1-4013-ad50-97566ad52af6",
   "metadata": {},
   "outputs": [],
   "source": [
    "task_distill_step1 = dict(teacher_model = teacher,\n",
    "                            student_model = student,\n",
    "                            data_dir = data,\n",
    "                            task_name = task,\n",
    "                            output_dir = temp_output,\n",
    "                            max_seq_length = 128,\n",
    "                            train_batch_size = 32,\n",
    "                            num_train_epochs = 10,\n",
    "                            do_lower_case = True,\n",
    "                            aug_train = augs,\n",
    "                            aug_mode = mode,\n",
    "                            fast_aug = fast)\n",
    "\n",
    "task_distill_step2 = dict(teacher_model = teacher,\n",
    "                            student_model = temp_output,\n",
    "                            data_dir = data,\n",
    "                            task_name = task,\n",
    "                            output_dir = output,\n",
    "                            learning_rate=3e-5,\n",
    "                            eval_step=100,\n",
    "                            max_seq_length = 128,\n",
    "                            train_batch_size = 32,\n",
    "                            num_train_epochs = 10,\n",
    "                            do_lower_case = True,\n",
    "                            pred_distill = True,\n",
    "                            aug_train = augs,\n",
    "                            aug_mode = mode,\n",
    "                            fast_aug = fast)\n",
    "\n",
    "evaluation = dict(student_model = output,\n",
    "                            data_dir = data,\n",
    "                            task_name = task,\n",
    "                            output_dir = eval_output,\n",
    "                            eval_batch_size = 32,\n",
    "                            max_seq_length = 128,\n",
    "                            do_lower_case = True,\n",
    "                            do_eval = True)"
   ]
  },
  {
   "cell_type": "code",
   "execution_count": 5,
   "id": "940427ea-55a9-4628-90c1-32341e60c5af",
   "metadata": {
    "editable": true,
    "scrolled": true,
    "slideshow": {
     "slide_type": ""
    },
    "tags": []
   },
   "outputs": [],
   "source": [
    "def getArguments(dict_args):\n",
    "    list_args = []\n",
    "    for arg_name, arg_val in dict_args.items():\n",
    "        if arg_name == \"fast_aug\":\n",
    "            list_args.append(f\"--{arg_name}={arg_val}\")\n",
    "        elif arg_val not in [True, False]:\n",
    "            list_args.append(f\"--{arg_name}={arg_val}\")\n",
    "        elif arg_val == True:\n",
    "            list_args.append(f\"--{arg_name}\")\n",
    "\n",
    "    return list_args"
   ]
  },
  {
   "cell_type": "code",
   "execution_count": 6,
   "id": "7ab52110-f562-42c6-96cf-9448e210506c",
   "metadata": {},
   "outputs": [
    {
     "name": "stdout",
     "output_type": "stream",
     "text": [
      "['task_distill_soumyajit.py', '--teacher_model=models/models--JeremiahZ--bert-base-uncased-rte', '--student_model=models/models--huawei-noah--TinyBERT_General_4L_312D', '--data_dir=data/glue_data/RTE', '--task_name=rte', '--output_dir=models/TinyBERT-RTE-(fast)-(0.0)/step1', '--max_seq_length=128', '--train_batch_size=32', '--num_train_epochs=10', '--do_lower_case', '--aug_train', '--aug_mode=fast', '--fast_aug=0.0']\n"
     ]
    }
   ],
   "source": [
    "print([\"task_distill_soumyajit.py\"] + getArguments(task_distill_step1))"
   ]
  },
  {
   "cell_type": "code",
   "execution_count": 7,
   "id": "62cb500a-2fda-4ad5-a4b8-fc534aad00b5",
   "metadata": {},
   "outputs": [
    {
     "name": "stdout",
     "output_type": "stream",
     "text": [
      "Arguments passed\n",
      "['task_distill_soumyajit.py', '--teacher_model=models/models--JeremiahZ--bert-base-uncased-rte', '--student_model=models/models--huawei-noah--TinyBERT_General_4L_312D', '--data_dir=data/glue_data/RTE', '--task_name=rte', '--output_dir=models/TinyBERT-RTE-(fast)-(0.0)/step1', '--max_seq_length=128', '--train_batch_size=32', '--num_train_epochs=10', '--do_lower_case', '--aug_train', '--aug_mode=fast', '--fast_aug=0.0']\n",
      "12/13 09:41:13 PM The args: Namespace(data_dir='data/glue_data/RTE', teacher_model='models/models--JeremiahZ--bert-base-uncased-rte', student_model='models/models--huawei-noah--TinyBERT_General_4L_312D', task_name='rte', output_dir='models/TinyBERT-RTE-(fast)-(0.0)/step1', cache_dir='', max_seq_length=128, do_eval=False, do_lower_case=True, train_batch_size=32, eval_batch_size=32, learning_rate=5e-05, weight_decay=0.0001, num_train_epochs=10.0, warmup_proportion=0.1, no_cuda=False, seed=42, gradient_accumulation_steps=1, aug_train=True, aug_mode='fast', fast_aug=0.0, eval_step=50, pred_distill=False, data_url='', temperature=1.0)\n",
      "12/13 09:41:14 PM device: cuda n_gpu: 1\n",
      "12/13 09:41:14 PM Writing example 0 of 16693\n",
      "12/13 09:41:14 PM *** Example ***\n",
      "12/13 09:41:14 PM guid: aug-0\n",
      "12/13 09:41:14 PM tokens: [CLS] no weapons of mass destruction found in iraq yet . [SEP] weapons of mass destruction found in iraq . [SEP]\n",
      "12/13 09:41:14 PM input_ids: 101 2053 4255 1997 3742 6215 2179 1999 5712 2664 1012 102 4255 1997 3742 6215 2179 1999 5712 1012 102 0 0 0 0 0 0 0 0 0 0 0 0 0 0 0 0 0 0 0 0 0 0 0 0 0 0 0 0 0 0 0 0 0 0 0 0 0 0 0 0 0 0 0 0 0 0 0 0 0 0 0 0 0 0 0 0 0 0 0 0 0 0 0 0 0 0 0 0 0 0 0 0 0 0 0 0 0 0 0 0 0 0 0 0 0 0 0 0 0 0 0 0 0 0 0 0 0 0 0 0 0 0 0 0 0 0 0\n",
      "12/13 09:41:14 PM input_mask: 1 1 1 1 1 1 1 1 1 1 1 1 1 1 1 1 1 1 1 1 1 0 0 0 0 0 0 0 0 0 0 0 0 0 0 0 0 0 0 0 0 0 0 0 0 0 0 0 0 0 0 0 0 0 0 0 0 0 0 0 0 0 0 0 0 0 0 0 0 0 0 0 0 0 0 0 0 0 0 0 0 0 0 0 0 0 0 0 0 0 0 0 0 0 0 0 0 0 0 0 0 0 0 0 0 0 0 0 0 0 0 0 0 0 0 0 0 0 0 0 0 0 0 0 0 0 0 0\n",
      "12/13 09:41:14 PM segment_ids: 0 0 0 0 0 0 0 0 0 0 0 0 1 1 1 1 1 1 1 1 1 0 0 0 0 0 0 0 0 0 0 0 0 0 0 0 0 0 0 0 0 0 0 0 0 0 0 0 0 0 0 0 0 0 0 0 0 0 0 0 0 0 0 0 0 0 0 0 0 0 0 0 0 0 0 0 0 0 0 0 0 0 0 0 0 0 0 0 0 0 0 0 0 0 0 0 0 0 0 0 0 0 0 0 0 0 0 0 0 0 0 0 0 0 0 0 0 0 0 0 0 0 0 0 0 0 0 0\n",
      "12/13 09:41:14 PM label: not_entailment\n",
      "12/13 09:41:14 PM label_id: 1\n",
      "12/13 09:41:18 PM Writing example 10000 of 16693\n",
      "12/13 09:41:22 PM Writing example 0 of 277\n",
      "12/13 09:41:22 PM *** Example ***\n",
      "12/13 09:41:22 PM guid: dev-0\n",
      "12/13 09:41:22 PM tokens: [CLS] dana reeve , the widow of the actor christopher reeve , has died of lung cancer at age 44 , according to the christopher reeve foundation . [SEP] christopher reeve had an accident . [SEP]\n",
      "12/13 09:41:22 PM input_ids: 101 11271 20726 1010 1996 7794 1997 1996 3364 5696 20726 1010 2038 2351 1997 11192 4456 2012 2287 4008 1010 2429 2000 1996 5696 20726 3192 1012 102 5696 20726 2018 2019 4926 1012 102 0 0 0 0 0 0 0 0 0 0 0 0 0 0 0 0 0 0 0 0 0 0 0 0 0 0 0 0 0 0 0 0 0 0 0 0 0 0 0 0 0 0 0 0 0 0 0 0 0 0 0 0 0 0 0 0 0 0 0 0 0 0 0 0 0 0 0 0 0 0 0 0 0 0 0 0 0 0 0 0 0 0 0 0 0 0 0 0 0 0 0 0\n",
      "12/13 09:41:22 PM input_mask: 1 1 1 1 1 1 1 1 1 1 1 1 1 1 1 1 1 1 1 1 1 1 1 1 1 1 1 1 1 1 1 1 1 1 1 1 0 0 0 0 0 0 0 0 0 0 0 0 0 0 0 0 0 0 0 0 0 0 0 0 0 0 0 0 0 0 0 0 0 0 0 0 0 0 0 0 0 0 0 0 0 0 0 0 0 0 0 0 0 0 0 0 0 0 0 0 0 0 0 0 0 0 0 0 0 0 0 0 0 0 0 0 0 0 0 0 0 0 0 0 0 0 0 0 0 0 0 0\n",
      "12/13 09:41:22 PM segment_ids: 0 0 0 0 0 0 0 0 0 0 0 0 0 0 0 0 0 0 0 0 0 0 0 0 0 0 0 0 0 1 1 1 1 1 1 1 0 0 0 0 0 0 0 0 0 0 0 0 0 0 0 0 0 0 0 0 0 0 0 0 0 0 0 0 0 0 0 0 0 0 0 0 0 0 0 0 0 0 0 0 0 0 0 0 0 0 0 0 0 0 0 0 0 0 0 0 0 0 0 0 0 0 0 0 0 0 0 0 0 0 0 0 0 0 0 0 0 0 0 0 0 0 0 0 0 0 0 0\n",
      "12/13 09:41:22 PM label: not_entailment\n",
      "12/13 09:41:22 PM label_id: 1\n",
      "12/13 09:41:22 PM Model config {\n",
      "  \"_name_or_path\": \"bert-base-uncased\",\n",
      "  \"architectures\": [\n",
      "    \"BertForSequenceClassification\"\n",
      "  ],\n",
      "  \"attention_probs_dropout_prob\": 0.1,\n",
      "  \"classifier_dropout\": null,\n",
      "  \"finetuning_task\": \"rte\",\n",
      "  \"gradient_checkpointing\": false,\n",
      "  \"hidden_act\": \"gelu\",\n",
      "  \"hidden_dropout_prob\": 0.1,\n",
      "  \"hidden_size\": 768,\n",
      "  \"id2label\": {\n",
      "    \"0\": \"entailment\",\n",
      "    \"1\": \"not_entailment\"\n",
      "  },\n",
      "  \"initializer_range\": 0.02,\n",
      "  \"intermediate_size\": 3072,\n",
      "  \"label2id\": {\n",
      "    \"entailment\": 0,\n",
      "    \"not_entailment\": 1\n",
      "  },\n",
      "  \"layer_norm_eps\": 1e-12,\n",
      "  \"max_position_embeddings\": 512,\n",
      "  \"model_type\": \"bert\",\n",
      "  \"num_attention_heads\": 12,\n",
      "  \"num_hidden_layers\": 12,\n",
      "  \"pad_token_id\": 0,\n",
      "  \"position_embedding_type\": \"absolute\",\n",
      "  \"pre_trained\": \"\",\n",
      "  \"problem_type\": \"single_label_classification\",\n",
      "  \"torch_dtype\": \"float32\",\n",
      "  \"training\": \"\",\n",
      "  \"transformers_version\": \"4.20.0.dev0\",\n",
      "  \"type_vocab_size\": 2,\n",
      "  \"use_cache\": true,\n",
      "  \"vocab_size\": 30522\n",
      "}\n",
      "\n",
      "12/13 09:41:24 PM Loading model models/models--JeremiahZ--bert-base-uncased-rte/pytorch_model.bin\n",
      "12/13 09:41:24 PM loading model...\n",
      "12/13 09:41:25 PM done!\n",
      "12/13 09:41:25 PM Weights of TinyBertForSequenceClassification not initialized from pretrained model: ['fit_dense.weight', 'fit_dense.bias']\n",
      "12/13 09:41:25 PM Weights from pretrained model not used in TinyBertForSequenceClassification: ['bert.embeddings.position_ids']\n",
      "12/13 09:41:26 PM Model config {\n",
      "  \"attention_probs_dropout_prob\": 0.1,\n",
      "  \"cell\": {},\n",
      "  \"emb_size\": 312,\n",
      "  \"hidden_act\": \"gelu\",\n",
      "  \"hidden_dropout_prob\": 0.1,\n",
      "  \"hidden_size\": 312,\n",
      "  \"initializer_range\": 0.02,\n",
      "  \"intermediate_size\": 1200,\n",
      "  \"max_position_embeddings\": 512,\n",
      "  \"model_type\": \"bert\",\n",
      "  \"num_attention_heads\": 12,\n",
      "  \"num_hidden_layers\": 4,\n",
      "  \"pre_trained\": \"\",\n",
      "  \"structure\": [],\n",
      "  \"training\": \"\",\n",
      "  \"type_vocab_size\": 2,\n",
      "  \"vocab_size\": 30522\n",
      "}\n",
      "\n",
      "12/13 09:41:26 PM Loading model models/models--huawei-noah--TinyBERT_General_4L_312D/pytorch_model.bin\n",
      "12/13 09:41:27 PM loading model...\n",
      "12/13 09:41:27 PM done!\n",
      "12/13 09:41:27 PM Weights of TinyBertForSequenceClassification not initialized from pretrained model: ['classifier.weight', 'classifier.bias', 'fit_dense.weight', 'fit_dense.bias']\n",
      "12/13 09:41:27 PM Weights from pretrained model not used in TinyBertForSequenceClassification: ['cls.predictions.bias', 'cls.predictions.transform.dense.weight', 'cls.predictions.transform.dense.bias', 'cls.predictions.transform.LayerNorm.weight', 'cls.predictions.transform.LayerNorm.bias', 'cls.predictions.decoder.weight', 'cls.seq_relationship.weight', 'cls.seq_relationship.bias', 'fit_denses.0.weight', 'fit_denses.0.bias', 'fit_denses.1.weight', 'fit_denses.1.bias', 'fit_denses.2.weight', 'fit_denses.2.bias', 'fit_denses.3.weight', 'fit_denses.3.bias', 'fit_denses.4.weight', 'fit_denses.4.bias']\n",
      "12/13 09:41:27 PM ***** Running training *****\n",
      "12/13 09:41:27 PM   Num examples = 16693\n",
      "12/13 09:41:27 PM   Batch size = 32\n",
      "12/13 09:41:27 PM   Num steps = 5210\n",
      "12/13 09:41:27 PM n: bert.embeddings.word_embeddings.weight\n",
      "12/13 09:41:27 PM n: bert.embeddings.position_embeddings.weight\n",
      "12/13 09:41:27 PM n: bert.embeddings.token_type_embeddings.weight\n",
      "12/13 09:41:27 PM n: bert.embeddings.LayerNorm.weight\n",
      "12/13 09:41:27 PM n: bert.embeddings.LayerNorm.bias\n",
      "12/13 09:41:27 PM n: bert.encoder.layer.0.attention.self.query.weight\n",
      "12/13 09:41:27 PM n: bert.encoder.layer.0.attention.self.query.bias\n",
      "12/13 09:41:27 PM n: bert.encoder.layer.0.attention.self.key.weight\n",
      "12/13 09:41:27 PM n: bert.encoder.layer.0.attention.self.key.bias\n",
      "12/13 09:41:27 PM n: bert.encoder.layer.0.attention.self.value.weight\n",
      "12/13 09:41:27 PM n: bert.encoder.layer.0.attention.self.value.bias\n",
      "12/13 09:41:27 PM n: bert.encoder.layer.0.attention.output.dense.weight\n",
      "12/13 09:41:27 PM n: bert.encoder.layer.0.attention.output.dense.bias\n",
      "12/13 09:41:27 PM n: bert.encoder.layer.0.attention.output.LayerNorm.weight\n",
      "12/13 09:41:27 PM n: bert.encoder.layer.0.attention.output.LayerNorm.bias\n",
      "12/13 09:41:27 PM n: bert.encoder.layer.0.intermediate.dense.weight\n",
      "12/13 09:41:27 PM n: bert.encoder.layer.0.intermediate.dense.bias\n",
      "12/13 09:41:27 PM n: bert.encoder.layer.0.output.dense.weight\n",
      "12/13 09:41:27 PM n: bert.encoder.layer.0.output.dense.bias\n",
      "12/13 09:41:27 PM n: bert.encoder.layer.0.output.LayerNorm.weight\n",
      "12/13 09:41:27 PM n: bert.encoder.layer.0.output.LayerNorm.bias\n",
      "12/13 09:41:27 PM n: bert.encoder.layer.1.attention.self.query.weight\n",
      "12/13 09:41:27 PM n: bert.encoder.layer.1.attention.self.query.bias\n",
      "12/13 09:41:27 PM n: bert.encoder.layer.1.attention.self.key.weight\n",
      "12/13 09:41:27 PM n: bert.encoder.layer.1.attention.self.key.bias\n",
      "12/13 09:41:27 PM n: bert.encoder.layer.1.attention.self.value.weight\n",
      "12/13 09:41:27 PM n: bert.encoder.layer.1.attention.self.value.bias\n",
      "12/13 09:41:27 PM n: bert.encoder.layer.1.attention.output.dense.weight\n",
      "12/13 09:41:27 PM n: bert.encoder.layer.1.attention.output.dense.bias\n",
      "12/13 09:41:27 PM n: bert.encoder.layer.1.attention.output.LayerNorm.weight\n",
      "12/13 09:41:27 PM n: bert.encoder.layer.1.attention.output.LayerNorm.bias\n",
      "12/13 09:41:27 PM n: bert.encoder.layer.1.intermediate.dense.weight\n",
      "12/13 09:41:27 PM n: bert.encoder.layer.1.intermediate.dense.bias\n",
      "12/13 09:41:27 PM n: bert.encoder.layer.1.output.dense.weight\n",
      "12/13 09:41:27 PM n: bert.encoder.layer.1.output.dense.bias\n",
      "12/13 09:41:27 PM n: bert.encoder.layer.1.output.LayerNorm.weight\n",
      "12/13 09:41:27 PM n: bert.encoder.layer.1.output.LayerNorm.bias\n",
      "12/13 09:41:27 PM n: bert.encoder.layer.2.attention.self.query.weight\n",
      "12/13 09:41:27 PM n: bert.encoder.layer.2.attention.self.query.bias\n",
      "12/13 09:41:27 PM n: bert.encoder.layer.2.attention.self.key.weight\n",
      "12/13 09:41:27 PM n: bert.encoder.layer.2.attention.self.key.bias\n",
      "12/13 09:41:27 PM n: bert.encoder.layer.2.attention.self.value.weight\n",
      "12/13 09:41:27 PM n: bert.encoder.layer.2.attention.self.value.bias\n",
      "12/13 09:41:27 PM n: bert.encoder.layer.2.attention.output.dense.weight\n",
      "12/13 09:41:27 PM n: bert.encoder.layer.2.attention.output.dense.bias\n",
      "12/13 09:41:27 PM n: bert.encoder.layer.2.attention.output.LayerNorm.weight\n",
      "12/13 09:41:27 PM n: bert.encoder.layer.2.attention.output.LayerNorm.bias\n",
      "12/13 09:41:27 PM n: bert.encoder.layer.2.intermediate.dense.weight\n",
      "12/13 09:41:27 PM n: bert.encoder.layer.2.intermediate.dense.bias\n",
      "12/13 09:41:27 PM n: bert.encoder.layer.2.output.dense.weight\n",
      "12/13 09:41:27 PM n: bert.encoder.layer.2.output.dense.bias\n",
      "12/13 09:41:27 PM n: bert.encoder.layer.2.output.LayerNorm.weight\n",
      "12/13 09:41:27 PM n: bert.encoder.layer.2.output.LayerNorm.bias\n",
      "12/13 09:41:27 PM n: bert.encoder.layer.3.attention.self.query.weight\n",
      "12/13 09:41:27 PM n: bert.encoder.layer.3.attention.self.query.bias\n",
      "12/13 09:41:27 PM n: bert.encoder.layer.3.attention.self.key.weight\n",
      "12/13 09:41:27 PM n: bert.encoder.layer.3.attention.self.key.bias\n",
      "12/13 09:41:27 PM n: bert.encoder.layer.3.attention.self.value.weight\n",
      "12/13 09:41:27 PM n: bert.encoder.layer.3.attention.self.value.bias\n",
      "12/13 09:41:27 PM n: bert.encoder.layer.3.attention.output.dense.weight\n",
      "12/13 09:41:27 PM n: bert.encoder.layer.3.attention.output.dense.bias\n",
      "12/13 09:41:27 PM n: bert.encoder.layer.3.attention.output.LayerNorm.weight\n",
      "12/13 09:41:27 PM n: bert.encoder.layer.3.attention.output.LayerNorm.bias\n",
      "12/13 09:41:27 PM n: bert.encoder.layer.3.intermediate.dense.weight\n",
      "12/13 09:41:27 PM n: bert.encoder.layer.3.intermediate.dense.bias\n",
      "12/13 09:41:27 PM n: bert.encoder.layer.3.output.dense.weight\n",
      "12/13 09:41:27 PM n: bert.encoder.layer.3.output.dense.bias\n",
      "12/13 09:41:27 PM n: bert.encoder.layer.3.output.LayerNorm.weight\n",
      "12/13 09:41:27 PM n: bert.encoder.layer.3.output.LayerNorm.bias\n",
      "12/13 09:41:27 PM n: bert.pooler.dense.weight\n",
      "12/13 09:41:27 PM n: bert.pooler.dense.bias\n",
      "12/13 09:41:27 PM n: classifier.weight\n",
      "12/13 09:41:27 PM n: classifier.bias\n",
      "12/13 09:41:27 PM n: fit_dense.weight\n",
      "12/13 09:41:27 PM n: fit_dense.bias\n",
      "12/13 09:41:27 PM Total parameters: 14591258\n"
     ]
    },
    {
     "data": {
      "application/vnd.jupyter.widget-view+json": {
       "model_id": "a6649bcdc2d84a81876b3e617b401f2b",
       "version_major": 2,
       "version_minor": 0
      },
      "text/plain": [
       "Epoch:   0%|          | 0/10 [00:00<?, ?it/s]"
      ]
     },
     "metadata": {},
     "output_type": "display_data"
    },
    {
     "data": {
      "application/vnd.jupyter.widget-view+json": {
       "model_id": "8bb8be39f84f42faa20db22998945ddc",
       "version_major": 2,
       "version_minor": 0
      },
      "text/plain": [
       "Iteration:   0%|          | 0/522 [00:00<?, ?it/s]"
      ]
     },
     "metadata": {},
     "output_type": "display_data"
    },
    {
     "name": "stderr",
     "output_type": "stream",
     "text": [
      "/home/skarmakar/TinyBERT/transformer/optimization.py:275: UserWarning: This overload of add_ is deprecated:\n",
      "\tadd_(Number alpha, Tensor other)\n",
      "Consider using one of the following signatures instead:\n",
      "\tadd_(Tensor other, *, Number alpha) (Triggered internally at ../torch/csrc/utils/python_arg_parser.cpp:1630.)\n",
      "  next_m.mul_(beta1).add_(1 - beta1, grad)\n"
     ]
    },
    {
     "name": "stdout",
     "output_type": "stream",
     "text": [
      "12/13 09:41:37 PM ***** Running evaluation *****\n",
      "12/13 09:41:37 PM   Epoch = 0 iter 49 step\n",
      "12/13 09:41:37 PM   Num examples = 277\n",
      "12/13 09:41:37 PM   Batch size = 32\n",
      "12/13 09:41:37 PM ***** Eval results *****\n",
      "12/13 09:41:37 PM   att_loss = 4.695378541946411\n",
      "12/13 09:41:37 PM   cls_loss = 0.0\n",
      "12/13 09:41:37 PM   global_step = 49\n",
      "12/13 09:41:37 PM   loss = 6.638311103898651\n",
      "12/13 09:41:37 PM   rep_loss = 1.9429325157282304\n",
      "12/13 09:41:37 PM ***** Save model *****\n",
      "12/13 09:41:46 PM ***** Running evaluation *****\n",
      "12/13 09:41:46 PM   Epoch = 0 iter 99 step\n",
      "12/13 09:41:46 PM   Num examples = 277\n",
      "12/13 09:41:46 PM   Batch size = 32\n",
      "12/13 09:41:46 PM ***** Eval results *****\n",
      "12/13 09:41:46 PM   att_loss = 4.445144906188503\n",
      "12/13 09:41:46 PM   cls_loss = 0.0\n",
      "12/13 09:41:46 PM   global_step = 99\n",
      "12/13 09:41:46 PM   loss = 6.16315485732724\n",
      "12/13 09:41:46 PM   rep_loss = 1.7180099378932605\n",
      "12/13 09:41:46 PM ***** Save model *****\n",
      "12/13 09:41:54 PM ***** Running evaluation *****\n",
      "12/13 09:41:54 PM   Epoch = 0 iter 149 step\n",
      "12/13 09:41:54 PM   Num examples = 277\n",
      "12/13 09:41:54 PM   Batch size = 32\n",
      "12/13 09:41:54 PM ***** Eval results *****\n",
      "12/13 09:41:54 PM   att_loss = 4.2589221848737475\n",
      "12/13 09:41:54 PM   cls_loss = 0.0\n",
      "12/13 09:41:54 PM   global_step = 149\n",
      "12/13 09:41:54 PM   loss = 5.850167968929214\n",
      "12/13 09:41:54 PM   rep_loss = 1.591245776054843\n",
      "12/13 09:41:54 PM ***** Save model *****\n",
      "12/13 09:42:03 PM ***** Running evaluation *****\n",
      "12/13 09:42:03 PM   Epoch = 0 iter 199 step\n",
      "12/13 09:42:03 PM   Num examples = 277\n",
      "12/13 09:42:03 PM   Batch size = 32\n",
      "12/13 09:42:03 PM ***** Eval results *****\n",
      "12/13 09:42:03 PM   att_loss = 4.186772842503073\n",
      "12/13 09:42:03 PM   cls_loss = 0.0\n",
      "12/13 09:42:03 PM   global_step = 199\n",
      "12/13 09:42:03 PM   loss = 5.700102269349985\n",
      "12/13 09:42:03 PM   rep_loss = 1.5133294292430781\n",
      "12/13 09:42:03 PM ***** Save model *****\n",
      "12/13 09:42:12 PM ***** Running evaluation *****\n",
      "12/13 09:42:12 PM   Epoch = 0 iter 249 step\n",
      "12/13 09:42:12 PM   Num examples = 277\n",
      "12/13 09:42:12 PM   Batch size = 32\n",
      "12/13 09:42:12 PM ***** Eval results *****\n",
      "12/13 09:42:12 PM   att_loss = 4.142377659020175\n",
      "12/13 09:42:12 PM   cls_loss = 0.0\n",
      "12/13 09:42:12 PM   global_step = 249\n",
      "12/13 09:42:12 PM   loss = 5.600075648970393\n",
      "12/13 09:42:12 PM   rep_loss = 1.4576979990465095\n",
      "12/13 09:42:12 PM ***** Save model *****\n",
      "12/13 09:42:20 PM ***** Running evaluation *****\n",
      "12/13 09:42:20 PM   Epoch = 0 iter 299 step\n",
      "12/13 09:42:20 PM   Num examples = 277\n",
      "12/13 09:42:20 PM   Batch size = 32\n",
      "12/13 09:42:20 PM ***** Eval results *****\n",
      "12/13 09:42:20 PM   att_loss = 4.1132875812492244\n",
      "12/13 09:42:20 PM   cls_loss = 0.0\n",
      "12/13 09:42:20 PM   global_step = 299\n",
      "12/13 09:42:20 PM   loss = 5.529285615901883\n",
      "12/13 09:42:20 PM   rep_loss = 1.415998043423911\n",
      "12/13 09:42:20 PM ***** Save model *****\n",
      "12/13 09:42:29 PM ***** Running evaluation *****\n",
      "12/13 09:42:29 PM   Epoch = 0 iter 349 step\n",
      "12/13 09:42:29 PM   Num examples = 277\n",
      "12/13 09:42:29 PM   Batch size = 32\n",
      "12/13 09:42:29 PM ***** Eval results *****\n",
      "12/13 09:42:29 PM   att_loss = 4.074063529257788\n",
      "12/13 09:42:29 PM   cls_loss = 0.0\n",
      "12/13 09:42:29 PM   global_step = 349\n",
      "12/13 09:42:29 PM   loss = 5.455127478329022\n",
      "12/13 09:42:29 PM   rep_loss = 1.381063954536416\n",
      "12/13 09:42:29 PM ***** Save model *****\n",
      "12/13 09:42:37 PM ***** Running evaluation *****\n",
      "12/13 09:42:37 PM   Epoch = 0 iter 399 step\n",
      "12/13 09:42:37 PM   Num examples = 277\n",
      "12/13 09:42:37 PM   Batch size = 32\n",
      "12/13 09:42:37 PM ***** Eval results *****\n",
      "12/13 09:42:37 PM   att_loss = 4.063088866403527\n",
      "12/13 09:42:37 PM   cls_loss = 0.0\n",
      "12/13 09:42:37 PM   global_step = 399\n",
      "12/13 09:42:37 PM   loss = 5.417831561917948\n",
      "12/13 09:42:37 PM   rep_loss = 1.3547427008922834\n",
      "12/13 09:42:37 PM ***** Save model *****\n",
      "12/13 09:42:46 PM ***** Running evaluation *****\n",
      "12/13 09:42:46 PM   Epoch = 0 iter 449 step\n",
      "12/13 09:42:46 PM   Num examples = 277\n",
      "12/13 09:42:46 PM   Batch size = 32\n",
      "12/13 09:42:46 PM ***** Eval results *****\n",
      "12/13 09:42:46 PM   att_loss = 4.027959175789542\n",
      "12/13 09:42:46 PM   cls_loss = 0.0\n",
      "12/13 09:42:46 PM   global_step = 449\n",
      "12/13 09:42:46 PM   loss = 5.357633300772754\n",
      "12/13 09:42:46 PM   rep_loss = 1.329674129496704\n",
      "12/13 09:42:46 PM ***** Save model *****\n",
      "12/13 09:42:55 PM ***** Running evaluation *****\n",
      "12/13 09:42:55 PM   Epoch = 0 iter 499 step\n",
      "12/13 09:42:55 PM   Num examples = 277\n",
      "12/13 09:42:55 PM   Batch size = 32\n",
      "12/13 09:42:55 PM ***** Eval results *****\n",
      "12/13 09:42:55 PM   att_loss = 4.001101151735845\n",
      "12/13 09:42:55 PM   cls_loss = 0.0\n",
      "12/13 09:42:55 PM   global_step = 499\n",
      "12/13 09:42:55 PM   loss = 5.309727250215763\n",
      "12/13 09:42:55 PM   rep_loss = 1.3086261011077789\n",
      "12/13 09:42:55 PM ***** Save model *****\n"
     ]
    },
    {
     "data": {
      "application/vnd.jupyter.widget-view+json": {
       "model_id": "7493d2b811ed4b219861a17f01b166b2",
       "version_major": 2,
       "version_minor": 0
      },
      "text/plain": [
       "Iteration:   0%|          | 0/522 [00:00<?, ?it/s]"
      ]
     },
     "metadata": {},
     "output_type": "display_data"
    },
    {
     "name": "stdout",
     "output_type": "stream",
     "text": [
      "12/13 09:43:04 PM ***** Running evaluation *****\n",
      "12/13 09:43:04 PM   Epoch = 1 iter 549 step\n",
      "12/13 09:43:04 PM   Num examples = 277\n",
      "12/13 09:43:04 PM   Batch size = 32\n",
      "12/13 09:43:04 PM ***** Eval results *****\n",
      "12/13 09:43:04 PM   att_loss = 3.7034560527120317\n",
      "12/13 09:43:04 PM   cls_loss = 0.0\n",
      "12/13 09:43:04 PM   global_step = 549\n",
      "12/13 09:43:04 PM   loss = 4.8051718558583945\n",
      "12/13 09:43:04 PM   rep_loss = 1.1017157690865653\n",
      "12/13 09:43:04 PM ***** Save model *****\n",
      "12/13 09:43:12 PM ***** Running evaluation *****\n",
      "12/13 09:43:12 PM   Epoch = 1 iter 599 step\n",
      "12/13 09:43:12 PM   Num examples = 277\n",
      "12/13 09:43:12 PM   Batch size = 32\n",
      "12/13 09:43:12 PM ***** Eval results *****\n",
      "12/13 09:43:12 PM   att_loss = 3.7442278464635215\n",
      "12/13 09:43:12 PM   cls_loss = 0.0\n",
      "12/13 09:43:12 PM   global_step = 599\n",
      "12/13 09:43:12 PM   loss = 4.846582330190218\n",
      "12/13 09:43:12 PM   rep_loss = 1.1023544776134002\n",
      "12/13 09:43:12 PM ***** Save model *****\n",
      "12/13 09:43:21 PM ***** Running evaluation *****\n",
      "12/13 09:43:21 PM   Epoch = 1 iter 649 step\n",
      "12/13 09:43:21 PM   Num examples = 277\n",
      "12/13 09:43:21 PM   Batch size = 32\n",
      "12/13 09:43:21 PM ***** Eval results *****\n",
      "12/13 09:43:21 PM   att_loss = 3.7104621957987547\n",
      "12/13 09:43:21 PM   cls_loss = 0.0\n",
      "12/13 09:43:21 PM   global_step = 649\n",
      "12/13 09:43:21 PM   loss = 4.804697759449482\n",
      "12/13 09:43:21 PM   rep_loss = 1.0942355785518885\n",
      "12/13 09:43:21 PM ***** Save model *****\n",
      "12/13 09:43:29 PM ***** Running evaluation *****\n",
      "12/13 09:43:29 PM   Epoch = 1 iter 699 step\n",
      "12/13 09:43:29 PM   Num examples = 277\n",
      "12/13 09:43:29 PM   Batch size = 32\n",
      "12/13 09:43:29 PM ***** Eval results *****\n",
      "12/13 09:43:29 PM   att_loss = 3.707085999210229\n",
      "12/13 09:43:29 PM   cls_loss = 0.0\n",
      "12/13 09:43:29 PM   global_step = 699\n",
      "12/13 09:43:29 PM   loss = 4.796148326959503\n",
      "12/13 09:43:29 PM   rep_loss = 1.0890623424830062\n",
      "12/13 09:43:29 PM ***** Save model *****\n",
      "12/13 09:43:38 PM ***** Running evaluation *****\n",
      "12/13 09:43:38 PM   Epoch = 1 iter 749 step\n",
      "12/13 09:43:38 PM   Num examples = 277\n",
      "12/13 09:43:38 PM   Batch size = 32\n",
      "12/13 09:43:38 PM ***** Eval results *****\n",
      "12/13 09:43:38 PM   att_loss = 3.7013693640106604\n",
      "12/13 09:43:38 PM   cls_loss = 0.0\n",
      "12/13 09:43:38 PM   global_step = 749\n",
      "12/13 09:43:38 PM   loss = 4.7861272901819465\n",
      "12/13 09:43:38 PM   rep_loss = 1.0847579431638383\n",
      "12/13 09:43:38 PM ***** Save model *****\n",
      "12/13 09:43:47 PM ***** Running evaluation *****\n",
      "12/13 09:43:47 PM   Epoch = 1 iter 799 step\n",
      "12/13 09:43:47 PM   Num examples = 277\n",
      "12/13 09:43:47 PM   Batch size = 32\n",
      "12/13 09:43:47 PM ***** Eval results *****\n",
      "12/13 09:43:47 PM   att_loss = 3.707062986257265\n",
      "12/13 09:43:47 PM   cls_loss = 0.0\n",
      "12/13 09:43:47 PM   global_step = 799\n",
      "12/13 09:43:47 PM   loss = 4.788310731915261\n",
      "12/13 09:43:47 PM   rep_loss = 1.0812477512325314\n",
      "12/13 09:43:47 PM ***** Save model *****\n",
      "12/13 09:43:55 PM ***** Running evaluation *****\n",
      "12/13 09:43:55 PM   Epoch = 1 iter 849 step\n",
      "12/13 09:43:55 PM   Num examples = 277\n",
      "12/13 09:43:55 PM   Batch size = 32\n",
      "12/13 09:43:55 PM ***** Eval results *****\n",
      "12/13 09:43:55 PM   att_loss = 3.7193369996256944\n",
      "12/13 09:43:55 PM   cls_loss = 0.0\n",
      "12/13 09:43:55 PM   global_step = 849\n",
      "12/13 09:43:55 PM   loss = 4.798021435010724\n",
      "12/13 09:43:55 PM   rep_loss = 1.078684443199053\n",
      "12/13 09:43:55 PM ***** Save model *****\n",
      "12/13 09:44:04 PM ***** Running evaluation *****\n",
      "12/13 09:44:04 PM   Epoch = 1 iter 899 step\n",
      "12/13 09:44:04 PM   Num examples = 277\n",
      "12/13 09:44:04 PM   Batch size = 32\n",
      "12/13 09:44:04 PM ***** Eval results *****\n",
      "12/13 09:44:04 PM   att_loss = 3.714846587054944\n",
      "12/13 09:44:04 PM   cls_loss = 0.0\n",
      "12/13 09:44:04 PM   global_step = 899\n",
      "12/13 09:44:04 PM   loss = 4.789643025902844\n",
      "12/13 09:44:04 PM   rep_loss = 1.074796447678218\n",
      "12/13 09:44:04 PM ***** Save model *****\n",
      "12/13 09:44:13 PM ***** Running evaluation *****\n",
      "12/13 09:44:13 PM   Epoch = 1 iter 949 step\n",
      "12/13 09:44:13 PM   Num examples = 277\n",
      "12/13 09:44:13 PM   Batch size = 32\n",
      "12/13 09:44:13 PM ***** Eval results *****\n",
      "12/13 09:44:13 PM   att_loss = 3.713882086432983\n",
      "12/13 09:44:13 PM   cls_loss = 0.0\n",
      "12/13 09:44:13 PM   global_step = 949\n",
      "12/13 09:44:13 PM   loss = 4.7854101368199995\n",
      "12/13 09:44:13 PM   rep_loss = 1.0715280573501764\n",
      "12/13 09:44:13 PM ***** Save model *****\n",
      "12/13 09:44:21 PM ***** Running evaluation *****\n",
      "12/13 09:44:21 PM   Epoch = 1 iter 999 step\n",
      "12/13 09:44:21 PM   Num examples = 277\n",
      "12/13 09:44:21 PM   Batch size = 32\n",
      "12/13 09:44:21 PM ***** Eval results *****\n",
      "12/13 09:44:21 PM   att_loss = 3.7184599253921826\n",
      "12/13 09:44:21 PM   cls_loss = 0.0\n",
      "12/13 09:44:21 PM   global_step = 999\n",
      "12/13 09:44:21 PM   loss = 4.7875163425461515\n",
      "12/13 09:44:21 PM   rep_loss = 1.0690564218924135\n",
      "12/13 09:44:21 PM ***** Save model *****\n"
     ]
    },
    {
     "data": {
      "application/vnd.jupyter.widget-view+json": {
       "model_id": "767add32a82f46c1933b0947412c0694",
       "version_major": 2,
       "version_minor": 0
      },
      "text/plain": [
       "Iteration:   0%|          | 0/522 [00:00<?, ?it/s]"
      ]
     },
     "metadata": {},
     "output_type": "display_data"
    },
    {
     "name": "stdout",
     "output_type": "stream",
     "text": [
      "12/13 09:44:30 PM ***** Running evaluation *****\n",
      "12/13 09:44:30 PM   Epoch = 2 iter 1049 step\n",
      "12/13 09:44:30 PM   Num examples = 277\n",
      "12/13 09:44:30 PM   Batch size = 32\n",
      "12/13 09:44:30 PM ***** Eval results *****\n",
      "12/13 09:44:30 PM   att_loss = 3.576209919793265\n",
      "12/13 09:44:30 PM   cls_loss = 0.0\n",
      "12/13 09:44:30 PM   global_step = 1049\n",
      "12/13 09:44:30 PM   loss = 4.600911242621286\n",
      "12/13 09:44:30 PM   rep_loss = 1.0247013824326652\n",
      "12/13 09:44:30 PM ***** Save model *****\n",
      "12/13 09:44:39 PM ***** Running evaluation *****\n",
      "12/13 09:44:39 PM   Epoch = 2 iter 1099 step\n",
      "12/13 09:44:39 PM   Num examples = 277\n",
      "12/13 09:44:39 PM   Batch size = 32\n",
      "12/13 09:44:39 PM ***** Eval results *****\n",
      "12/13 09:44:39 PM   att_loss = 3.7090222459090385\n",
      "12/13 09:44:39 PM   cls_loss = 0.0\n",
      "12/13 09:44:39 PM   global_step = 1099\n",
      "12/13 09:44:39 PM   loss = 4.745470231039482\n",
      "12/13 09:44:39 PM   rep_loss = 1.0364479966330946\n",
      "12/13 09:44:39 PM ***** Save model *****\n",
      "12/13 09:44:48 PM ***** Running evaluation *****\n",
      "12/13 09:44:48 PM   Epoch = 2 iter 1149 step\n",
      "12/13 09:44:48 PM   Num examples = 277\n",
      "12/13 09:44:48 PM   Batch size = 32\n",
      "12/13 09:44:48 PM ***** Eval results *****\n",
      "12/13 09:44:48 PM   att_loss = 3.6916300158634363\n",
      "12/13 09:44:48 PM   cls_loss = 0.0\n",
      "12/13 09:44:48 PM   global_step = 1149\n",
      "12/13 09:44:48 PM   loss = 4.724773264376917\n",
      "12/13 09:44:48 PM   rep_loss = 1.033143249070533\n",
      "12/13 09:44:48 PM ***** Save model *****\n",
      "12/13 09:44:56 PM ***** Running evaluation *****\n",
      "12/13 09:44:56 PM   Epoch = 2 iter 1199 step\n",
      "12/13 09:44:56 PM   Num examples = 277\n",
      "12/13 09:44:56 PM   Batch size = 32\n",
      "12/13 09:44:56 PM ***** Eval results *****\n",
      "12/13 09:44:56 PM   att_loss = 3.6289824209395487\n",
      "12/13 09:44:56 PM   cls_loss = 0.0\n",
      "12/13 09:44:56 PM   global_step = 1199\n",
      "12/13 09:44:56 PM   loss = 4.655075263065897\n",
      "12/13 09:44:56 PM   rep_loss = 1.0260928463024699\n",
      "12/13 09:44:56 PM ***** Save model *****\n",
      "12/13 09:45:05 PM ***** Running evaluation *****\n",
      "12/13 09:45:05 PM   Epoch = 2 iter 1249 step\n",
      "12/13 09:45:05 PM   Num examples = 277\n",
      "12/13 09:45:05 PM   Batch size = 32\n",
      "12/13 09:45:05 PM ***** Eval results *****\n",
      "12/13 09:45:05 PM   att_loss = 3.6182970240496206\n",
      "12/13 09:45:05 PM   cls_loss = 0.0\n",
      "12/13 09:45:05 PM   global_step = 1249\n",
      "12/13 09:45:05 PM   loss = 4.641420996707419\n",
      "12/13 09:45:05 PM   rep_loss = 1.023123970642182\n",
      "12/13 09:45:05 PM ***** Save model *****\n",
      "12/13 09:45:14 PM ***** Running evaluation *****\n",
      "12/13 09:45:14 PM   Epoch = 2 iter 1299 step\n",
      "12/13 09:45:14 PM   Num examples = 277\n",
      "12/13 09:45:14 PM   Batch size = 32\n",
      "12/13 09:45:14 PM ***** Eval results *****\n",
      "12/13 09:45:14 PM   att_loss = 3.643416345351401\n",
      "12/13 09:45:14 PM   cls_loss = 0.0\n",
      "12/13 09:45:14 PM   global_step = 1299\n",
      "12/13 09:45:14 PM   loss = 4.666863568562014\n",
      "12/13 09:45:14 PM   rep_loss = 1.0234472239063872\n",
      "12/13 09:45:14 PM ***** Save model *****\n",
      "12/13 09:45:23 PM ***** Running evaluation *****\n",
      "12/13 09:45:23 PM   Epoch = 2 iter 1349 step\n",
      "12/13 09:45:23 PM   Num examples = 277\n",
      "12/13 09:45:23 PM   Batch size = 32\n",
      "12/13 09:45:23 PM ***** Eval results *****\n",
      "12/13 09:45:23 PM   att_loss = 3.6424163840104393\n",
      "12/13 09:45:23 PM   cls_loss = 0.0\n",
      "12/13 09:45:23 PM   global_step = 1349\n",
      "12/13 09:45:23 PM   loss = 4.664046354324888\n",
      "12/13 09:45:23 PM   rep_loss = 1.0216299728384235\n",
      "12/13 09:45:23 PM ***** Save model *****\n",
      "12/13 09:45:32 PM ***** Running evaluation *****\n",
      "12/13 09:45:32 PM   Epoch = 2 iter 1399 step\n",
      "12/13 09:45:32 PM   Num examples = 277\n",
      "12/13 09:45:32 PM   Batch size = 32\n",
      "12/13 09:45:32 PM ***** Eval results *****\n",
      "12/13 09:45:32 PM   att_loss = 3.648902334752871\n",
      "12/13 09:45:32 PM   cls_loss = 0.0\n",
      "12/13 09:45:32 PM   global_step = 1399\n",
      "12/13 09:45:32 PM   loss = 4.669619055355296\n",
      "12/13 09:45:32 PM   rep_loss = 1.020716723440742\n",
      "12/13 09:45:32 PM ***** Save model *****\n",
      "12/13 09:45:41 PM ***** Running evaluation *****\n",
      "12/13 09:45:41 PM   Epoch = 2 iter 1449 step\n",
      "12/13 09:45:41 PM   Num examples = 277\n",
      "12/13 09:45:41 PM   Batch size = 32\n",
      "12/13 09:45:41 PM ***** Eval results *****\n",
      "12/13 09:45:41 PM   att_loss = 3.643851851362561\n",
      "12/13 09:45:41 PM   cls_loss = 0.0\n",
      "12/13 09:45:41 PM   global_step = 1449\n",
      "12/13 09:45:41 PM   loss = 4.662610846011\n",
      "12/13 09:45:41 PM   rep_loss = 1.0187589949413365\n",
      "12/13 09:45:41 PM ***** Save model *****\n",
      "12/13 09:45:50 PM ***** Running evaluation *****\n",
      "12/13 09:45:50 PM   Epoch = 2 iter 1499 step\n",
      "12/13 09:45:50 PM   Num examples = 277\n",
      "12/13 09:45:50 PM   Batch size = 32\n",
      "12/13 09:45:50 PM ***** Eval results *****\n",
      "12/13 09:45:50 PM   att_loss = 3.6454673585536965\n",
      "12/13 09:45:50 PM   cls_loss = 0.0\n",
      "12/13 09:45:50 PM   global_step = 1499\n",
      "12/13 09:45:50 PM   loss = 4.662651656753908\n",
      "12/13 09:45:50 PM   rep_loss = 1.0171842982002108\n",
      "12/13 09:45:50 PM ***** Save model *****\n",
      "12/13 09:45:59 PM ***** Running evaluation *****\n",
      "12/13 09:45:59 PM   Epoch = 2 iter 1549 step\n",
      "12/13 09:45:59 PM   Num examples = 277\n",
      "12/13 09:45:59 PM   Batch size = 32\n",
      "12/13 09:45:59 PM ***** Eval results *****\n",
      "12/13 09:45:59 PM   att_loss = 3.6389757712211837\n",
      "12/13 09:45:59 PM   cls_loss = 0.0\n",
      "12/13 09:45:59 PM   global_step = 1549\n",
      "12/13 09:45:59 PM   loss = 4.654288359177419\n",
      "12/13 09:45:59 PM   rep_loss = 1.0153125885440517\n",
      "12/13 09:45:59 PM ***** Save model *****\n"
     ]
    },
    {
     "data": {
      "application/vnd.jupyter.widget-view+json": {
       "model_id": "494129371219406e9463a888e690eceb",
       "version_major": 2,
       "version_minor": 0
      },
      "text/plain": [
       "Iteration:   0%|          | 0/522 [00:00<?, ?it/s]"
      ]
     },
     "metadata": {},
     "output_type": "display_data"
    },
    {
     "name": "stdout",
     "output_type": "stream",
     "text": [
      "12/13 09:46:08 PM ***** Running evaluation *****\n",
      "12/13 09:46:08 PM   Epoch = 3 iter 1599 step\n",
      "12/13 09:46:08 PM   Num examples = 277\n",
      "12/13 09:46:08 PM   Batch size = 32\n",
      "12/13 09:46:08 PM ***** Eval results *****\n",
      "12/13 09:46:08 PM   att_loss = 3.5120571388138666\n",
      "12/13 09:46:08 PM   cls_loss = 0.0\n",
      "12/13 09:46:08 PM   global_step = 1599\n",
      "12/13 09:46:08 PM   loss = 4.501198808352153\n",
      "12/13 09:46:08 PM   rep_loss = 0.9891416562928094\n",
      "12/13 09:46:08 PM ***** Save model *****\n",
      "12/13 09:46:17 PM ***** Running evaluation *****\n",
      "12/13 09:46:17 PM   Epoch = 3 iter 1649 step\n",
      "12/13 09:46:17 PM   Num examples = 277\n",
      "12/13 09:46:17 PM   Batch size = 32\n",
      "12/13 09:46:17 PM ***** Eval results *****\n",
      "12/13 09:46:17 PM   att_loss = 3.5518198096474936\n",
      "12/13 09:46:17 PM   cls_loss = 0.0\n",
      "12/13 09:46:17 PM   global_step = 1649\n",
      "12/13 09:46:17 PM   loss = 4.543899222861889\n",
      "12/13 09:46:17 PM   rep_loss = 0.9920794263828633\n",
      "12/13 09:46:17 PM ***** Save model *****\n",
      "12/13 09:46:26 PM ***** Running evaluation *****\n",
      "12/13 09:46:26 PM   Epoch = 3 iter 1699 step\n",
      "12/13 09:46:26 PM   Num examples = 277\n",
      "12/13 09:46:26 PM   Batch size = 32\n",
      "12/13 09:46:26 PM ***** Eval results *****\n",
      "12/13 09:46:26 PM   att_loss = 3.5663640288745655\n",
      "12/13 09:46:26 PM   cls_loss = 0.0\n",
      "12/13 09:46:26 PM   global_step = 1699\n",
      "12/13 09:46:26 PM   loss = 4.559031211278018\n",
      "12/13 09:46:26 PM   rep_loss = 0.9926671859096078\n",
      "12/13 09:46:26 PM ***** Save model *****\n",
      "12/13 09:46:35 PM ***** Running evaluation *****\n",
      "12/13 09:46:35 PM   Epoch = 3 iter 1749 step\n",
      "12/13 09:46:35 PM   Num examples = 277\n",
      "12/13 09:46:35 PM   Batch size = 32\n",
      "12/13 09:46:35 PM ***** Eval results *****\n",
      "12/13 09:46:35 PM   att_loss = 3.595801181690667\n",
      "12/13 09:46:35 PM   cls_loss = 0.0\n",
      "12/13 09:46:35 PM   global_step = 1749\n",
      "12/13 09:46:35 PM   loss = 4.589808153849776\n",
      "12/13 09:46:35 PM   rep_loss = 0.9940069798500307\n",
      "12/13 09:46:35 PM ***** Save model *****\n",
      "12/13 09:46:44 PM ***** Running evaluation *****\n",
      "12/13 09:46:44 PM   Epoch = 3 iter 1799 step\n",
      "12/13 09:46:44 PM   Num examples = 277\n",
      "12/13 09:46:44 PM   Batch size = 32\n",
      "12/13 09:46:44 PM ***** Eval results *****\n",
      "12/13 09:46:44 PM   att_loss = 3.5769841782117293\n",
      "12/13 09:46:44 PM   cls_loss = 0.0\n",
      "12/13 09:46:44 PM   global_step = 1799\n",
      "12/13 09:46:44 PM   loss = 4.568731903019598\n",
      "12/13 09:46:44 PM   rep_loss = 0.9917477333949785\n",
      "12/13 09:46:44 PM ***** Save model *****\n",
      "12/13 09:46:52 PM ***** Running evaluation *****\n",
      "12/13 09:46:52 PM   Epoch = 3 iter 1849 step\n",
      "12/13 09:46:52 PM   Num examples = 277\n",
      "12/13 09:46:52 PM   Batch size = 32\n",
      "12/13 09:46:52 PM ***** Eval results *****\n",
      "12/13 09:46:52 PM   att_loss = 3.572255900689772\n",
      "12/13 09:46:52 PM   cls_loss = 0.0\n",
      "12/13 09:46:52 PM   global_step = 1849\n",
      "12/13 09:46:52 PM   loss = 4.562872915001182\n",
      "12/13 09:46:52 PM   rep_loss = 0.9906170157702653\n",
      "12/13 09:46:52 PM ***** Save model *****\n",
      "12/13 09:47:01 PM ***** Running evaluation *****\n",
      "12/13 09:47:01 PM   Epoch = 3 iter 1899 step\n",
      "12/13 09:47:01 PM   Num examples = 277\n",
      "12/13 09:47:01 PM   Batch size = 32\n",
      "12/13 09:47:01 PM ***** Eval results *****\n",
      "12/13 09:47:01 PM   att_loss = 3.5784090963147936\n",
      "12/13 09:47:01 PM   cls_loss = 0.0\n",
      "12/13 09:47:01 PM   global_step = 1899\n",
      "12/13 09:47:01 PM   loss = 4.568814956716129\n",
      "12/13 09:47:01 PM   rep_loss = 0.9904058604013353\n",
      "12/13 09:47:01 PM ***** Save model *****\n",
      "12/13 09:47:10 PM ***** Running evaluation *****\n",
      "12/13 09:47:10 PM   Epoch = 3 iter 1949 step\n",
      "12/13 09:47:10 PM   Num examples = 277\n",
      "12/13 09:47:10 PM   Batch size = 32\n",
      "12/13 09:47:10 PM ***** Eval results *****\n",
      "12/13 09:47:10 PM   att_loss = 3.5816795992727726\n",
      "12/13 09:47:10 PM   cls_loss = 0.0\n",
      "12/13 09:47:10 PM   global_step = 1949\n",
      "12/13 09:47:10 PM   loss = 4.571729946630606\n",
      "12/13 09:47:10 PM   rep_loss = 0.9900503430341809\n",
      "12/13 09:47:10 PM ***** Save model *****\n",
      "12/13 09:47:19 PM ***** Running evaluation *****\n",
      "12/13 09:47:19 PM   Epoch = 3 iter 1999 step\n",
      "12/13 09:47:19 PM   Num examples = 277\n",
      "12/13 09:47:19 PM   Batch size = 32\n",
      "12/13 09:47:19 PM ***** Eval results *****\n",
      "12/13 09:47:19 PM   att_loss = 3.574723675163514\n",
      "12/13 09:47:19 PM   cls_loss = 0.0\n",
      "12/13 09:47:19 PM   global_step = 1999\n",
      "12/13 09:47:19 PM   loss = 4.5634566605637925\n",
      "12/13 09:47:19 PM   rep_loss = 0.9887329834863681\n",
      "12/13 09:47:19 PM ***** Save model *****\n",
      "12/13 09:47:28 PM ***** Running evaluation *****\n",
      "12/13 09:47:28 PM   Epoch = 3 iter 2049 step\n",
      "12/13 09:47:28 PM   Num examples = 277\n",
      "12/13 09:47:28 PM   Batch size = 32\n",
      "12/13 09:47:28 PM ***** Eval results *****\n",
      "12/13 09:47:28 PM   att_loss = 3.5841897721153226\n",
      "12/13 09:47:28 PM   cls_loss = 0.0\n",
      "12/13 09:47:28 PM   global_step = 2049\n",
      "12/13 09:47:28 PM   loss = 4.573110000096231\n",
      "12/13 09:47:28 PM   rep_loss = 0.9889202239336791\n",
      "12/13 09:47:28 PM ***** Save model *****\n"
     ]
    },
    {
     "data": {
      "application/vnd.jupyter.widget-view+json": {
       "model_id": "98a1d8fe41b240a08136fe74ed1601ed",
       "version_major": 2,
       "version_minor": 0
      },
      "text/plain": [
       "Iteration:   0%|          | 0/522 [00:00<?, ?it/s]"
      ]
     },
     "metadata": {},
     "output_type": "display_data"
    },
    {
     "name": "stdout",
     "output_type": "stream",
     "text": [
      "12/13 09:47:37 PM ***** Running evaluation *****\n",
      "12/13 09:47:37 PM   Epoch = 4 iter 2099 step\n",
      "12/13 09:47:37 PM   Num examples = 277\n",
      "12/13 09:47:37 PM   Batch size = 32\n",
      "12/13 09:47:37 PM ***** Eval results *****\n",
      "12/13 09:47:37 PM   att_loss = 3.4930458227793375\n",
      "12/13 09:47:37 PM   cls_loss = 0.0\n",
      "12/13 09:47:37 PM   global_step = 2099\n",
      "12/13 09:47:37 PM   loss = 4.46686216990153\n",
      "12/13 09:47:37 PM   rep_loss = 0.9738163550694784\n",
      "12/13 09:47:37 PM ***** Save model *****\n",
      "12/13 09:47:46 PM ***** Running evaluation *****\n",
      "12/13 09:47:46 PM   Epoch = 4 iter 2149 step\n",
      "12/13 09:47:46 PM   Num examples = 277\n",
      "12/13 09:47:46 PM   Batch size = 32\n",
      "12/13 09:47:46 PM ***** Eval results *****\n",
      "12/13 09:47:46 PM   att_loss = 3.554863933416513\n",
      "12/13 09:47:46 PM   cls_loss = 0.0\n",
      "12/13 09:47:46 PM   global_step = 2149\n",
      "12/13 09:47:46 PM   loss = 4.531719336142907\n",
      "12/13 09:47:46 PM   rep_loss = 0.9768554008924044\n",
      "12/13 09:47:46 PM ***** Save model *****\n",
      "12/13 09:47:55 PM ***** Running evaluation *****\n",
      "12/13 09:47:55 PM   Epoch = 4 iter 2199 step\n",
      "12/13 09:47:55 PM   Num examples = 277\n",
      "12/13 09:47:55 PM   Batch size = 32\n",
      "12/13 09:47:55 PM ***** Eval results *****\n",
      "12/13 09:47:55 PM   att_loss = 3.5556247255076534\n",
      "12/13 09:47:55 PM   cls_loss = 0.0\n",
      "12/13 09:47:55 PM   global_step = 2199\n",
      "12/13 09:47:55 PM   loss = 4.531679182467253\n",
      "12/13 09:47:55 PM   rep_loss = 0.9760544714720353\n",
      "12/13 09:47:55 PM ***** Save model *****\n",
      "12/13 09:48:04 PM ***** Running evaluation *****\n",
      "12/13 09:48:04 PM   Epoch = 4 iter 2249 step\n",
      "12/13 09:48:04 PM   Num examples = 277\n",
      "12/13 09:48:04 PM   Batch size = 32\n",
      "12/13 09:48:04 PM ***** Eval results *****\n",
      "12/13 09:48:04 PM   att_loss = 3.5576524344357576\n",
      "12/13 09:48:04 PM   cls_loss = 0.0\n",
      "12/13 09:48:04 PM   global_step = 2249\n",
      "12/13 09:48:04 PM   loss = 4.533528446428703\n",
      "12/13 09:48:04 PM   rep_loss = 0.9758760145216278\n",
      "12/13 09:48:04 PM ***** Save model *****\n",
      "12/13 09:48:13 PM ***** Running evaluation *****\n",
      "12/13 09:48:13 PM   Epoch = 4 iter 2299 step\n",
      "12/13 09:48:13 PM   Num examples = 277\n",
      "12/13 09:48:13 PM   Batch size = 32\n",
      "12/13 09:48:13 PM ***** Eval results *****\n",
      "12/13 09:48:13 PM   att_loss = 3.557529462769974\n",
      "12/13 09:48:13 PM   cls_loss = 0.0\n",
      "12/13 09:48:13 PM   global_step = 2299\n",
      "12/13 09:48:13 PM   loss = 4.533352536933367\n",
      "12/13 09:48:13 PM   rep_loss = 0.9758230769357016\n",
      "12/13 09:48:13 PM ***** Save model *****\n",
      "12/13 09:48:22 PM ***** Running evaluation *****\n",
      "12/13 09:48:22 PM   Epoch = 4 iter 2349 step\n",
      "12/13 09:48:22 PM   Num examples = 277\n",
      "12/13 09:48:22 PM   Batch size = 32\n",
      "12/13 09:48:22 PM ***** Eval results *****\n",
      "12/13 09:48:22 PM   att_loss = 3.573936717915085\n",
      "12/13 09:48:22 PM   cls_loss = 0.0\n",
      "12/13 09:48:22 PM   global_step = 2349\n",
      "12/13 09:48:22 PM   loss = 4.5507750970012735\n",
      "12/13 09:48:22 PM   rep_loss = 0.9768383763871102\n",
      "12/13 09:48:22 PM ***** Save model *****\n",
      "12/13 09:48:30 PM ***** Running evaluation *****\n",
      "12/13 09:48:30 PM   Epoch = 4 iter 2399 step\n",
      "12/13 09:48:30 PM   Num examples = 277\n",
      "12/13 09:48:30 PM   Batch size = 32\n",
      "12/13 09:48:30 PM ***** Eval results *****\n",
      "12/13 09:48:30 PM   att_loss = 3.556996297836304\n",
      "12/13 09:48:30 PM   cls_loss = 0.0\n",
      "12/13 09:48:30 PM   global_step = 2399\n",
      "12/13 09:48:30 PM   loss = 4.531800592513312\n",
      "12/13 09:48:30 PM   rep_loss = 0.9748042924063546\n",
      "12/13 09:48:30 PM ***** Save model *****\n",
      "12/13 09:48:39 PM ***** Running evaluation *****\n",
      "12/13 09:48:39 PM   Epoch = 4 iter 2449 step\n",
      "12/13 09:48:39 PM   Num examples = 277\n",
      "12/13 09:48:39 PM   Batch size = 32\n",
      "12/13 09:48:39 PM ***** Eval results *****\n",
      "12/13 09:48:39 PM   att_loss = 3.5553717267023375\n",
      "12/13 09:48:39 PM   cls_loss = 0.0\n",
      "12/13 09:48:39 PM   global_step = 2449\n",
      "12/13 09:48:39 PM   loss = 4.529562353761229\n",
      "12/13 09:48:39 PM   rep_loss = 0.9741906264056898\n",
      "12/13 09:48:39 PM ***** Save model *****\n",
      "12/13 09:48:48 PM ***** Running evaluation *****\n",
      "12/13 09:48:48 PM   Epoch = 4 iter 2499 step\n",
      "12/13 09:48:48 PM   Num examples = 277\n",
      "12/13 09:48:48 PM   Batch size = 32\n",
      "12/13 09:48:48 PM ***** Eval results *****\n",
      "12/13 09:48:48 PM   att_loss = 3.5570390276162023\n",
      "12/13 09:48:48 PM   cls_loss = 0.0\n",
      "12/13 09:48:48 PM   global_step = 2499\n",
      "12/13 09:48:48 PM   loss = 4.530887046492244\n",
      "12/13 09:48:48 PM   rep_loss = 0.9738480200250464\n",
      "12/13 09:48:48 PM ***** Save model *****\n",
      "12/13 09:48:57 PM ***** Running evaluation *****\n",
      "12/13 09:48:57 PM   Epoch = 4 iter 2549 step\n",
      "12/13 09:48:57 PM   Num examples = 277\n",
      "12/13 09:48:57 PM   Batch size = 32\n",
      "12/13 09:48:57 PM ***** Eval results *****\n",
      "12/13 09:48:57 PM   att_loss = 3.552188313904629\n",
      "12/13 09:48:57 PM   cls_loss = 0.0\n",
      "12/13 09:48:57 PM   global_step = 2549\n",
      "12/13 09:48:57 PM   loss = 4.52509914828885\n",
      "12/13 09:48:57 PM   rep_loss = 0.9729108378451358\n",
      "12/13 09:48:57 PM ***** Save model *****\n",
      "12/13 09:49:06 PM ***** Running evaluation *****\n",
      "12/13 09:49:06 PM   Epoch = 4 iter 2599 step\n",
      "12/13 09:49:06 PM   Num examples = 277\n",
      "12/13 09:49:06 PM   Batch size = 32\n",
      "12/13 09:49:06 PM ***** Eval results *****\n",
      "12/13 09:49:06 PM   att_loss = 3.550641493195469\n",
      "12/13 09:49:06 PM   cls_loss = 0.0\n",
      "12/13 09:49:06 PM   global_step = 2599\n",
      "12/13 09:49:06 PM   loss = 4.522963566456026\n",
      "12/13 09:49:06 PM   rep_loss = 0.9723220774270955\n",
      "12/13 09:49:06 PM ***** Save model *****\n"
     ]
    },
    {
     "data": {
      "application/vnd.jupyter.widget-view+json": {
       "model_id": "a0b56549f6274fa1b87ad6a3b7539bb5",
       "version_major": 2,
       "version_minor": 0
      },
      "text/plain": [
       "Iteration:   0%|          | 0/522 [00:00<?, ?it/s]"
      ]
     },
     "metadata": {},
     "output_type": "display_data"
    },
    {
     "name": "stdout",
     "output_type": "stream",
     "text": [
      "12/13 09:49:15 PM ***** Running evaluation *****\n",
      "12/13 09:49:15 PM   Epoch = 5 iter 2649 step\n",
      "12/13 09:49:15 PM   Num examples = 277\n",
      "12/13 09:49:15 PM   Batch size = 32\n",
      "12/13 09:49:15 PM ***** Eval results *****\n",
      "12/13 09:49:15 PM   att_loss = 3.528121769428253\n",
      "12/13 09:49:15 PM   cls_loss = 0.0\n",
      "12/13 09:49:15 PM   global_step = 2649\n",
      "12/13 09:49:15 PM   loss = 4.493611774661324\n",
      "12/13 09:49:15 PM   rep_loss = 0.965489998459816\n",
      "12/13 09:49:15 PM ***** Save model *****\n",
      "12/13 09:49:24 PM ***** Running evaluation *****\n",
      "12/13 09:49:24 PM   Epoch = 5 iter 2699 step\n",
      "12/13 09:49:24 PM   Num examples = 277\n",
      "12/13 09:49:24 PM   Batch size = 32\n",
      "12/13 09:49:24 PM ***** Eval results *****\n",
      "12/13 09:49:24 PM   att_loss = 3.5319980180009884\n",
      "12/13 09:49:24 PM   cls_loss = 0.0\n",
      "12/13 09:49:24 PM   global_step = 2699\n",
      "12/13 09:49:24 PM   loss = 4.497966076465363\n",
      "12/13 09:49:24 PM   rep_loss = 0.9659680508552714\n",
      "12/13 09:49:24 PM ***** Save model *****\n",
      "12/13 09:49:32 PM ***** Running evaluation *****\n",
      "12/13 09:49:32 PM   Epoch = 5 iter 2749 step\n",
      "12/13 09:49:32 PM   Num examples = 277\n",
      "12/13 09:49:32 PM   Batch size = 32\n",
      "12/13 09:49:32 PM ***** Eval results *****\n",
      "12/13 09:49:32 PM   att_loss = 3.5508063269986048\n",
      "12/13 09:49:32 PM   cls_loss = 0.0\n",
      "12/13 09:49:32 PM   global_step = 2749\n",
      "12/13 09:49:32 PM   loss = 4.517420954174465\n",
      "12/13 09:49:32 PM   rep_loss = 0.9666146280037032\n",
      "12/13 09:49:32 PM ***** Save model *****\n",
      "12/13 09:49:41 PM ***** Running evaluation *****\n",
      "12/13 09:49:41 PM   Epoch = 5 iter 2799 step\n",
      "12/13 09:49:41 PM   Num examples = 277\n",
      "12/13 09:49:41 PM   Batch size = 32\n",
      "12/13 09:49:41 PM ***** Eval results *****\n",
      "12/13 09:49:41 PM   att_loss = 3.520136550529716\n",
      "12/13 09:49:41 PM   cls_loss = 0.0\n",
      "12/13 09:49:41 PM   global_step = 2799\n",
      "12/13 09:49:41 PM   loss = 4.484031361402924\n",
      "12/13 09:49:41 PM   rep_loss = 0.9638948130238917\n",
      "12/13 09:49:41 PM ***** Save model *****\n",
      "12/13 09:49:50 PM ***** Running evaluation *****\n",
      "12/13 09:49:50 PM   Epoch = 5 iter 2849 step\n",
      "12/13 09:49:50 PM   Num examples = 277\n",
      "12/13 09:49:50 PM   Batch size = 32\n",
      "12/13 09:49:50 PM ***** Eval results *****\n",
      "12/13 09:49:50 PM   att_loss = 3.530091261277433\n",
      "12/13 09:49:50 PM   cls_loss = 0.0\n",
      "12/13 09:49:50 PM   global_step = 2849\n",
      "12/13 09:49:50 PM   loss = 4.494448111682642\n",
      "12/13 09:49:50 PM   rep_loss = 0.964356853825147\n",
      "12/13 09:49:50 PM ***** Save model *****\n",
      "12/13 09:49:59 PM ***** Running evaluation *****\n",
      "12/13 09:49:59 PM   Epoch = 5 iter 2899 step\n",
      "12/13 09:49:59 PM   Num examples = 277\n",
      "12/13 09:49:59 PM   Batch size = 32\n",
      "12/13 09:49:59 PM ***** Eval results *****\n",
      "12/13 09:49:59 PM   att_loss = 3.501734039410442\n",
      "12/13 09:49:59 PM   cls_loss = 0.0\n",
      "12/13 09:49:59 PM   global_step = 2899\n",
      "12/13 09:49:59 PM   loss = 4.463375297533411\n",
      "12/13 09:49:59 PM   rep_loss = 0.9616412585284434\n",
      "12/13 09:49:59 PM ***** Save model *****\n",
      "12/13 09:50:08 PM ***** Running evaluation *****\n",
      "12/13 09:50:08 PM   Epoch = 5 iter 2949 step\n",
      "12/13 09:50:08 PM   Num examples = 277\n",
      "12/13 09:50:08 PM   Batch size = 32\n",
      "12/13 09:50:08 PM ***** Eval results *****\n",
      "12/13 09:50:08 PM   att_loss = 3.515716992145361\n",
      "12/13 09:50:08 PM   cls_loss = 0.0\n",
      "12/13 09:50:08 PM   global_step = 2949\n",
      "12/13 09:50:08 PM   loss = 4.478050915307777\n",
      "12/13 09:50:08 PM   rep_loss = 0.9623339255881864\n",
      "12/13 09:50:08 PM ***** Save model *****\n",
      "12/13 09:50:16 PM ***** Running evaluation *****\n",
      "12/13 09:50:16 PM   Epoch = 5 iter 2999 step\n",
      "12/13 09:50:16 PM   Num examples = 277\n",
      "12/13 09:50:16 PM   Batch size = 32\n",
      "12/13 09:50:16 PM ***** Eval results *****\n",
      "12/13 09:50:16 PM   att_loss = 3.5241171436261403\n",
      "12/13 09:50:16 PM   cls_loss = 0.0\n",
      "12/13 09:50:16 PM   global_step = 2999\n",
      "12/13 09:50:16 PM   loss = 4.4867834040356165\n",
      "12/13 09:50:16 PM   rep_loss = 0.962666260560757\n",
      "12/13 09:50:16 PM ***** Save model *****\n",
      "12/13 09:50:25 PM ***** Running evaluation *****\n",
      "12/13 09:50:25 PM   Epoch = 5 iter 3049 step\n",
      "12/13 09:50:25 PM   Num examples = 277\n",
      "12/13 09:50:25 PM   Batch size = 32\n",
      "12/13 09:50:25 PM ***** Eval results *****\n",
      "12/13 09:50:25 PM   att_loss = 3.5271231499878137\n",
      "12/13 09:50:25 PM   cls_loss = 0.0\n",
      "12/13 09:50:25 PM   global_step = 3049\n",
      "12/13 09:50:25 PM   loss = 4.489766090302854\n",
      "12/13 09:50:25 PM   rep_loss = 0.9626429425972002\n",
      "12/13 09:50:25 PM ***** Save model *****\n",
      "12/13 09:50:34 PM ***** Running evaluation *****\n",
      "12/13 09:50:34 PM   Epoch = 5 iter 3099 step\n",
      "12/13 09:50:34 PM   Num examples = 277\n",
      "12/13 09:50:34 PM   Batch size = 32\n",
      "12/13 09:50:34 PM ***** Eval results *****\n",
      "12/13 09:50:34 PM   att_loss = 3.521004356353389\n",
      "12/13 09:50:34 PM   cls_loss = 0.0\n",
      "12/13 09:50:34 PM   global_step = 3099\n",
      "12/13 09:50:34 PM   loss = 4.4827538868676315\n",
      "12/13 09:50:34 PM   rep_loss = 0.9617495322034426\n",
      "12/13 09:50:34 PM ***** Save model *****\n"
     ]
    },
    {
     "data": {
      "application/vnd.jupyter.widget-view+json": {
       "model_id": "26709a6bc99a4965a8d095c8470e209c",
       "version_major": 2,
       "version_minor": 0
      },
      "text/plain": [
       "Iteration:   0%|          | 0/522 [00:00<?, ?it/s]"
      ]
     },
     "metadata": {},
     "output_type": "display_data"
    },
    {
     "name": "stdout",
     "output_type": "stream",
     "text": [
      "12/13 09:50:43 PM ***** Running evaluation *****\n",
      "12/13 09:50:43 PM   Epoch = 6 iter 3149 step\n",
      "12/13 09:50:43 PM   Num examples = 277\n",
      "12/13 09:50:43 PM   Batch size = 32\n",
      "12/13 09:50:43 PM ***** Eval results *****\n",
      "12/13 09:50:43 PM   att_loss = 3.4012620552726416\n",
      "12/13 09:50:43 PM   cls_loss = 0.0\n",
      "12/13 09:50:43 PM   global_step = 3149\n",
      "12/13 09:50:43 PM   loss = 4.3478950313899825\n",
      "12/13 09:50:43 PM   rep_loss = 0.9466330020324044\n",
      "12/13 09:50:43 PM ***** Save model *****\n",
      "12/13 09:50:52 PM ***** Running evaluation *****\n",
      "12/13 09:50:52 PM   Epoch = 6 iter 3199 step\n",
      "12/13 09:50:52 PM   Num examples = 277\n",
      "12/13 09:50:52 PM   Batch size = 32\n",
      "12/13 09:50:52 PM ***** Eval results *****\n",
      "12/13 09:50:52 PM   att_loss = 3.4322082506467217\n",
      "12/13 09:50:52 PM   cls_loss = 0.0\n",
      "12/13 09:50:52 PM   global_step = 3199\n",
      "12/13 09:50:52 PM   loss = 4.382360507364142\n",
      "12/13 09:50:52 PM   rep_loss = 0.9501522640659384\n",
      "12/13 09:50:52 PM ***** Save model *****\n",
      "12/13 09:51:00 PM ***** Running evaluation *****\n",
      "12/13 09:51:00 PM   Epoch = 6 iter 3249 step\n",
      "12/13 09:51:00 PM   Num examples = 277\n",
      "12/13 09:51:00 PM   Batch size = 32\n",
      "12/13 09:51:00 PM ***** Eval results *****\n",
      "12/13 09:51:00 PM   att_loss = 3.461839485943802\n",
      "12/13 09:51:00 PM   cls_loss = 0.0\n",
      "12/13 09:51:00 PM   global_step = 3249\n",
      "12/13 09:51:00 PM   loss = 4.414008791853742\n",
      "12/13 09:51:00 PM   rep_loss = 0.9521693073637117\n",
      "12/13 09:51:00 PM ***** Save model *****\n",
      "12/13 09:51:09 PM ***** Running evaluation *****\n",
      "12/13 09:51:09 PM   Epoch = 6 iter 3299 step\n",
      "12/13 09:51:09 PM   Num examples = 277\n",
      "12/13 09:51:09 PM   Batch size = 32\n",
      "12/13 09:51:09 PM ***** Eval results *****\n",
      "12/13 09:51:09 PM   att_loss = 3.456439277340222\n",
      "12/13 09:51:09 PM   cls_loss = 0.0\n",
      "12/13 09:51:09 PM   global_step = 3299\n",
      "12/13 09:51:09 PM   loss = 4.408231075099438\n",
      "12/13 09:51:09 PM   rep_loss = 0.9517918012045712\n",
      "12/13 09:51:09 PM ***** Save model *****\n",
      "12/13 09:51:18 PM ***** Running evaluation *****\n",
      "12/13 09:51:18 PM   Epoch = 6 iter 3349 step\n",
      "12/13 09:51:18 PM   Num examples = 277\n",
      "12/13 09:51:18 PM   Batch size = 32\n",
      "12/13 09:51:18 PM ***** Eval results *****\n",
      "12/13 09:51:18 PM   att_loss = 3.4823432802619423\n",
      "12/13 09:51:18 PM   cls_loss = 0.0\n",
      "12/13 09:51:18 PM   global_step = 3349\n",
      "12/13 09:51:18 PM   loss = 4.436334781048009\n",
      "12/13 09:51:18 PM   rep_loss = 0.9539914986477839\n",
      "12/13 09:51:18 PM ***** Save model *****\n",
      "12/13 09:51:26 PM ***** Running evaluation *****\n",
      "12/13 09:51:26 PM   Epoch = 6 iter 3399 step\n",
      "12/13 09:51:26 PM   Num examples = 277\n",
      "12/13 09:51:26 PM   Batch size = 32\n",
      "12/13 09:51:26 PM ***** Eval results *****\n",
      "12/13 09:51:26 PM   att_loss = 3.4885863349551247\n",
      "12/13 09:51:26 PM   cls_loss = 0.0\n",
      "12/13 09:51:26 PM   global_step = 3399\n",
      "12/13 09:51:26 PM   loss = 4.442759450102027\n",
      "12/13 09:51:26 PM   rep_loss = 0.9541731136185783\n",
      "12/13 09:51:26 PM ***** Save model *****\n",
      "12/13 09:51:35 PM ***** Running evaluation *****\n",
      "12/13 09:51:35 PM   Epoch = 6 iter 3449 step\n",
      "12/13 09:51:35 PM   Num examples = 277\n",
      "12/13 09:51:35 PM   Batch size = 32\n",
      "12/13 09:51:35 PM ***** Eval results *****\n",
      "12/13 09:51:35 PM   att_loss = 3.492896268242284\n",
      "12/13 09:51:35 PM   cls_loss = 0.0\n",
      "12/13 09:51:35 PM   global_step = 3449\n",
      "12/13 09:51:35 PM   loss = 4.447078371195602\n",
      "12/13 09:51:35 PM   rep_loss = 0.954182106459473\n",
      "12/13 09:51:35 PM ***** Save model *****\n",
      "12/13 09:51:44 PM ***** Running evaluation *****\n",
      "12/13 09:51:44 PM   Epoch = 6 iter 3499 step\n",
      "12/13 09:51:44 PM   Num examples = 277\n",
      "12/13 09:51:44 PM   Batch size = 32\n",
      "12/13 09:51:44 PM ***** Eval results *****\n",
      "12/13 09:51:44 PM   att_loss = 3.4992282742150027\n",
      "12/13 09:51:44 PM   cls_loss = 0.0\n",
      "12/13 09:51:44 PM   global_step = 3499\n",
      "12/13 09:51:44 PM   loss = 4.453583059617725\n",
      "12/13 09:51:44 PM   rep_loss = 0.9543547890780758\n",
      "12/13 09:51:44 PM ***** Save model *****\n",
      "12/13 09:51:53 PM ***** Running evaluation *****\n",
      "12/13 09:51:53 PM   Epoch = 6 iter 3549 step\n",
      "12/13 09:51:53 PM   Num examples = 277\n",
      "12/13 09:51:53 PM   Batch size = 32\n",
      "12/13 09:51:53 PM ***** Eval results *****\n",
      "12/13 09:51:53 PM   att_loss = 3.4955173102394625\n",
      "12/13 09:51:53 PM   cls_loss = 0.0\n",
      "12/13 09:51:53 PM   global_step = 3549\n",
      "12/13 09:51:53 PM   loss = 4.4491844070155\n",
      "12/13 09:51:53 PM   rep_loss = 0.9536671032578669\n",
      "12/13 09:51:53 PM ***** Save model *****\n",
      "12/13 09:52:02 PM ***** Running evaluation *****\n",
      "12/13 09:52:02 PM   Epoch = 6 iter 3599 step\n",
      "12/13 09:52:02 PM   Num examples = 277\n",
      "12/13 09:52:02 PM   Batch size = 32\n",
      "12/13 09:52:02 PM ***** Eval results *****\n",
      "12/13 09:52:02 PM   att_loss = 3.4956208737153585\n",
      "12/13 09:52:02 PM   cls_loss = 0.0\n",
      "12/13 09:52:02 PM   global_step = 3599\n",
      "12/13 09:52:02 PM   loss = 4.449137947272044\n",
      "12/13 09:52:02 PM   rep_loss = 0.9535170798573888\n",
      "12/13 09:52:02 PM ***** Save model *****\n"
     ]
    },
    {
     "data": {
      "application/vnd.jupyter.widget-view+json": {
       "model_id": "532abb2ede214e7bb28e29167500955f",
       "version_major": 2,
       "version_minor": 0
      },
      "text/plain": [
       "Iteration:   0%|          | 0/522 [00:00<?, ?it/s]"
      ]
     },
     "metadata": {},
     "output_type": "display_data"
    },
    {
     "name": "stdout",
     "output_type": "stream",
     "text": [
      "12/13 09:52:11 PM ***** Running evaluation *****\n",
      "12/13 09:52:11 PM   Epoch = 7 iter 3649 step\n",
      "12/13 09:52:11 PM   Num examples = 277\n",
      "12/13 09:52:11 PM   Batch size = 32\n",
      "12/13 09:52:11 PM ***** Eval results *****\n",
      "12/13 09:52:11 PM   att_loss = 2.983149766921997\n",
      "12/13 09:52:11 PM   cls_loss = 0.0\n",
      "12/13 09:52:11 PM   global_step = 3649\n",
      "12/13 09:52:11 PM   loss = 3.8926455974578857\n",
      "12/13 09:52:11 PM   rep_loss = 0.9094957709312439\n",
      "12/13 09:52:11 PM ***** Save model *****\n",
      "12/13 09:52:20 PM ***** Running evaluation *****\n",
      "12/13 09:52:20 PM   Epoch = 7 iter 3699 step\n",
      "12/13 09:52:20 PM   Num examples = 277\n",
      "12/13 09:52:20 PM   Batch size = 32\n",
      "12/13 09:52:20 PM ***** Eval results *****\n",
      "12/13 09:52:20 PM   att_loss = 3.4402474669309764\n",
      "12/13 09:52:20 PM   cls_loss = 0.0\n",
      "12/13 09:52:20 PM   global_step = 3699\n",
      "12/13 09:52:20 PM   loss = 4.387459461505596\n",
      "12/13 09:52:20 PM   rep_loss = 0.947212007183295\n",
      "12/13 09:52:20 PM ***** Save model *****\n",
      "12/13 09:52:29 PM ***** Running evaluation *****\n",
      "12/13 09:52:29 PM   Epoch = 7 iter 3749 step\n",
      "12/13 09:52:29 PM   Num examples = 277\n",
      "12/13 09:52:29 PM   Batch size = 32\n",
      "12/13 09:52:29 PM ***** Eval results *****\n",
      "12/13 09:52:29 PM   att_loss = 3.473369729285147\n",
      "12/13 09:52:29 PM   cls_loss = 0.0\n",
      "12/13 09:52:29 PM   global_step = 3749\n",
      "12/13 09:52:29 PM   loss = 4.421787191839779\n",
      "12/13 09:52:29 PM   rep_loss = 0.9484174847602844\n",
      "12/13 09:52:29 PM ***** Save model *****\n",
      "12/13 09:52:38 PM ***** Running evaluation *****\n",
      "12/13 09:52:38 PM   Epoch = 7 iter 3799 step\n",
      "12/13 09:52:38 PM   Num examples = 277\n",
      "12/13 09:52:38 PM   Batch size = 32\n",
      "12/13 09:52:38 PM ***** Eval results *****\n",
      "12/13 09:52:38 PM   att_loss = 3.472127213289863\n",
      "12/13 09:52:38 PM   cls_loss = 0.0\n",
      "12/13 09:52:38 PM   global_step = 3799\n",
      "12/13 09:52:38 PM   loss = 4.419802259457739\n",
      "12/13 09:52:38 PM   rep_loss = 0.9476750645982591\n",
      "12/13 09:52:38 PM ***** Save model *****\n",
      "12/13 09:52:47 PM ***** Running evaluation *****\n",
      "12/13 09:52:47 PM   Epoch = 7 iter 3849 step\n",
      "12/13 09:52:47 PM   Num examples = 277\n",
      "12/13 09:52:47 PM   Batch size = 32\n",
      "12/13 09:52:47 PM ***** Eval results *****\n",
      "12/13 09:52:47 PM   att_loss = 3.4731762857720403\n",
      "12/13 09:52:47 PM   cls_loss = 0.0\n",
      "12/13 09:52:47 PM   global_step = 3849\n",
      "12/13 09:52:47 PM   loss = 4.420847505626112\n",
      "12/13 09:52:47 PM   rep_loss = 0.9476712366732041\n",
      "12/13 09:52:47 PM ***** Save model *****\n",
      "12/13 09:52:55 PM ***** Running evaluation *****\n",
      "12/13 09:52:55 PM   Epoch = 7 iter 3899 step\n",
      "12/13 09:52:55 PM   Num examples = 277\n",
      "12/13 09:52:55 PM   Batch size = 32\n",
      "12/13 09:52:55 PM ***** Eval results *****\n",
      "12/13 09:52:55 PM   att_loss = 3.4592605554868303\n",
      "12/13 09:52:55 PM   cls_loss = 0.0\n",
      "12/13 09:52:55 PM   global_step = 3899\n",
      "12/13 09:52:55 PM   loss = 4.406262202868386\n",
      "12/13 09:52:55 PM   rep_loss = 0.9470016634653485\n",
      "12/13 09:52:55 PM ***** Save model *****\n",
      "12/13 09:53:04 PM ***** Running evaluation *****\n",
      "12/13 09:53:04 PM   Epoch = 7 iter 3949 step\n",
      "12/13 09:53:04 PM   Num examples = 277\n",
      "12/13 09:53:04 PM   Batch size = 32\n",
      "12/13 09:53:04 PM ***** Eval results *****\n",
      "12/13 09:53:04 PM   att_loss = 3.456859347836071\n",
      "12/13 09:53:04 PM   cls_loss = 0.0\n",
      "12/13 09:53:04 PM   global_step = 3949\n",
      "12/13 09:53:04 PM   loss = 4.403819785212839\n",
      "12/13 09:53:04 PM   rep_loss = 0.9469604521792456\n",
      "12/13 09:53:04 PM ***** Save model *****\n",
      "12/13 09:53:13 PM ***** Running evaluation *****\n",
      "12/13 09:53:13 PM   Epoch = 7 iter 3999 step\n",
      "12/13 09:53:13 PM   Num examples = 277\n",
      "12/13 09:53:13 PM   Batch size = 32\n",
      "12/13 09:53:13 PM ***** Eval results *****\n",
      "12/13 09:53:13 PM   att_loss = 3.475688716227358\n",
      "12/13 09:53:13 PM   cls_loss = 0.0\n",
      "12/13 09:53:13 PM   global_step = 3999\n",
      "12/13 09:53:13 PM   loss = 4.423971835185181\n",
      "12/13 09:53:13 PM   rep_loss = 0.9482831321656704\n",
      "12/13 09:53:13 PM ***** Save model *****\n",
      "12/13 09:53:25 PM ***** Running evaluation *****\n",
      "12/13 09:53:25 PM   Epoch = 7 iter 4049 step\n",
      "12/13 09:53:25 PM   Num examples = 277\n",
      "12/13 09:53:25 PM   Batch size = 32\n",
      "12/13 09:53:25 PM ***** Eval results *****\n",
      "12/13 09:53:25 PM   att_loss = 3.4907237220166336\n",
      "12/13 09:53:25 PM   cls_loss = 0.0\n",
      "12/13 09:53:25 PM   global_step = 4049\n",
      "12/13 09:53:25 PM   loss = 4.439804262189723\n",
      "12/13 09:53:25 PM   rep_loss = 0.9490805501071968\n",
      "12/13 09:53:25 PM ***** Save model *****\n",
      "12/13 09:53:39 PM ***** Running evaluation *****\n",
      "12/13 09:53:39 PM   Epoch = 7 iter 4099 step\n",
      "12/13 09:53:39 PM   Num examples = 277\n",
      "12/13 09:53:39 PM   Batch size = 32\n",
      "12/13 09:53:39 PM ***** Eval results *****\n",
      "12/13 09:53:39 PM   att_loss = 3.4836643301280197\n",
      "12/13 09:53:39 PM   cls_loss = 0.0\n",
      "12/13 09:53:39 PM   global_step = 4099\n",
      "12/13 09:53:39 PM   loss = 4.432004573598372\n",
      "12/13 09:53:39 PM   rep_loss = 0.9483402536242409\n",
      "12/13 09:53:39 PM ***** Save model *****\n",
      "12/13 09:53:56 PM ***** Running evaluation *****\n",
      "12/13 09:53:56 PM   Epoch = 7 iter 4149 step\n",
      "12/13 09:53:56 PM   Num examples = 277\n",
      "12/13 09:53:56 PM   Batch size = 32\n",
      "12/13 09:53:56 PM ***** Eval results *****\n",
      "12/13 09:53:56 PM   att_loss = 3.4783241824799798\n",
      "12/13 09:53:56 PM   cls_loss = 0.0\n",
      "12/13 09:53:56 PM   global_step = 4149\n",
      "12/13 09:53:56 PM   loss = 4.426056673802227\n",
      "12/13 09:53:56 PM   rep_loss = 0.947732499871121\n",
      "12/13 09:53:56 PM ***** Save model *****\n"
     ]
    },
    {
     "data": {
      "application/vnd.jupyter.widget-view+json": {
       "model_id": "fb6e0f84df9e4fc3b9ae74bdeec820bf",
       "version_major": 2,
       "version_minor": 0
      },
      "text/plain": [
       "Iteration:   0%|          | 0/522 [00:00<?, ?it/s]"
      ]
     },
     "metadata": {},
     "output_type": "display_data"
    },
    {
     "name": "stdout",
     "output_type": "stream",
     "text": [
      "12/13 09:54:12 PM ***** Running evaluation *****\n",
      "12/13 09:54:12 PM   Epoch = 8 iter 4199 step\n",
      "12/13 09:54:12 PM   Num examples = 277\n",
      "12/13 09:54:12 PM   Batch size = 32\n",
      "12/13 09:54:12 PM ***** Eval results *****\n",
      "12/13 09:54:12 PM   att_loss = 3.4695959552641837\n",
      "12/13 09:54:12 PM   cls_loss = 0.0\n",
      "12/13 09:54:12 PM   global_step = 4199\n",
      "12/13 09:54:12 PM   loss = 4.413750040915705\n",
      "12/13 09:54:12 PM   rep_loss = 0.9441540395059893\n",
      "12/13 09:54:12 PM ***** Save model *****\n",
      "12/13 09:54:28 PM ***** Running evaluation *****\n",
      "12/13 09:54:28 PM   Epoch = 8 iter 4249 step\n",
      "12/13 09:54:28 PM   Num examples = 277\n",
      "12/13 09:54:28 PM   Batch size = 32\n",
      "12/13 09:54:28 PM ***** Eval results *****\n",
      "12/13 09:54:28 PM   att_loss = 3.455381284525365\n",
      "12/13 09:54:28 PM   cls_loss = 0.0\n",
      "12/13 09:54:28 PM   global_step = 4249\n",
      "12/13 09:54:28 PM   loss = 4.398703204260932\n",
      "12/13 09:54:28 PM   rep_loss = 0.943321892508754\n",
      "12/13 09:54:28 PM ***** Save model *****\n",
      "12/13 09:54:44 PM ***** Running evaluation *****\n",
      "12/13 09:54:44 PM   Epoch = 8 iter 4299 step\n",
      "12/13 09:54:44 PM   Num examples = 277\n",
      "12/13 09:54:44 PM   Batch size = 32\n",
      "12/13 09:54:44 PM ***** Eval results *****\n",
      "12/13 09:54:44 PM   att_loss = 3.47613276052111\n",
      "12/13 09:54:44 PM   cls_loss = 0.0\n",
      "12/13 09:54:44 PM   global_step = 4299\n",
      "12/13 09:54:44 PM   loss = 4.421279321190055\n",
      "12/13 09:54:44 PM   rep_loss = 0.9451465347340999\n",
      "12/13 09:54:44 PM ***** Save model *****\n",
      "12/13 09:55:01 PM ***** Running evaluation *****\n",
      "12/13 09:55:01 PM   Epoch = 8 iter 4349 step\n",
      "12/13 09:55:01 PM   Num examples = 277\n",
      "12/13 09:55:01 PM   Batch size = 32\n",
      "12/13 09:55:01 PM ***** Eval results *****\n",
      "12/13 09:55:01 PM   att_loss = 3.4716136429191295\n",
      "12/13 09:55:01 PM   cls_loss = 0.0\n",
      "12/13 09:55:01 PM   global_step = 4349\n",
      "12/13 09:55:01 PM   loss = 4.416442155838013\n",
      "12/13 09:55:01 PM   rep_loss = 0.9448284967828192\n",
      "12/13 09:55:01 PM ***** Save model *****\n",
      "12/13 09:55:17 PM ***** Running evaluation *****\n",
      "12/13 09:55:17 PM   Epoch = 8 iter 4399 step\n",
      "12/13 09:55:17 PM   Num examples = 277\n",
      "12/13 09:55:17 PM   Batch size = 32\n",
      "12/13 09:55:17 PM ***** Eval results *****\n",
      "12/13 09:55:17 PM   att_loss = 3.464982114312969\n",
      "12/13 09:55:17 PM   cls_loss = 0.0\n",
      "12/13 09:55:17 PM   global_step = 4399\n",
      "12/13 09:55:17 PM   loss = 4.409304613674874\n",
      "12/13 09:55:17 PM   rep_loss = 0.9443224911049847\n",
      "12/13 09:55:17 PM ***** Save model *****\n",
      "12/13 09:55:33 PM ***** Running evaluation *****\n",
      "12/13 09:55:33 PM   Epoch = 8 iter 4449 step\n",
      "12/13 09:55:33 PM   Num examples = 277\n",
      "12/13 09:55:33 PM   Batch size = 32\n",
      "12/13 09:55:33 PM ***** Eval results *****\n",
      "12/13 09:55:33 PM   att_loss = 3.461327936301452\n",
      "12/13 09:55:33 PM   cls_loss = 0.0\n",
      "12/13 09:55:33 PM   global_step = 4449\n",
      "12/13 09:55:33 PM   loss = 4.405330624020396\n",
      "12/13 09:55:33 PM   rep_loss = 0.9440026766889036\n",
      "12/13 09:55:33 PM ***** Save model *****\n",
      "12/13 09:55:49 PM ***** Running evaluation *****\n",
      "12/13 09:55:49 PM   Epoch = 8 iter 4499 step\n",
      "12/13 09:55:49 PM   Num examples = 277\n",
      "12/13 09:55:49 PM   Batch size = 32\n",
      "12/13 09:55:49 PM ***** Eval results *****\n",
      "12/13 09:55:49 PM   att_loss = 3.460111553935486\n",
      "12/13 09:55:49 PM   cls_loss = 0.0\n",
      "12/13 09:55:49 PM   global_step = 4499\n",
      "12/13 09:55:49 PM   loss = 4.403743032962534\n",
      "12/13 09:55:49 PM   rep_loss = 0.943631472724442\n",
      "12/13 09:55:49 PM ***** Save model *****\n",
      "12/13 09:56:06 PM ***** Running evaluation *****\n",
      "12/13 09:56:06 PM   Epoch = 8 iter 4549 step\n",
      "12/13 09:56:06 PM   Num examples = 277\n",
      "12/13 09:56:06 PM   Batch size = 32\n",
      "12/13 09:56:06 PM ***** Eval results *****\n",
      "12/13 09:56:06 PM   att_loss = 3.4612242543478335\n",
      "12/13 09:56:06 PM   cls_loss = 0.0\n",
      "12/13 09:56:06 PM   global_step = 4549\n",
      "12/13 09:56:06 PM   loss = 4.4050258157134365\n",
      "12/13 09:56:06 PM   rep_loss = 0.9438015574545372\n",
      "12/13 09:56:06 PM ***** Save model *****\n",
      "12/13 09:56:22 PM ***** Running evaluation *****\n",
      "12/13 09:56:22 PM   Epoch = 8 iter 4599 step\n",
      "12/13 09:56:22 PM   Num examples = 277\n",
      "12/13 09:56:22 PM   Batch size = 32\n",
      "12/13 09:56:22 PM ***** Eval results *****\n",
      "12/13 09:56:22 PM   att_loss = 3.4624661879307155\n",
      "12/13 09:56:22 PM   cls_loss = 0.0\n",
      "12/13 09:56:22 PM   global_step = 4599\n",
      "12/13 09:56:22 PM   loss = 4.405951722315459\n",
      "12/13 09:56:22 PM   rep_loss = 0.9434855324486292\n",
      "12/13 09:56:22 PM ***** Save model *****\n",
      "12/13 09:56:38 PM ***** Running evaluation *****\n",
      "12/13 09:56:38 PM   Epoch = 8 iter 4649 step\n",
      "12/13 09:56:38 PM   Num examples = 277\n",
      "12/13 09:56:38 PM   Batch size = 32\n",
      "12/13 09:56:38 PM ***** Eval results *****\n",
      "12/13 09:56:38 PM   att_loss = 3.463066387573052\n",
      "12/13 09:56:38 PM   cls_loss = 0.0\n",
      "12/13 09:56:38 PM   global_step = 4649\n",
      "12/13 09:56:38 PM   loss = 4.406432452667776\n",
      "12/13 09:56:38 PM   rep_loss = 0.9433660621206874\n",
      "12/13 09:56:38 PM ***** Save model *****\n"
     ]
    },
    {
     "data": {
      "application/vnd.jupyter.widget-view+json": {
       "model_id": "5d91f5ad8e1c44bc95d80219e27d841c",
       "version_major": 2,
       "version_minor": 0
      },
      "text/plain": [
       "Iteration:   0%|          | 0/522 [00:00<?, ?it/s]"
      ]
     },
     "metadata": {},
     "output_type": "display_data"
    },
    {
     "name": "stdout",
     "output_type": "stream",
     "text": [
      "12/13 09:56:54 PM ***** Running evaluation *****\n",
      "12/13 09:56:54 PM   Epoch = 9 iter 4699 step\n",
      "12/13 09:56:54 PM   Num examples = 277\n",
      "12/13 09:56:54 PM   Batch size = 32\n",
      "12/13 09:56:54 PM ***** Eval results *****\n",
      "12/13 09:56:54 PM   att_loss = 3.5398056745529174\n",
      "12/13 09:56:54 PM   cls_loss = 0.0\n",
      "12/13 09:56:54 PM   global_step = 4699\n",
      "12/13 09:56:54 PM   loss = 4.493295907974243\n",
      "12/13 09:56:54 PM   rep_loss = 0.9534902334213257\n",
      "12/13 09:56:54 PM ***** Save model *****\n",
      "12/13 09:57:10 PM ***** Running evaluation *****\n",
      "12/13 09:57:10 PM   Epoch = 9 iter 4749 step\n",
      "12/13 09:57:10 PM   Num examples = 277\n",
      "12/13 09:57:10 PM   Batch size = 32\n",
      "12/13 09:57:10 PM ***** Eval results *****\n",
      "12/13 09:57:10 PM   att_loss = 3.487754400571187\n",
      "12/13 09:57:10 PM   cls_loss = 0.0\n",
      "12/13 09:57:10 PM   global_step = 4749\n",
      "12/13 09:57:10 PM   loss = 4.433496018250783\n",
      "12/13 09:57:10 PM   rep_loss = 0.945741613705953\n",
      "12/13 09:57:10 PM ***** Save model *****\n",
      "12/13 09:57:26 PM ***** Running evaluation *****\n",
      "12/13 09:57:26 PM   Epoch = 9 iter 4799 step\n",
      "12/13 09:57:26 PM   Num examples = 277\n",
      "12/13 09:57:26 PM   Batch size = 32\n",
      "12/13 09:57:26 PM ***** Eval results *****\n",
      "12/13 09:57:26 PM   att_loss = 3.4778424609791148\n",
      "12/13 09:57:26 PM   cls_loss = 0.0\n",
      "12/13 09:57:26 PM   global_step = 4799\n",
      "12/13 09:57:26 PM   loss = 4.421303660219366\n",
      "12/13 09:57:26 PM   rep_loss = 0.9434611829844388\n",
      "12/13 09:57:26 PM ***** Save model *****\n",
      "12/13 09:57:43 PM ***** Running evaluation *****\n",
      "12/13 09:57:43 PM   Epoch = 9 iter 4849 step\n",
      "12/13 09:57:43 PM   Num examples = 277\n",
      "12/13 09:57:43 PM   Batch size = 32\n",
      "12/13 09:57:43 PM ***** Eval results *****\n",
      "12/13 09:57:43 PM   att_loss = 3.466897261142731\n",
      "12/13 09:57:43 PM   cls_loss = 0.0\n",
      "12/13 09:57:43 PM   global_step = 4849\n",
      "12/13 09:57:43 PM   loss = 4.408692620694637\n",
      "12/13 09:57:43 PM   rep_loss = 0.9417953480035066\n",
      "12/13 09:57:43 PM ***** Save model *****\n",
      "12/13 09:57:59 PM ***** Running evaluation *****\n",
      "12/13 09:57:59 PM   Epoch = 9 iter 4899 step\n",
      "12/13 09:57:59 PM   Num examples = 277\n",
      "12/13 09:57:59 PM   Batch size = 32\n",
      "12/13 09:57:59 PM ***** Eval results *****\n",
      "12/13 09:57:59 PM   att_loss = 3.4690706502823603\n",
      "12/13 09:57:59 PM   cls_loss = 0.0\n",
      "12/13 09:57:59 PM   global_step = 4899\n",
      "12/13 09:57:59 PM   loss = 4.411372940880912\n",
      "12/13 09:57:59 PM   rep_loss = 0.9423022829350971\n",
      "12/13 09:57:59 PM ***** Save model *****\n",
      "12/13 09:58:15 PM ***** Running evaluation *****\n",
      "12/13 09:58:15 PM   Epoch = 9 iter 4949 step\n",
      "12/13 09:58:15 PM   Num examples = 277\n",
      "12/13 09:58:15 PM   Batch size = 32\n",
      "12/13 09:58:15 PM ***** Eval results *****\n",
      "12/13 09:58:15 PM   att_loss = 3.449213393834921\n",
      "12/13 09:58:15 PM   cls_loss = 0.0\n",
      "12/13 09:58:15 PM   global_step = 4949\n",
      "12/13 09:58:15 PM   loss = 4.389749177602622\n",
      "12/13 09:58:15 PM   rep_loss = 0.9405357702420308\n",
      "12/13 09:58:15 PM ***** Save model *****\n",
      "12/13 09:58:31 PM ***** Running evaluation *****\n",
      "12/13 09:58:31 PM   Epoch = 9 iter 4999 step\n",
      "12/13 09:58:31 PM   Num examples = 277\n",
      "12/13 09:58:31 PM   Batch size = 32\n",
      "12/13 09:58:31 PM ***** Eval results *****\n",
      "12/13 09:58:31 PM   att_loss = 3.439855410975795\n",
      "12/13 09:58:31 PM   cls_loss = 0.0\n",
      "12/13 09:58:31 PM   global_step = 4999\n",
      "12/13 09:58:31 PM   loss = 4.379711589505596\n",
      "12/13 09:58:31 PM   rep_loss = 0.9398561654552336\n",
      "12/13 09:58:31 PM ***** Save model *****\n",
      "12/13 09:58:47 PM ***** Running evaluation *****\n",
      "12/13 09:58:47 PM   Epoch = 9 iter 5049 step\n",
      "12/13 09:58:47 PM   Num examples = 277\n",
      "12/13 09:58:47 PM   Batch size = 32\n",
      "12/13 09:58:47 PM ***** Eval results *****\n",
      "12/13 09:58:47 PM   att_loss = 3.4442344122462805\n",
      "12/13 09:58:47 PM   cls_loss = 0.0\n",
      "12/13 09:58:47 PM   global_step = 5049\n",
      "12/13 09:58:47 PM   loss = 4.384298135836919\n",
      "12/13 09:58:47 PM   rep_loss = 0.940063715312216\n",
      "12/13 09:58:47 PM ***** Save model *****\n",
      "12/13 09:59:04 PM ***** Running evaluation *****\n",
      "12/13 09:59:04 PM   Epoch = 9 iter 5099 step\n",
      "12/13 09:59:04 PM   Num examples = 277\n",
      "12/13 09:59:04 PM   Batch size = 32\n",
      "12/13 09:59:04 PM ***** Eval results *****\n",
      "12/13 09:59:04 PM   att_loss = 3.4428217509897743\n",
      "12/13 09:59:04 PM   cls_loss = 0.0\n",
      "12/13 09:59:04 PM   global_step = 5099\n",
      "12/13 09:59:04 PM   loss = 4.382538238385829\n",
      "12/13 09:59:04 PM   rep_loss = 0.9397164804179494\n",
      "12/13 09:59:04 PM ***** Save model *****\n",
      "12/13 09:59:20 PM ***** Running evaluation *****\n",
      "12/13 09:59:20 PM   Epoch = 9 iter 5149 step\n",
      "12/13 09:59:20 PM   Num examples = 277\n",
      "12/13 09:59:20 PM   Batch size = 32\n",
      "12/13 09:59:20 PM ***** Eval results *****\n",
      "12/13 09:59:20 PM   att_loss = 3.4437209144882535\n",
      "12/13 09:59:20 PM   cls_loss = 0.0\n",
      "12/13 09:59:20 PM   global_step = 5149\n",
      "12/13 09:59:20 PM   loss = 4.3832295013510665\n",
      "12/13 09:59:20 PM   rep_loss = 0.939508581550225\n",
      "12/13 09:59:20 PM ***** Save model *****\n",
      "12/13 09:59:36 PM ***** Running evaluation *****\n",
      "12/13 09:59:36 PM   Epoch = 9 iter 5199 step\n",
      "12/13 09:59:36 PM   Num examples = 277\n",
      "12/13 09:59:36 PM   Batch size = 32\n",
      "12/13 09:59:36 PM ***** Eval results *****\n",
      "12/13 09:59:36 PM   att_loss = 3.446825396313387\n",
      "12/13 09:59:36 PM   cls_loss = 0.0\n",
      "12/13 09:59:36 PM   global_step = 5199\n",
      "12/13 09:59:36 PM   loss = 4.386232785150116\n",
      "12/13 09:59:36 PM   rep_loss = 0.9394073860318053\n",
      "12/13 09:59:36 PM ***** Save model *****\n"
     ]
    }
   ],
   "source": [
    "arguments = [\"task_distill_soumyajit.py\"] + getArguments(task_distill_step1)\n",
    "sys.argv = arguments\n",
    "\n",
    "print(f\"Arguments passed\\n{arguments}\")\n",
    "task_distill_soumyajit.main()"
   ]
  },
  {
   "cell_type": "code",
   "execution_count": 8,
   "id": "eeecfab4-f87e-4401-ac87-60b14dfccbb2",
   "metadata": {},
   "outputs": [
    {
     "name": "stdout",
     "output_type": "stream",
     "text": [
      "Arguments passed\n",
      "['task_distill_soumyajit.py', '--teacher_model=models/models--JeremiahZ--bert-base-uncased-rte', '--student_model=models/TinyBERT-RTE-(fast)-(0.0)/step1', '--data_dir=data/glue_data/RTE', '--task_name=rte', '--output_dir=models/TinyBERT-RTE-(fast)-(0.0)/step2', '--learning_rate=3e-05', '--eval_step=100', '--max_seq_length=128', '--train_batch_size=32', '--num_train_epochs=10', '--do_lower_case', '--pred_distill', '--aug_train', '--aug_mode=fast', '--fast_aug=0.0']\n",
      "12/13 09:59:40 PM The args: Namespace(data_dir='data/glue_data/RTE', teacher_model='models/models--JeremiahZ--bert-base-uncased-rte', student_model='models/TinyBERT-RTE-(fast)-(0.0)/step1', task_name='rte', output_dir='models/TinyBERT-RTE-(fast)-(0.0)/step2', cache_dir='', max_seq_length=128, do_eval=False, do_lower_case=True, train_batch_size=32, eval_batch_size=32, learning_rate=3e-05, weight_decay=0.0001, num_train_epochs=10.0, warmup_proportion=0.1, no_cuda=False, seed=42, gradient_accumulation_steps=1, aug_train=True, aug_mode='fast', fast_aug=0.0, eval_step=100, pred_distill=True, data_url='', temperature=1.0)\n",
      "12/13 09:59:40 PM device: cuda n_gpu: 1\n",
      "12/13 09:59:40 PM Writing example 0 of 16693\n",
      "12/13 09:59:40 PM *** Example ***\n",
      "12/13 09:59:40 PM guid: aug-0\n",
      "12/13 09:59:40 PM tokens: [CLS] no weapons of mass destruction found in iraq yet . [SEP] weapons of mass destruction found in iraq . [SEP]\n",
      "12/13 09:59:40 PM input_ids: 101 2053 4255 1997 3742 6215 2179 1999 5712 2664 1012 102 4255 1997 3742 6215 2179 1999 5712 1012 102 0 0 0 0 0 0 0 0 0 0 0 0 0 0 0 0 0 0 0 0 0 0 0 0 0 0 0 0 0 0 0 0 0 0 0 0 0 0 0 0 0 0 0 0 0 0 0 0 0 0 0 0 0 0 0 0 0 0 0 0 0 0 0 0 0 0 0 0 0 0 0 0 0 0 0 0 0 0 0 0 0 0 0 0 0 0 0 0 0 0 0 0 0 0 0 0 0 0 0 0 0 0 0 0 0 0 0\n",
      "12/13 09:59:40 PM input_mask: 1 1 1 1 1 1 1 1 1 1 1 1 1 1 1 1 1 1 1 1 1 0 0 0 0 0 0 0 0 0 0 0 0 0 0 0 0 0 0 0 0 0 0 0 0 0 0 0 0 0 0 0 0 0 0 0 0 0 0 0 0 0 0 0 0 0 0 0 0 0 0 0 0 0 0 0 0 0 0 0 0 0 0 0 0 0 0 0 0 0 0 0 0 0 0 0 0 0 0 0 0 0 0 0 0 0 0 0 0 0 0 0 0 0 0 0 0 0 0 0 0 0 0 0 0 0 0 0\n",
      "12/13 09:59:40 PM segment_ids: 0 0 0 0 0 0 0 0 0 0 0 0 1 1 1 1 1 1 1 1 1 0 0 0 0 0 0 0 0 0 0 0 0 0 0 0 0 0 0 0 0 0 0 0 0 0 0 0 0 0 0 0 0 0 0 0 0 0 0 0 0 0 0 0 0 0 0 0 0 0 0 0 0 0 0 0 0 0 0 0 0 0 0 0 0 0 0 0 0 0 0 0 0 0 0 0 0 0 0 0 0 0 0 0 0 0 0 0 0 0 0 0 0 0 0 0 0 0 0 0 0 0 0 0 0 0 0 0\n",
      "12/13 09:59:40 PM label: not_entailment\n",
      "12/13 09:59:40 PM label_id: 1\n",
      "12/13 09:59:45 PM Writing example 10000 of 16693\n",
      "12/13 09:59:48 PM Writing example 0 of 277\n",
      "12/13 09:59:48 PM *** Example ***\n",
      "12/13 09:59:48 PM guid: dev-0\n",
      "12/13 09:59:48 PM tokens: [CLS] dana reeve , the widow of the actor christopher reeve , has died of lung cancer at age 44 , according to the christopher reeve foundation . [SEP] christopher reeve had an accident . [SEP]\n",
      "12/13 09:59:48 PM input_ids: 101 11271 20726 1010 1996 7794 1997 1996 3364 5696 20726 1010 2038 2351 1997 11192 4456 2012 2287 4008 1010 2429 2000 1996 5696 20726 3192 1012 102 5696 20726 2018 2019 4926 1012 102 0 0 0 0 0 0 0 0 0 0 0 0 0 0 0 0 0 0 0 0 0 0 0 0 0 0 0 0 0 0 0 0 0 0 0 0 0 0 0 0 0 0 0 0 0 0 0 0 0 0 0 0 0 0 0 0 0 0 0 0 0 0 0 0 0 0 0 0 0 0 0 0 0 0 0 0 0 0 0 0 0 0 0 0 0 0 0 0 0 0 0 0\n",
      "12/13 09:59:48 PM input_mask: 1 1 1 1 1 1 1 1 1 1 1 1 1 1 1 1 1 1 1 1 1 1 1 1 1 1 1 1 1 1 1 1 1 1 1 1 0 0 0 0 0 0 0 0 0 0 0 0 0 0 0 0 0 0 0 0 0 0 0 0 0 0 0 0 0 0 0 0 0 0 0 0 0 0 0 0 0 0 0 0 0 0 0 0 0 0 0 0 0 0 0 0 0 0 0 0 0 0 0 0 0 0 0 0 0 0 0 0 0 0 0 0 0 0 0 0 0 0 0 0 0 0 0 0 0 0 0 0\n",
      "12/13 09:59:48 PM segment_ids: 0 0 0 0 0 0 0 0 0 0 0 0 0 0 0 0 0 0 0 0 0 0 0 0 0 0 0 0 0 1 1 1 1 1 1 1 0 0 0 0 0 0 0 0 0 0 0 0 0 0 0 0 0 0 0 0 0 0 0 0 0 0 0 0 0 0 0 0 0 0 0 0 0 0 0 0 0 0 0 0 0 0 0 0 0 0 0 0 0 0 0 0 0 0 0 0 0 0 0 0 0 0 0 0 0 0 0 0 0 0 0 0 0 0 0 0 0 0 0 0 0 0 0 0 0 0 0 0\n",
      "12/13 09:59:48 PM label: not_entailment\n",
      "12/13 09:59:48 PM label_id: 1\n",
      "12/13 09:59:49 PM Model config {\n",
      "  \"_name_or_path\": \"bert-base-uncased\",\n",
      "  \"architectures\": [\n",
      "    \"BertForSequenceClassification\"\n",
      "  ],\n",
      "  \"attention_probs_dropout_prob\": 0.1,\n",
      "  \"classifier_dropout\": null,\n",
      "  \"finetuning_task\": \"rte\",\n",
      "  \"gradient_checkpointing\": false,\n",
      "  \"hidden_act\": \"gelu\",\n",
      "  \"hidden_dropout_prob\": 0.1,\n",
      "  \"hidden_size\": 768,\n",
      "  \"id2label\": {\n",
      "    \"0\": \"entailment\",\n",
      "    \"1\": \"not_entailment\"\n",
      "  },\n",
      "  \"initializer_range\": 0.02,\n",
      "  \"intermediate_size\": 3072,\n",
      "  \"label2id\": {\n",
      "    \"entailment\": 0,\n",
      "    \"not_entailment\": 1\n",
      "  },\n",
      "  \"layer_norm_eps\": 1e-12,\n",
      "  \"max_position_embeddings\": 512,\n",
      "  \"model_type\": \"bert\",\n",
      "  \"num_attention_heads\": 12,\n",
      "  \"num_hidden_layers\": 12,\n",
      "  \"pad_token_id\": 0,\n",
      "  \"position_embedding_type\": \"absolute\",\n",
      "  \"pre_trained\": \"\",\n",
      "  \"problem_type\": \"single_label_classification\",\n",
      "  \"torch_dtype\": \"float32\",\n",
      "  \"training\": \"\",\n",
      "  \"transformers_version\": \"4.20.0.dev0\",\n",
      "  \"type_vocab_size\": 2,\n",
      "  \"use_cache\": true,\n",
      "  \"vocab_size\": 30522\n",
      "}\n",
      "\n",
      "12/13 09:59:51 PM Loading model models/models--JeremiahZ--bert-base-uncased-rte/pytorch_model.bin\n",
      "12/13 09:59:52 PM loading model...\n",
      "12/13 09:59:53 PM done!\n",
      "12/13 09:59:53 PM Weights of TinyBertForSequenceClassification not initialized from pretrained model: ['fit_dense.weight', 'fit_dense.bias']\n",
      "12/13 09:59:53 PM Weights from pretrained model not used in TinyBertForSequenceClassification: ['bert.embeddings.position_ids']\n",
      "12/13 09:59:53 PM Model config {\n",
      "  \"attention_probs_dropout_prob\": 0.1,\n",
      "  \"cell\": {},\n",
      "  \"emb_size\": 312,\n",
      "  \"hidden_act\": \"gelu\",\n",
      "  \"hidden_dropout_prob\": 0.1,\n",
      "  \"hidden_size\": 312,\n",
      "  \"initializer_range\": 0.02,\n",
      "  \"intermediate_size\": 1200,\n",
      "  \"max_position_embeddings\": 512,\n",
      "  \"model_type\": \"bert\",\n",
      "  \"num_attention_heads\": 12,\n",
      "  \"num_hidden_layers\": 4,\n",
      "  \"pre_trained\": \"\",\n",
      "  \"structure\": [],\n",
      "  \"training\": \"\",\n",
      "  \"type_vocab_size\": 2,\n",
      "  \"vocab_size\": 30522\n",
      "}\n",
      "\n",
      "12/13 09:59:54 PM Loading model models/TinyBERT-RTE-(fast)-(0.0)/step1/pytorch_model.bin\n",
      "12/13 09:59:54 PM loading model...\n",
      "12/13 09:59:55 PM done!\n",
      "12/13 09:59:55 PM ***** Running training *****\n",
      "12/13 09:59:55 PM   Num examples = 16693\n",
      "12/13 09:59:55 PM   Batch size = 32\n",
      "12/13 09:59:55 PM   Num steps = 5210\n",
      "12/13 09:59:55 PM n: bert.embeddings.word_embeddings.weight\n",
      "12/13 09:59:55 PM n: bert.embeddings.position_embeddings.weight\n",
      "12/13 09:59:55 PM n: bert.embeddings.token_type_embeddings.weight\n",
      "12/13 09:59:55 PM n: bert.embeddings.LayerNorm.weight\n",
      "12/13 09:59:55 PM n: bert.embeddings.LayerNorm.bias\n",
      "12/13 09:59:55 PM n: bert.encoder.layer.0.attention.self.query.weight\n",
      "12/13 09:59:55 PM n: bert.encoder.layer.0.attention.self.query.bias\n",
      "12/13 09:59:55 PM n: bert.encoder.layer.0.attention.self.key.weight\n",
      "12/13 09:59:55 PM n: bert.encoder.layer.0.attention.self.key.bias\n",
      "12/13 09:59:55 PM n: bert.encoder.layer.0.attention.self.value.weight\n",
      "12/13 09:59:55 PM n: bert.encoder.layer.0.attention.self.value.bias\n",
      "12/13 09:59:55 PM n: bert.encoder.layer.0.attention.output.dense.weight\n",
      "12/13 09:59:55 PM n: bert.encoder.layer.0.attention.output.dense.bias\n",
      "12/13 09:59:55 PM n: bert.encoder.layer.0.attention.output.LayerNorm.weight\n",
      "12/13 09:59:55 PM n: bert.encoder.layer.0.attention.output.LayerNorm.bias\n",
      "12/13 09:59:55 PM n: bert.encoder.layer.0.intermediate.dense.weight\n",
      "12/13 09:59:55 PM n: bert.encoder.layer.0.intermediate.dense.bias\n",
      "12/13 09:59:55 PM n: bert.encoder.layer.0.output.dense.weight\n",
      "12/13 09:59:55 PM n: bert.encoder.layer.0.output.dense.bias\n",
      "12/13 09:59:55 PM n: bert.encoder.layer.0.output.LayerNorm.weight\n",
      "12/13 09:59:55 PM n: bert.encoder.layer.0.output.LayerNorm.bias\n",
      "12/13 09:59:55 PM n: bert.encoder.layer.1.attention.self.query.weight\n",
      "12/13 09:59:55 PM n: bert.encoder.layer.1.attention.self.query.bias\n",
      "12/13 09:59:55 PM n: bert.encoder.layer.1.attention.self.key.weight\n",
      "12/13 09:59:55 PM n: bert.encoder.layer.1.attention.self.key.bias\n",
      "12/13 09:59:55 PM n: bert.encoder.layer.1.attention.self.value.weight\n",
      "12/13 09:59:55 PM n: bert.encoder.layer.1.attention.self.value.bias\n",
      "12/13 09:59:55 PM n: bert.encoder.layer.1.attention.output.dense.weight\n",
      "12/13 09:59:55 PM n: bert.encoder.layer.1.attention.output.dense.bias\n",
      "12/13 09:59:55 PM n: bert.encoder.layer.1.attention.output.LayerNorm.weight\n",
      "12/13 09:59:55 PM n: bert.encoder.layer.1.attention.output.LayerNorm.bias\n",
      "12/13 09:59:55 PM n: bert.encoder.layer.1.intermediate.dense.weight\n",
      "12/13 09:59:55 PM n: bert.encoder.layer.1.intermediate.dense.bias\n",
      "12/13 09:59:55 PM n: bert.encoder.layer.1.output.dense.weight\n",
      "12/13 09:59:55 PM n: bert.encoder.layer.1.output.dense.bias\n",
      "12/13 09:59:55 PM n: bert.encoder.layer.1.output.LayerNorm.weight\n",
      "12/13 09:59:55 PM n: bert.encoder.layer.1.output.LayerNorm.bias\n",
      "12/13 09:59:55 PM n: bert.encoder.layer.2.attention.self.query.weight\n",
      "12/13 09:59:55 PM n: bert.encoder.layer.2.attention.self.query.bias\n",
      "12/13 09:59:55 PM n: bert.encoder.layer.2.attention.self.key.weight\n",
      "12/13 09:59:55 PM n: bert.encoder.layer.2.attention.self.key.bias\n",
      "12/13 09:59:55 PM n: bert.encoder.layer.2.attention.self.value.weight\n",
      "12/13 09:59:55 PM n: bert.encoder.layer.2.attention.self.value.bias\n",
      "12/13 09:59:55 PM n: bert.encoder.layer.2.attention.output.dense.weight\n",
      "12/13 09:59:55 PM n: bert.encoder.layer.2.attention.output.dense.bias\n",
      "12/13 09:59:55 PM n: bert.encoder.layer.2.attention.output.LayerNorm.weight\n",
      "12/13 09:59:55 PM n: bert.encoder.layer.2.attention.output.LayerNorm.bias\n",
      "12/13 09:59:55 PM n: bert.encoder.layer.2.intermediate.dense.weight\n",
      "12/13 09:59:55 PM n: bert.encoder.layer.2.intermediate.dense.bias\n",
      "12/13 09:59:55 PM n: bert.encoder.layer.2.output.dense.weight\n",
      "12/13 09:59:55 PM n: bert.encoder.layer.2.output.dense.bias\n",
      "12/13 09:59:55 PM n: bert.encoder.layer.2.output.LayerNorm.weight\n",
      "12/13 09:59:55 PM n: bert.encoder.layer.2.output.LayerNorm.bias\n",
      "12/13 09:59:55 PM n: bert.encoder.layer.3.attention.self.query.weight\n",
      "12/13 09:59:55 PM n: bert.encoder.layer.3.attention.self.query.bias\n",
      "12/13 09:59:55 PM n: bert.encoder.layer.3.attention.self.key.weight\n",
      "12/13 09:59:55 PM n: bert.encoder.layer.3.attention.self.key.bias\n",
      "12/13 09:59:55 PM n: bert.encoder.layer.3.attention.self.value.weight\n",
      "12/13 09:59:55 PM n: bert.encoder.layer.3.attention.self.value.bias\n",
      "12/13 09:59:55 PM n: bert.encoder.layer.3.attention.output.dense.weight\n",
      "12/13 09:59:55 PM n: bert.encoder.layer.3.attention.output.dense.bias\n",
      "12/13 09:59:55 PM n: bert.encoder.layer.3.attention.output.LayerNorm.weight\n",
      "12/13 09:59:55 PM n: bert.encoder.layer.3.attention.output.LayerNorm.bias\n",
      "12/13 09:59:55 PM n: bert.encoder.layer.3.intermediate.dense.weight\n",
      "12/13 09:59:55 PM n: bert.encoder.layer.3.intermediate.dense.bias\n",
      "12/13 09:59:55 PM n: bert.encoder.layer.3.output.dense.weight\n",
      "12/13 09:59:55 PM n: bert.encoder.layer.3.output.dense.bias\n",
      "12/13 09:59:55 PM n: bert.encoder.layer.3.output.LayerNorm.weight\n",
      "12/13 09:59:55 PM n: bert.encoder.layer.3.output.LayerNorm.bias\n",
      "12/13 09:59:55 PM n: bert.pooler.dense.weight\n",
      "12/13 09:59:55 PM n: bert.pooler.dense.bias\n",
      "12/13 09:59:55 PM n: classifier.weight\n",
      "12/13 09:59:55 PM n: classifier.bias\n",
      "12/13 09:59:55 PM n: fit_dense.weight\n",
      "12/13 09:59:55 PM n: fit_dense.bias\n",
      "12/13 09:59:55 PM Total parameters: 14591258\n"
     ]
    },
    {
     "data": {
      "application/vnd.jupyter.widget-view+json": {
       "model_id": "9c367251032a4f738254f5daf3ea1d72",
       "version_major": 2,
       "version_minor": 0
      },
      "text/plain": [
       "Epoch:   0%|          | 0/10 [00:00<?, ?it/s]"
      ]
     },
     "metadata": {},
     "output_type": "display_data"
    },
    {
     "data": {
      "application/vnd.jupyter.widget-view+json": {
       "model_id": "f932edefbf174cba82a28535bfcd02d8",
       "version_major": 2,
       "version_minor": 0
      },
      "text/plain": [
       "Iteration:   0%|          | 0/522 [00:00<?, ?it/s]"
      ]
     },
     "metadata": {},
     "output_type": "display_data"
    },
    {
     "name": "stdout",
     "output_type": "stream",
     "text": [
      "12/13 10:00:26 PM ***** Running evaluation *****\n",
      "12/13 10:00:26 PM   Epoch = 0 iter 99 step\n",
      "12/13 10:00:26 PM   Num examples = 277\n",
      "12/13 10:00:26 PM   Batch size = 32\n"
     ]
    },
    {
     "data": {
      "application/vnd.jupyter.widget-view+json": {
       "model_id": "367699a6b8cc4dfaa99f8da4ff35a292",
       "version_major": 2,
       "version_minor": 0
      },
      "text/plain": [
       "Evaluating:   0%|          | 0/9 [00:00<?, ?it/s]"
      ]
     },
     "metadata": {},
     "output_type": "display_data"
    },
    {
     "name": "stdout",
     "output_type": "stream",
     "text": [
      "12/13 10:00:26 PM ***** Eval results *****\n",
      "12/13 10:00:26 PM   acc = 0.4729241877256318\n",
      "12/13 10:00:26 PM   att_loss = 0.0\n",
      "12/13 10:00:26 PM   cls_loss = 0.32762846561393355\n",
      "12/13 10:00:26 PM   eval_loss = 0.7414980398284065\n",
      "12/13 10:00:26 PM   global_step = 99\n",
      "12/13 10:00:26 PM   loss = 0.32762846561393355\n",
      "12/13 10:00:26 PM   rep_loss = 0.0\n",
      "12/13 10:00:26 PM ***** Save model *****\n",
      "12/13 10:00:57 PM ***** Running evaluation *****\n",
      "12/13 10:00:57 PM   Epoch = 0 iter 199 step\n",
      "12/13 10:00:57 PM   Num examples = 277\n",
      "12/13 10:00:57 PM   Batch size = 32\n"
     ]
    },
    {
     "data": {
      "application/vnd.jupyter.widget-view+json": {
       "model_id": "0c093ac2dc85429e9c3841fdefbfc419",
       "version_major": 2,
       "version_minor": 0
      },
      "text/plain": [
       "Evaluating:   0%|          | 0/9 [00:00<?, ?it/s]"
      ]
     },
     "metadata": {},
     "output_type": "display_data"
    },
    {
     "name": "stdout",
     "output_type": "stream",
     "text": [
      "12/13 10:00:58 PM ***** Eval results *****\n",
      "12/13 10:00:58 PM   acc = 0.5884476534296029\n",
      "12/13 10:00:58 PM   att_loss = 0.0\n",
      "12/13 10:00:58 PM   cls_loss = 0.31278495078709856\n",
      "12/13 10:00:58 PM   eval_loss = 0.6623678472306993\n",
      "12/13 10:00:58 PM   global_step = 199\n",
      "12/13 10:00:58 PM   loss = 0.31278495078709856\n",
      "12/13 10:00:58 PM   rep_loss = 0.0\n",
      "12/13 10:00:58 PM ***** Save model *****\n",
      "12/13 10:01:29 PM ***** Running evaluation *****\n",
      "12/13 10:01:29 PM   Epoch = 0 iter 299 step\n",
      "12/13 10:01:29 PM   Num examples = 277\n",
      "12/13 10:01:29 PM   Batch size = 32\n"
     ]
    },
    {
     "data": {
      "application/vnd.jupyter.widget-view+json": {
       "model_id": "5d820c55dd304ebba106c0f0539da183",
       "version_major": 2,
       "version_minor": 0
      },
      "text/plain": [
       "Evaluating:   0%|          | 0/9 [00:00<?, ?it/s]"
      ]
     },
     "metadata": {},
     "output_type": "display_data"
    },
    {
     "name": "stdout",
     "output_type": "stream",
     "text": [
      "12/13 10:01:29 PM ***** Eval results *****\n",
      "12/13 10:01:29 PM   acc = 0.6064981949458483\n",
      "12/13 10:01:29 PM   att_loss = 0.0\n",
      "12/13 10:01:29 PM   cls_loss = 0.30581487281665354\n",
      "12/13 10:01:29 PM   eval_loss = 0.6807696421941122\n",
      "12/13 10:01:29 PM   global_step = 299\n",
      "12/13 10:01:29 PM   loss = 0.30581487281665354\n",
      "12/13 10:01:29 PM   rep_loss = 0.0\n",
      "12/13 10:01:29 PM ***** Save model *****\n",
      "12/13 10:02:01 PM ***** Running evaluation *****\n",
      "12/13 10:02:01 PM   Epoch = 0 iter 399 step\n",
      "12/13 10:02:01 PM   Num examples = 277\n",
      "12/13 10:02:01 PM   Batch size = 32\n"
     ]
    },
    {
     "data": {
      "application/vnd.jupyter.widget-view+json": {
       "model_id": "a9ec3c96ee1b430f870b9ddb1313c9d6",
       "version_major": 2,
       "version_minor": 0
      },
      "text/plain": [
       "Evaluating:   0%|          | 0/9 [00:00<?, ?it/s]"
      ]
     },
     "metadata": {},
     "output_type": "display_data"
    },
    {
     "name": "stdout",
     "output_type": "stream",
     "text": [
      "12/13 10:02:01 PM ***** Eval results *****\n",
      "12/13 10:02:01 PM   acc = 0.5631768953068592\n",
      "12/13 10:02:01 PM   att_loss = 0.0\n",
      "12/13 10:02:01 PM   cls_loss = 0.30213425758488494\n",
      "12/13 10:02:01 PM   eval_loss = 0.6963117652469211\n",
      "12/13 10:02:01 PM   global_step = 399\n",
      "12/13 10:02:01 PM   loss = 0.30213425758488494\n",
      "12/13 10:02:01 PM   rep_loss = 0.0\n",
      "12/13 10:02:32 PM ***** Running evaluation *****\n",
      "12/13 10:02:32 PM   Epoch = 0 iter 499 step\n",
      "12/13 10:02:32 PM   Num examples = 277\n",
      "12/13 10:02:32 PM   Batch size = 32\n"
     ]
    },
    {
     "data": {
      "application/vnd.jupyter.widget-view+json": {
       "model_id": "a405193ac9874c4fb43a24ca6fb86ebc",
       "version_major": 2,
       "version_minor": 0
      },
      "text/plain": [
       "Evaluating:   0%|          | 0/9 [00:00<?, ?it/s]"
      ]
     },
     "metadata": {},
     "output_type": "display_data"
    },
    {
     "name": "stdout",
     "output_type": "stream",
     "text": [
      "12/13 10:02:33 PM ***** Eval results *****\n",
      "12/13 10:02:33 PM   acc = 0.6353790613718412\n",
      "12/13 10:02:33 PM   att_loss = 0.0\n",
      "12/13 10:02:33 PM   cls_loss = 0.30014806430421037\n",
      "12/13 10:02:33 PM   eval_loss = 0.6559031208356222\n",
      "12/13 10:02:33 PM   global_step = 499\n",
      "12/13 10:02:33 PM   loss = 0.30014806430421037\n",
      "12/13 10:02:33 PM   rep_loss = 0.0\n",
      "12/13 10:02:33 PM ***** Save model *****\n"
     ]
    },
    {
     "data": {
      "application/vnd.jupyter.widget-view+json": {
       "model_id": "406010caa04842ccb166ad160137edc9",
       "version_major": 2,
       "version_minor": 0
      },
      "text/plain": [
       "Iteration:   0%|          | 0/522 [00:00<?, ?it/s]"
      ]
     },
     "metadata": {},
     "output_type": "display_data"
    },
    {
     "name": "stdout",
     "output_type": "stream",
     "text": [
      "12/13 10:03:04 PM ***** Running evaluation *****\n",
      "12/13 10:03:04 PM   Epoch = 1 iter 599 step\n",
      "12/13 10:03:04 PM   Num examples = 277\n",
      "12/13 10:03:04 PM   Batch size = 32\n"
     ]
    },
    {
     "data": {
      "application/vnd.jupyter.widget-view+json": {
       "model_id": "9bfa33ec237d4acab9e1260c9eb36023",
       "version_major": 2,
       "version_minor": 0
      },
      "text/plain": [
       "Evaluating:   0%|          | 0/9 [00:00<?, ?it/s]"
      ]
     },
     "metadata": {},
     "output_type": "display_data"
    },
    {
     "name": "stdout",
     "output_type": "stream",
     "text": [
      "12/13 10:03:05 PM ***** Eval results *****\n",
      "12/13 10:03:05 PM   acc = 0.51985559566787\n",
      "12/13 10:03:05 PM   att_loss = 0.0\n",
      "12/13 10:03:05 PM   cls_loss = 0.2893962630858788\n",
      "12/13 10:03:05 PM   eval_loss = 0.7076286806000603\n",
      "12/13 10:03:05 PM   global_step = 599\n",
      "12/13 10:03:05 PM   loss = 0.2893962630858788\n",
      "12/13 10:03:05 PM   rep_loss = 0.0\n",
      "12/13 10:03:36 PM ***** Running evaluation *****\n",
      "12/13 10:03:36 PM   Epoch = 1 iter 699 step\n",
      "12/13 10:03:36 PM   Num examples = 277\n",
      "12/13 10:03:36 PM   Batch size = 32\n"
     ]
    },
    {
     "data": {
      "application/vnd.jupyter.widget-view+json": {
       "model_id": "ff5c4667eeac4c4f9fb856525ce9937c",
       "version_major": 2,
       "version_minor": 0
      },
      "text/plain": [
       "Evaluating:   0%|          | 0/9 [00:00<?, ?it/s]"
      ]
     },
     "metadata": {},
     "output_type": "display_data"
    },
    {
     "name": "stdout",
     "output_type": "stream",
     "text": [
      "12/13 10:03:36 PM ***** Eval results *****\n",
      "12/13 10:03:36 PM   acc = 0.51985559566787\n",
      "12/13 10:03:36 PM   att_loss = 0.0\n",
      "12/13 10:03:36 PM   cls_loss = 0.28885915306177035\n",
      "12/13 10:03:36 PM   eval_loss = 0.7150765988561842\n",
      "12/13 10:03:36 PM   global_step = 699\n",
      "12/13 10:03:36 PM   loss = 0.28885915306177035\n",
      "12/13 10:03:36 PM   rep_loss = 0.0\n",
      "12/13 10:04:07 PM ***** Running evaluation *****\n",
      "12/13 10:04:07 PM   Epoch = 1 iter 799 step\n",
      "12/13 10:04:07 PM   Num examples = 277\n",
      "12/13 10:04:07 PM   Batch size = 32\n"
     ]
    },
    {
     "data": {
      "application/vnd.jupyter.widget-view+json": {
       "model_id": "4e5218de45ef4970b65c55a78deac7a0",
       "version_major": 2,
       "version_minor": 0
      },
      "text/plain": [
       "Evaluating:   0%|          | 0/9 [00:00<?, ?it/s]"
      ]
     },
     "metadata": {},
     "output_type": "display_data"
    },
    {
     "name": "stdout",
     "output_type": "stream",
     "text": [
      "12/13 10:04:08 PM ***** Eval results *****\n",
      "12/13 10:04:08 PM   acc = 0.5523465703971119\n",
      "12/13 10:04:08 PM   att_loss = 0.0\n",
      "12/13 10:04:08 PM   cls_loss = 0.28947863915412547\n",
      "12/13 10:04:08 PM   eval_loss = 0.703427255153656\n",
      "12/13 10:04:08 PM   global_step = 799\n",
      "12/13 10:04:08 PM   loss = 0.28947863915412547\n",
      "12/13 10:04:08 PM   rep_loss = 0.0\n",
      "12/13 10:04:39 PM ***** Running evaluation *****\n",
      "12/13 10:04:39 PM   Epoch = 1 iter 899 step\n",
      "12/13 10:04:39 PM   Num examples = 277\n",
      "12/13 10:04:39 PM   Batch size = 32\n"
     ]
    },
    {
     "data": {
      "application/vnd.jupyter.widget-view+json": {
       "model_id": "24543c530ea4447faa63a08bc4ce4d35",
       "version_major": 2,
       "version_minor": 0
      },
      "text/plain": [
       "Evaluating:   0%|          | 0/9 [00:00<?, ?it/s]"
      ]
     },
     "metadata": {},
     "output_type": "display_data"
    },
    {
     "name": "stdout",
     "output_type": "stream",
     "text": [
      "12/13 10:04:39 PM ***** Eval results *****\n",
      "12/13 10:04:39 PM   acc = 0.6245487364620939\n",
      "12/13 10:04:39 PM   att_loss = 0.0\n",
      "12/13 10:04:39 PM   cls_loss = 0.28898238284247263\n",
      "12/13 10:04:39 PM   eval_loss = 0.6651495297749838\n",
      "12/13 10:04:39 PM   global_step = 899\n",
      "12/13 10:04:39 PM   loss = 0.28898238284247263\n",
      "12/13 10:04:39 PM   rep_loss = 0.0\n",
      "12/13 10:05:10 PM ***** Running evaluation *****\n",
      "12/13 10:05:10 PM   Epoch = 1 iter 999 step\n",
      "12/13 10:05:10 PM   Num examples = 277\n",
      "12/13 10:05:10 PM   Batch size = 32\n"
     ]
    },
    {
     "data": {
      "application/vnd.jupyter.widget-view+json": {
       "model_id": "7c5492f3d54549908192b03155d960d3",
       "version_major": 2,
       "version_minor": 0
      },
      "text/plain": [
       "Evaluating:   0%|          | 0/9 [00:00<?, ?it/s]"
      ]
     },
     "metadata": {},
     "output_type": "display_data"
    },
    {
     "name": "stdout",
     "output_type": "stream",
     "text": [
      "12/13 10:05:11 PM ***** Eval results *****\n",
      "12/13 10:05:11 PM   acc = 0.6245487364620939\n",
      "12/13 10:05:11 PM   att_loss = 0.0\n",
      "12/13 10:05:11 PM   cls_loss = 0.28868269103590916\n",
      "12/13 10:05:11 PM   eval_loss = 0.6663139793607924\n",
      "12/13 10:05:11 PM   global_step = 999\n",
      "12/13 10:05:11 PM   loss = 0.28868269103590916\n",
      "12/13 10:05:11 PM   rep_loss = 0.0\n"
     ]
    },
    {
     "data": {
      "application/vnd.jupyter.widget-view+json": {
       "model_id": "c1170b582f9748d2bdf3b0d37b9e2d11",
       "version_major": 2,
       "version_minor": 0
      },
      "text/plain": [
       "Iteration:   0%|          | 0/522 [00:00<?, ?it/s]"
      ]
     },
     "metadata": {},
     "output_type": "display_data"
    },
    {
     "name": "stdout",
     "output_type": "stream",
     "text": [
      "12/13 10:05:42 PM ***** Running evaluation *****\n",
      "12/13 10:05:42 PM   Epoch = 2 iter 1099 step\n",
      "12/13 10:05:42 PM   Num examples = 277\n",
      "12/13 10:05:42 PM   Batch size = 32\n"
     ]
    },
    {
     "data": {
      "application/vnd.jupyter.widget-view+json": {
       "model_id": "03e0da6a03ee4aa4832dc584340c93b6",
       "version_major": 2,
       "version_minor": 0
      },
      "text/plain": [
       "Evaluating:   0%|          | 0/9 [00:00<?, ?it/s]"
      ]
     },
     "metadata": {},
     "output_type": "display_data"
    },
    {
     "name": "stdout",
     "output_type": "stream",
     "text": [
      "12/13 10:05:42 PM ***** Eval results *****\n",
      "12/13 10:05:42 PM   acc = 0.628158844765343\n",
      "12/13 10:05:42 PM   att_loss = 0.0\n",
      "12/13 10:05:42 PM   cls_loss = 0.28775946874367564\n",
      "12/13 10:05:42 PM   eval_loss = 0.666837043232388\n",
      "12/13 10:05:42 PM   global_step = 1099\n",
      "12/13 10:05:42 PM   loss = 0.28775946874367564\n",
      "12/13 10:05:42 PM   rep_loss = 0.0\n",
      "12/13 10:06:13 PM ***** Running evaluation *****\n",
      "12/13 10:06:13 PM   Epoch = 2 iter 1199 step\n",
      "12/13 10:06:13 PM   Num examples = 277\n",
      "12/13 10:06:13 PM   Batch size = 32\n"
     ]
    },
    {
     "data": {
      "application/vnd.jupyter.widget-view+json": {
       "model_id": "460cd3d84bff4037a00e345f66a28819",
       "version_major": 2,
       "version_minor": 0
      },
      "text/plain": [
       "Evaluating:   0%|          | 0/9 [00:00<?, ?it/s]"
      ]
     },
     "metadata": {},
     "output_type": "display_data"
    },
    {
     "name": "stdout",
     "output_type": "stream",
     "text": [
      "12/13 10:06:13 PM ***** Eval results *****\n",
      "12/13 10:06:13 PM   acc = 0.6064981949458483\n",
      "12/13 10:06:13 PM   att_loss = 0.0\n",
      "12/13 10:06:13 PM   cls_loss = 0.2866336272400656\n",
      "12/13 10:06:13 PM   eval_loss = 0.6728384362326728\n",
      "12/13 10:06:13 PM   global_step = 1199\n",
      "12/13 10:06:13 PM   loss = 0.2866336272400656\n",
      "12/13 10:06:13 PM   rep_loss = 0.0\n",
      "12/13 10:06:45 PM ***** Running evaluation *****\n",
      "12/13 10:06:45 PM   Epoch = 2 iter 1299 step\n",
      "12/13 10:06:45 PM   Num examples = 277\n",
      "12/13 10:06:45 PM   Batch size = 32\n"
     ]
    },
    {
     "data": {
      "application/vnd.jupyter.widget-view+json": {
       "model_id": "b815702d93e241a2991bd961042c34bc",
       "version_major": 2,
       "version_minor": 0
      },
      "text/plain": [
       "Evaluating:   0%|          | 0/9 [00:00<?, ?it/s]"
      ]
     },
     "metadata": {},
     "output_type": "display_data"
    },
    {
     "name": "stdout",
     "output_type": "stream",
     "text": [
      "12/13 10:06:45 PM ***** Eval results *****\n",
      "12/13 10:06:45 PM   acc = 0.5992779783393501\n",
      "12/13 10:06:45 PM   att_loss = 0.0\n",
      "12/13 10:06:45 PM   cls_loss = 0.28664724766512323\n",
      "12/13 10:06:45 PM   eval_loss = 0.6758838229709201\n",
      "12/13 10:06:45 PM   global_step = 1299\n",
      "12/13 10:06:45 PM   loss = 0.28664724766512323\n",
      "12/13 10:06:45 PM   rep_loss = 0.0\n",
      "12/13 10:07:16 PM ***** Running evaluation *****\n",
      "12/13 10:07:16 PM   Epoch = 2 iter 1399 step\n",
      "12/13 10:07:16 PM   Num examples = 277\n",
      "12/13 10:07:16 PM   Batch size = 32\n"
     ]
    },
    {
     "data": {
      "application/vnd.jupyter.widget-view+json": {
       "model_id": "6bfeb82f43314e12b58a2bc993c82c79",
       "version_major": 2,
       "version_minor": 0
      },
      "text/plain": [
       "Evaluating:   0%|          | 0/9 [00:00<?, ?it/s]"
      ]
     },
     "metadata": {},
     "output_type": "display_data"
    },
    {
     "name": "stdout",
     "output_type": "stream",
     "text": [
      "12/13 10:07:16 PM ***** Eval results *****\n",
      "12/13 10:07:16 PM   acc = 0.6028880866425993\n",
      "12/13 10:07:16 PM   att_loss = 0.0\n",
      "12/13 10:07:16 PM   cls_loss = 0.2872332617515275\n",
      "12/13 10:07:16 PM   eval_loss = 0.6738345159424676\n",
      "12/13 10:07:16 PM   global_step = 1399\n",
      "12/13 10:07:16 PM   loss = 0.2872332617515275\n",
      "12/13 10:07:16 PM   rep_loss = 0.0\n",
      "12/13 10:07:47 PM ***** Running evaluation *****\n",
      "12/13 10:07:47 PM   Epoch = 2 iter 1499 step\n",
      "12/13 10:07:47 PM   Num examples = 277\n",
      "12/13 10:07:47 PM   Batch size = 32\n"
     ]
    },
    {
     "data": {
      "application/vnd.jupyter.widget-view+json": {
       "model_id": "683f0a17170545f2a5dabcbfdd3f8bcf",
       "version_major": 2,
       "version_minor": 0
      },
      "text/plain": [
       "Evaluating:   0%|          | 0/9 [00:00<?, ?it/s]"
      ]
     },
     "metadata": {},
     "output_type": "display_data"
    },
    {
     "name": "stdout",
     "output_type": "stream",
     "text": [
      "12/13 10:07:48 PM ***** Eval results *****\n",
      "12/13 10:07:48 PM   acc = 0.6064981949458483\n",
      "12/13 10:07:48 PM   att_loss = 0.0\n",
      "12/13 10:07:48 PM   cls_loss = 0.2872839778726941\n",
      "12/13 10:07:48 PM   eval_loss = 0.663815995057424\n",
      "12/13 10:07:48 PM   global_step = 1499\n",
      "12/13 10:07:48 PM   loss = 0.2872839778726941\n",
      "12/13 10:07:48 PM   rep_loss = 0.0\n"
     ]
    },
    {
     "data": {
      "application/vnd.jupyter.widget-view+json": {
       "model_id": "dd129ba977ce4c328ca322f269e6dd22",
       "version_major": 2,
       "version_minor": 0
      },
      "text/plain": [
       "Iteration:   0%|          | 0/522 [00:00<?, ?it/s]"
      ]
     },
     "metadata": {},
     "output_type": "display_data"
    },
    {
     "name": "stdout",
     "output_type": "stream",
     "text": [
      "12/13 10:08:19 PM ***** Running evaluation *****\n",
      "12/13 10:08:19 PM   Epoch = 3 iter 1599 step\n",
      "12/13 10:08:19 PM   Num examples = 277\n",
      "12/13 10:08:19 PM   Batch size = 32\n"
     ]
    },
    {
     "data": {
      "application/vnd.jupyter.widget-view+json": {
       "model_id": "d78807f11b834681ab4b7caf953621b7",
       "version_major": 2,
       "version_minor": 0
      },
      "text/plain": [
       "Evaluating:   0%|          | 0/9 [00:00<?, ?it/s]"
      ]
     },
     "metadata": {},
     "output_type": "display_data"
    },
    {
     "name": "stdout",
     "output_type": "stream",
     "text": [
      "12/13 10:08:19 PM ***** Eval results *****\n",
      "12/13 10:08:19 PM   acc = 0.5992779783393501\n",
      "12/13 10:08:19 PM   att_loss = 0.0\n",
      "12/13 10:08:19 PM   cls_loss = 0.28683295100927353\n",
      "12/13 10:08:19 PM   eval_loss = 0.6705364651150174\n",
      "12/13 10:08:19 PM   global_step = 1599\n",
      "12/13 10:08:19 PM   loss = 0.28683295100927353\n",
      "12/13 10:08:19 PM   rep_loss = 0.0\n",
      "12/13 10:08:51 PM ***** Running evaluation *****\n",
      "12/13 10:08:51 PM   Epoch = 3 iter 1699 step\n",
      "12/13 10:08:51 PM   Num examples = 277\n",
      "12/13 10:08:51 PM   Batch size = 32\n"
     ]
    },
    {
     "data": {
      "application/vnd.jupyter.widget-view+json": {
       "model_id": "fea3f8c9f3b04a6dafa283f11c5b6259",
       "version_major": 2,
       "version_minor": 0
      },
      "text/plain": [
       "Evaluating:   0%|          | 0/9 [00:00<?, ?it/s]"
      ]
     },
     "metadata": {},
     "output_type": "display_data"
    },
    {
     "name": "stdout",
     "output_type": "stream",
     "text": [
      "12/13 10:08:51 PM ***** Eval results *****\n",
      "12/13 10:08:51 PM   acc = 0.5884476534296029\n",
      "12/13 10:08:51 PM   att_loss = 0.0\n",
      "12/13 10:08:51 PM   cls_loss = 0.2860168621820562\n",
      "12/13 10:08:51 PM   eval_loss = 0.6786398622724745\n",
      "12/13 10:08:51 PM   global_step = 1699\n",
      "12/13 10:08:51 PM   loss = 0.2860168621820562\n",
      "12/13 10:08:51 PM   rep_loss = 0.0\n",
      "12/13 10:09:22 PM ***** Running evaluation *****\n",
      "12/13 10:09:22 PM   Epoch = 3 iter 1799 step\n",
      "12/13 10:09:22 PM   Num examples = 277\n",
      "12/13 10:09:22 PM   Batch size = 32\n"
     ]
    },
    {
     "data": {
      "application/vnd.jupyter.widget-view+json": {
       "model_id": "a1db893c28ff44098aff87230fe02ee6",
       "version_major": 2,
       "version_minor": 0
      },
      "text/plain": [
       "Evaluating:   0%|          | 0/9 [00:00<?, ?it/s]"
      ]
     },
     "metadata": {},
     "output_type": "display_data"
    },
    {
     "name": "stdout",
     "output_type": "stream",
     "text": [
      "12/13 10:09:22 PM ***** Eval results *****\n",
      "12/13 10:09:22 PM   acc = 0.5667870036101083\n",
      "12/13 10:09:22 PM   att_loss = 0.0\n",
      "12/13 10:09:22 PM   cls_loss = 0.2869815884505288\n",
      "12/13 10:09:22 PM   eval_loss = 0.6809747285313077\n",
      "12/13 10:09:23 PM   global_step = 1799\n",
      "12/13 10:09:23 PM   loss = 0.2869815884505288\n",
      "12/13 10:09:23 PM   rep_loss = 0.0\n",
      "12/13 10:09:54 PM ***** Running evaluation *****\n",
      "12/13 10:09:54 PM   Epoch = 3 iter 1899 step\n",
      "12/13 10:09:54 PM   Num examples = 277\n",
      "12/13 10:09:54 PM   Batch size = 32\n"
     ]
    },
    {
     "data": {
      "application/vnd.jupyter.widget-view+json": {
       "model_id": "8206ac05f2c74009a707e3551e0a5498",
       "version_major": 2,
       "version_minor": 0
      },
      "text/plain": [
       "Evaluating:   0%|          | 0/9 [00:00<?, ?it/s]"
      ]
     },
     "metadata": {},
     "output_type": "display_data"
    },
    {
     "name": "stdout",
     "output_type": "stream",
     "text": [
      "12/13 10:09:54 PM ***** Eval results *****\n",
      "12/13 10:09:54 PM   acc = 0.5776173285198556\n",
      "12/13 10:09:54 PM   att_loss = 0.0\n",
      "12/13 10:09:54 PM   cls_loss = 0.2871870557289748\n",
      "12/13 10:09:54 PM   eval_loss = 0.7030147910118103\n",
      "12/13 10:09:54 PM   global_step = 1899\n",
      "12/13 10:09:54 PM   loss = 0.2871870557289748\n",
      "12/13 10:09:54 PM   rep_loss = 0.0\n",
      "12/13 10:10:25 PM ***** Running evaluation *****\n",
      "12/13 10:10:25 PM   Epoch = 3 iter 1999 step\n",
      "12/13 10:10:25 PM   Num examples = 277\n",
      "12/13 10:10:25 PM   Batch size = 32\n"
     ]
    },
    {
     "data": {
      "application/vnd.jupyter.widget-view+json": {
       "model_id": "ce59248d3243442f894968dbf710397d",
       "version_major": 2,
       "version_minor": 0
      },
      "text/plain": [
       "Evaluating:   0%|          | 0/9 [00:00<?, ?it/s]"
      ]
     },
     "metadata": {},
     "output_type": "display_data"
    },
    {
     "name": "stdout",
     "output_type": "stream",
     "text": [
      "12/13 10:10:26 PM ***** Eval results *****\n",
      "12/13 10:10:26 PM   acc = 0.5812274368231047\n",
      "12/13 10:10:26 PM   att_loss = 0.0\n",
      "12/13 10:10:26 PM   cls_loss = 0.2870134929314666\n",
      "12/13 10:10:26 PM   eval_loss = 0.6873999966515435\n",
      "12/13 10:10:26 PM   global_step = 1999\n",
      "12/13 10:10:26 PM   loss = 0.2870134929314666\n",
      "12/13 10:10:26 PM   rep_loss = 0.0\n"
     ]
    },
    {
     "data": {
      "application/vnd.jupyter.widget-view+json": {
       "model_id": "af70e33f923f437f80ac056ee20bb6b3",
       "version_major": 2,
       "version_minor": 0
      },
      "text/plain": [
       "Iteration:   0%|          | 0/522 [00:00<?, ?it/s]"
      ]
     },
     "metadata": {},
     "output_type": "display_data"
    },
    {
     "name": "stdout",
     "output_type": "stream",
     "text": [
      "12/13 10:10:57 PM ***** Running evaluation *****\n",
      "12/13 10:10:57 PM   Epoch = 4 iter 2099 step\n",
      "12/13 10:10:57 PM   Num examples = 277\n",
      "12/13 10:10:57 PM   Batch size = 32\n"
     ]
    },
    {
     "data": {
      "application/vnd.jupyter.widget-view+json": {
       "model_id": "bdf47f1f110742e0aba667b5c1cfdf5d",
       "version_major": 2,
       "version_minor": 0
      },
      "text/plain": [
       "Evaluating:   0%|          | 0/9 [00:00<?, ?it/s]"
      ]
     },
     "metadata": {},
     "output_type": "display_data"
    },
    {
     "name": "stdout",
     "output_type": "stream",
     "text": [
      "12/13 10:10:57 PM ***** Eval results *****\n",
      "12/13 10:10:57 PM   acc = 0.5848375451263538\n",
      "12/13 10:10:57 PM   att_loss = 0.0\n",
      "12/13 10:10:57 PM   cls_loss = 0.2878644029299418\n",
      "12/13 10:10:57 PM   eval_loss = 0.6818020807372199\n",
      "12/13 10:10:57 PM   global_step = 2099\n",
      "12/13 10:10:57 PM   loss = 0.2878644029299418\n",
      "12/13 10:10:57 PM   rep_loss = 0.0\n",
      "12/13 10:11:28 PM ***** Running evaluation *****\n",
      "12/13 10:11:28 PM   Epoch = 4 iter 2199 step\n",
      "12/13 10:11:28 PM   Num examples = 277\n",
      "12/13 10:11:28 PM   Batch size = 32\n"
     ]
    },
    {
     "data": {
      "application/vnd.jupyter.widget-view+json": {
       "model_id": "f6be5eea10424a5db51f0474033fc513",
       "version_major": 2,
       "version_minor": 0
      },
      "text/plain": [
       "Evaluating:   0%|          | 0/9 [00:00<?, ?it/s]"
      ]
     },
     "metadata": {},
     "output_type": "display_data"
    },
    {
     "name": "stdout",
     "output_type": "stream",
     "text": [
      "12/13 10:11:28 PM ***** Eval results *****\n",
      "12/13 10:11:28 PM   acc = 0.5631768953068592\n",
      "12/13 10:11:28 PM   att_loss = 0.0\n",
      "12/13 10:11:28 PM   cls_loss = 0.28725927679435065\n",
      "12/13 10:11:28 PM   eval_loss = 0.688748644457923\n",
      "12/13 10:11:28 PM   global_step = 2199\n",
      "12/13 10:11:28 PM   loss = 0.28725927679435065\n",
      "12/13 10:11:28 PM   rep_loss = 0.0\n",
      "12/13 10:11:59 PM ***** Running evaluation *****\n",
      "12/13 10:11:59 PM   Epoch = 4 iter 2299 step\n",
      "12/13 10:11:59 PM   Num examples = 277\n",
      "12/13 10:11:59 PM   Batch size = 32\n"
     ]
    },
    {
     "data": {
      "application/vnd.jupyter.widget-view+json": {
       "model_id": "5c43d2b2fbee4188a9b3e8466aa3459e",
       "version_major": 2,
       "version_minor": 0
      },
      "text/plain": [
       "Evaluating:   0%|          | 0/9 [00:00<?, ?it/s]"
      ]
     },
     "metadata": {},
     "output_type": "display_data"
    },
    {
     "name": "stdout",
     "output_type": "stream",
     "text": [
      "12/13 10:11:59 PM ***** Eval results *****\n",
      "12/13 10:11:59 PM   acc = 0.5956678700361011\n",
      "12/13 10:11:59 PM   att_loss = 0.0\n",
      "12/13 10:11:59 PM   cls_loss = 0.2863697478937548\n",
      "12/13 10:11:59 PM   eval_loss = 0.6812773413128324\n",
      "12/13 10:11:59 PM   global_step = 2299\n",
      "12/13 10:11:59 PM   loss = 0.2863697478937548\n",
      "12/13 10:11:59 PM   rep_loss = 0.0\n",
      "12/13 10:12:30 PM ***** Running evaluation *****\n",
      "12/13 10:12:30 PM   Epoch = 4 iter 2399 step\n",
      "12/13 10:12:30 PM   Num examples = 277\n",
      "12/13 10:12:30 PM   Batch size = 32\n"
     ]
    },
    {
     "data": {
      "application/vnd.jupyter.widget-view+json": {
       "model_id": "18bd5a9a756845fd9d643e5b700ed09b",
       "version_major": 2,
       "version_minor": 0
      },
      "text/plain": [
       "Evaluating:   0%|          | 0/9 [00:00<?, ?it/s]"
      ]
     },
     "metadata": {},
     "output_type": "display_data"
    },
    {
     "name": "stdout",
     "output_type": "stream",
     "text": [
      "12/13 10:12:31 PM ***** Eval results *****\n",
      "12/13 10:12:31 PM   acc = 0.5667870036101083\n",
      "12/13 10:12:31 PM   att_loss = 0.0\n",
      "12/13 10:12:31 PM   cls_loss = 0.2864716949917021\n",
      "12/13 10:12:31 PM   eval_loss = 0.6898648341496786\n",
      "12/13 10:12:31 PM   global_step = 2399\n",
      "12/13 10:12:31 PM   loss = 0.2864716949917021\n",
      "12/13 10:12:31 PM   rep_loss = 0.0\n",
      "12/13 10:13:02 PM ***** Running evaluation *****\n",
      "12/13 10:13:02 PM   Epoch = 4 iter 2499 step\n",
      "12/13 10:13:02 PM   Num examples = 277\n",
      "12/13 10:13:02 PM   Batch size = 32\n"
     ]
    },
    {
     "data": {
      "application/vnd.jupyter.widget-view+json": {
       "model_id": "2478dcfb5b0548d49166f458e7dad073",
       "version_major": 2,
       "version_minor": 0
      },
      "text/plain": [
       "Evaluating:   0%|          | 0/9 [00:00<?, ?it/s]"
      ]
     },
     "metadata": {},
     "output_type": "display_data"
    },
    {
     "name": "stdout",
     "output_type": "stream",
     "text": [
      "12/13 10:13:02 PM ***** Eval results *****\n",
      "12/13 10:13:02 PM   acc = 0.5595667870036101\n",
      "12/13 10:13:02 PM   att_loss = 0.0\n",
      "12/13 10:13:02 PM   cls_loss = 0.28677529987082423\n",
      "12/13 10:13:02 PM   eval_loss = 0.7060231500201755\n",
      "12/13 10:13:02 PM   global_step = 2499\n",
      "12/13 10:13:02 PM   loss = 0.28677529987082423\n",
      "12/13 10:13:02 PM   rep_loss = 0.0\n",
      "12/13 10:13:33 PM ***** Running evaluation *****\n",
      "12/13 10:13:33 PM   Epoch = 4 iter 2599 step\n",
      "12/13 10:13:33 PM   Num examples = 277\n",
      "12/13 10:13:33 PM   Batch size = 32\n"
     ]
    },
    {
     "data": {
      "application/vnd.jupyter.widget-view+json": {
       "model_id": "5997ecb241894ad7b95d76b4d91ae8ac",
       "version_major": 2,
       "version_minor": 0
      },
      "text/plain": [
       "Evaluating:   0%|          | 0/9 [00:00<?, ?it/s]"
      ]
     },
     "metadata": {},
     "output_type": "display_data"
    },
    {
     "name": "stdout",
     "output_type": "stream",
     "text": [
      "12/13 10:13:34 PM ***** Eval results *****\n",
      "12/13 10:13:34 PM   acc = 0.5848375451263538\n",
      "12/13 10:13:34 PM   att_loss = 0.0\n",
      "12/13 10:13:34 PM   cls_loss = 0.2867804189908852\n",
      "12/13 10:13:34 PM   eval_loss = 0.6900798479715983\n",
      "12/13 10:13:34 PM   global_step = 2599\n",
      "12/13 10:13:34 PM   loss = 0.2867804189908852\n",
      "12/13 10:13:34 PM   rep_loss = 0.0\n"
     ]
    },
    {
     "data": {
      "application/vnd.jupyter.widget-view+json": {
       "model_id": "32e83b33652d48c2b8a4c61042087f5d",
       "version_major": 2,
       "version_minor": 0
      },
      "text/plain": [
       "Iteration:   0%|          | 0/522 [00:00<?, ?it/s]"
      ]
     },
     "metadata": {},
     "output_type": "display_data"
    },
    {
     "name": "stdout",
     "output_type": "stream",
     "text": [
      "12/13 10:14:05 PM ***** Running evaluation *****\n",
      "12/13 10:14:05 PM   Epoch = 5 iter 2699 step\n",
      "12/13 10:14:05 PM   Num examples = 277\n",
      "12/13 10:14:05 PM   Batch size = 32\n"
     ]
    },
    {
     "data": {
      "application/vnd.jupyter.widget-view+json": {
       "model_id": "ba61e9c8f3074e16ba5da6a5e6395006",
       "version_major": 2,
       "version_minor": 0
      },
      "text/plain": [
       "Evaluating:   0%|          | 0/9 [00:00<?, ?it/s]"
      ]
     },
     "metadata": {},
     "output_type": "display_data"
    },
    {
     "name": "stdout",
     "output_type": "stream",
     "text": [
      "12/13 10:14:05 PM ***** Eval results *****\n",
      "12/13 10:14:05 PM   acc = 0.5884476534296029\n",
      "12/13 10:14:05 PM   att_loss = 0.0\n",
      "12/13 10:14:05 PM   cls_loss = 0.28900363090190484\n",
      "12/13 10:14:05 PM   eval_loss = 0.680994345082177\n",
      "12/13 10:14:05 PM   global_step = 2699\n",
      "12/13 10:14:05 PM   loss = 0.28900363090190484\n",
      "12/13 10:14:05 PM   rep_loss = 0.0\n",
      "12/13 10:14:36 PM ***** Running evaluation *****\n",
      "12/13 10:14:36 PM   Epoch = 5 iter 2799 step\n",
      "12/13 10:14:36 PM   Num examples = 277\n",
      "12/13 10:14:36 PM   Batch size = 32\n"
     ]
    },
    {
     "data": {
      "application/vnd.jupyter.widget-view+json": {
       "model_id": "0ebabb6bd03f4304b42be5e062f6d82c",
       "version_major": 2,
       "version_minor": 0
      },
      "text/plain": [
       "Evaluating:   0%|          | 0/9 [00:00<?, ?it/s]"
      ]
     },
     "metadata": {},
     "output_type": "display_data"
    },
    {
     "name": "stdout",
     "output_type": "stream",
     "text": [
      "12/13 10:14:37 PM ***** Eval results *****\n",
      "12/13 10:14:37 PM   acc = 0.5776173285198556\n",
      "12/13 10:14:37 PM   att_loss = 0.0\n",
      "12/13 10:14:37 PM   cls_loss = 0.2873195496570204\n",
      "12/13 10:14:37 PM   eval_loss = 0.6816014779938592\n",
      "12/13 10:14:37 PM   global_step = 2799\n",
      "12/13 10:14:37 PM   loss = 0.2873195496570204\n",
      "12/13 10:14:37 PM   rep_loss = 0.0\n",
      "12/13 10:15:07 PM ***** Running evaluation *****\n",
      "12/13 10:15:07 PM   Epoch = 5 iter 2899 step\n",
      "12/13 10:15:07 PM   Num examples = 277\n",
      "12/13 10:15:07 PM   Batch size = 32\n"
     ]
    },
    {
     "data": {
      "application/vnd.jupyter.widget-view+json": {
       "model_id": "74e20286f25b4733a4dbc33661893122",
       "version_major": 2,
       "version_minor": 0
      },
      "text/plain": [
       "Evaluating:   0%|          | 0/9 [00:00<?, ?it/s]"
      ]
     },
     "metadata": {},
     "output_type": "display_data"
    },
    {
     "name": "stdout",
     "output_type": "stream",
     "text": [
      "12/13 10:15:08 PM ***** Eval results *****\n",
      "12/13 10:15:08 PM   acc = 0.5667870036101083\n",
      "12/13 10:15:08 PM   att_loss = 0.0\n",
      "12/13 10:15:08 PM   cls_loss = 0.2869632046948485\n",
      "12/13 10:15:08 PM   eval_loss = 0.694237642818027\n",
      "12/13 10:15:08 PM   global_step = 2899\n",
      "12/13 10:15:08 PM   loss = 0.2869632046948485\n",
      "12/13 10:15:08 PM   rep_loss = 0.0\n",
      "12/13 10:15:39 PM ***** Running evaluation *****\n",
      "12/13 10:15:39 PM   Epoch = 5 iter 2999 step\n",
      "12/13 10:15:39 PM   Num examples = 277\n",
      "12/13 10:15:39 PM   Batch size = 32\n"
     ]
    },
    {
     "data": {
      "application/vnd.jupyter.widget-view+json": {
       "model_id": "7cc42f4426f240f1990e5f138f70fc2b",
       "version_major": 2,
       "version_minor": 0
      },
      "text/plain": [
       "Evaluating:   0%|          | 0/9 [00:00<?, ?it/s]"
      ]
     },
     "metadata": {},
     "output_type": "display_data"
    },
    {
     "name": "stdout",
     "output_type": "stream",
     "text": [
      "12/13 10:15:39 PM ***** Eval results *****\n",
      "12/13 10:15:39 PM   acc = 0.5740072202166066\n",
      "12/13 10:15:39 PM   att_loss = 0.0\n",
      "12/13 10:15:39 PM   cls_loss = 0.28691305556726937\n",
      "12/13 10:15:39 PM   eval_loss = 0.6881507635116577\n",
      "12/13 10:15:39 PM   global_step = 2999\n",
      "12/13 10:15:39 PM   loss = 0.28691305556726937\n",
      "12/13 10:15:39 PM   rep_loss = 0.0\n",
      "12/13 10:16:10 PM ***** Running evaluation *****\n",
      "12/13 10:16:10 PM   Epoch = 5 iter 3099 step\n",
      "12/13 10:16:10 PM   Num examples = 277\n",
      "12/13 10:16:10 PM   Batch size = 32\n"
     ]
    },
    {
     "data": {
      "application/vnd.jupyter.widget-view+json": {
       "model_id": "4978e93c61d9488b88973e4d3ef2df62",
       "version_major": 2,
       "version_minor": 0
      },
      "text/plain": [
       "Evaluating:   0%|          | 0/9 [00:00<?, ?it/s]"
      ]
     },
     "metadata": {},
     "output_type": "display_data"
    },
    {
     "name": "stdout",
     "output_type": "stream",
     "text": [
      "12/13 10:16:10 PM ***** Eval results *****\n",
      "12/13 10:16:10 PM   acc = 0.5776173285198556\n",
      "12/13 10:16:10 PM   att_loss = 0.0\n",
      "12/13 10:16:10 PM   cls_loss = 0.28670610279327463\n",
      "12/13 10:16:10 PM   eval_loss = 0.6868116127120124\n",
      "12/13 10:16:10 PM   global_step = 3099\n",
      "12/13 10:16:10 PM   loss = 0.28670610279327463\n",
      "12/13 10:16:10 PM   rep_loss = 0.0\n"
     ]
    },
    {
     "data": {
      "application/vnd.jupyter.widget-view+json": {
       "model_id": "2ab0dff9bc56428eb8757926b09e8c3e",
       "version_major": 2,
       "version_minor": 0
      },
      "text/plain": [
       "Iteration:   0%|          | 0/522 [00:00<?, ?it/s]"
      ]
     },
     "metadata": {},
     "output_type": "display_data"
    },
    {
     "name": "stdout",
     "output_type": "stream",
     "text": [
      "12/13 10:16:42 PM ***** Running evaluation *****\n",
      "12/13 10:16:42 PM   Epoch = 6 iter 3199 step\n",
      "12/13 10:16:42 PM   Num examples = 277\n",
      "12/13 10:16:42 PM   Batch size = 32\n"
     ]
    },
    {
     "data": {
      "application/vnd.jupyter.widget-view+json": {
       "model_id": "43ebcb9f75554264a29d14669b3daaf0",
       "version_major": 2,
       "version_minor": 0
      },
      "text/plain": [
       "Evaluating:   0%|          | 0/9 [00:00<?, ?it/s]"
      ]
     },
     "metadata": {},
     "output_type": "display_data"
    },
    {
     "name": "stdout",
     "output_type": "stream",
     "text": [
      "12/13 10:16:42 PM ***** Eval results *****\n",
      "12/13 10:16:42 PM   acc = 0.5776173285198556\n",
      "12/13 10:16:42 PM   att_loss = 0.0\n",
      "12/13 10:16:42 PM   cls_loss = 0.28572449700473107\n",
      "12/13 10:16:42 PM   eval_loss = 0.6951386663648818\n",
      "12/13 10:16:42 PM   global_step = 3199\n",
      "12/13 10:16:42 PM   loss = 0.28572449700473107\n",
      "12/13 10:16:42 PM   rep_loss = 0.0\n",
      "12/13 10:17:13 PM ***** Running evaluation *****\n",
      "12/13 10:17:13 PM   Epoch = 6 iter 3299 step\n",
      "12/13 10:17:13 PM   Num examples = 277\n",
      "12/13 10:17:13 PM   Batch size = 32\n"
     ]
    },
    {
     "data": {
      "application/vnd.jupyter.widget-view+json": {
       "model_id": "1acd0c89e5c847fb8d7d45a3218c79b0",
       "version_major": 2,
       "version_minor": 0
      },
      "text/plain": [
       "Evaluating:   0%|          | 0/9 [00:00<?, ?it/s]"
      ]
     },
     "metadata": {},
     "output_type": "display_data"
    },
    {
     "name": "stdout",
     "output_type": "stream",
     "text": [
      "12/13 10:17:13 PM ***** Eval results *****\n",
      "12/13 10:17:13 PM   acc = 0.5812274368231047\n",
      "12/13 10:17:13 PM   att_loss = 0.0\n",
      "12/13 10:17:13 PM   cls_loss = 0.28593895166595545\n",
      "12/13 10:17:13 PM   eval_loss = 0.6814950704574585\n",
      "12/13 10:17:13 PM   global_step = 3299\n",
      "12/13 10:17:13 PM   loss = 0.28593895166595545\n",
      "12/13 10:17:13 PM   rep_loss = 0.0\n",
      "12/13 10:17:45 PM ***** Running evaluation *****\n",
      "12/13 10:17:45 PM   Epoch = 6 iter 3399 step\n",
      "12/13 10:17:45 PM   Num examples = 277\n",
      "12/13 10:17:45 PM   Batch size = 32\n"
     ]
    },
    {
     "data": {
      "application/vnd.jupyter.widget-view+json": {
       "model_id": "f22a5349544046d59beb437c1794b52e",
       "version_major": 2,
       "version_minor": 0
      },
      "text/plain": [
       "Evaluating:   0%|          | 0/9 [00:00<?, ?it/s]"
      ]
     },
     "metadata": {},
     "output_type": "display_data"
    },
    {
     "name": "stdout",
     "output_type": "stream",
     "text": [
      "12/13 10:17:45 PM ***** Eval results *****\n",
      "12/13 10:17:45 PM   acc = 0.5776173285198556\n",
      "12/13 10:17:45 PM   att_loss = 0.0\n",
      "12/13 10:17:45 PM   cls_loss = 0.2851940543005318\n",
      "12/13 10:17:45 PM   eval_loss = 0.6951433883772956\n",
      "12/13 10:17:45 PM   global_step = 3399\n",
      "12/13 10:17:45 PM   loss = 0.2851940543005318\n",
      "12/13 10:17:45 PM   rep_loss = 0.0\n",
      "12/13 10:18:16 PM ***** Running evaluation *****\n",
      "12/13 10:18:16 PM   Epoch = 6 iter 3499 step\n",
      "12/13 10:18:16 PM   Num examples = 277\n",
      "12/13 10:18:16 PM   Batch size = 32\n"
     ]
    },
    {
     "data": {
      "application/vnd.jupyter.widget-view+json": {
       "model_id": "efd8f22258ce49e18e8b8bb181efadda",
       "version_major": 2,
       "version_minor": 0
      },
      "text/plain": [
       "Evaluating:   0%|          | 0/9 [00:00<?, ?it/s]"
      ]
     },
     "metadata": {},
     "output_type": "display_data"
    },
    {
     "name": "stdout",
     "output_type": "stream",
     "text": [
      "12/13 10:18:16 PM ***** Eval results *****\n",
      "12/13 10:18:16 PM   acc = 0.5812274368231047\n",
      "12/13 10:18:16 PM   att_loss = 0.0\n",
      "12/13 10:18:16 PM   cls_loss = 0.2857994171953073\n",
      "12/13 10:18:16 PM   eval_loss = 0.6803915765550401\n",
      "12/13 10:18:16 PM   global_step = 3499\n",
      "12/13 10:18:16 PM   loss = 0.2857994171953073\n",
      "12/13 10:18:16 PM   rep_loss = 0.0\n",
      "12/13 10:18:47 PM ***** Running evaluation *****\n",
      "12/13 10:18:47 PM   Epoch = 6 iter 3599 step\n",
      "12/13 10:18:47 PM   Num examples = 277\n",
      "12/13 10:18:47 PM   Batch size = 32\n"
     ]
    },
    {
     "data": {
      "application/vnd.jupyter.widget-view+json": {
       "model_id": "af437dd827d545ffb480cbb0fc455f38",
       "version_major": 2,
       "version_minor": 0
      },
      "text/plain": [
       "Evaluating:   0%|          | 0/9 [00:00<?, ?it/s]"
      ]
     },
     "metadata": {},
     "output_type": "display_data"
    },
    {
     "name": "stdout",
     "output_type": "stream",
     "text": [
      "12/13 10:18:48 PM ***** Eval results *****\n",
      "12/13 10:18:48 PM   acc = 0.5451263537906137\n",
      "12/13 10:18:48 PM   att_loss = 0.0\n",
      "12/13 10:18:48 PM   cls_loss = 0.2860961846897012\n",
      "12/13 10:18:48 PM   eval_loss = 0.6999462246894836\n",
      "12/13 10:18:48 PM   global_step = 3599\n",
      "12/13 10:18:48 PM   loss = 0.2860961846897012\n",
      "12/13 10:18:48 PM   rep_loss = 0.0\n"
     ]
    },
    {
     "data": {
      "application/vnd.jupyter.widget-view+json": {
       "model_id": "acac73455314445ca4d3982e6174d15c",
       "version_major": 2,
       "version_minor": 0
      },
      "text/plain": [
       "Iteration:   0%|          | 0/522 [00:00<?, ?it/s]"
      ]
     },
     "metadata": {},
     "output_type": "display_data"
    },
    {
     "name": "stdout",
     "output_type": "stream",
     "text": [
      "12/13 10:19:19 PM ***** Running evaluation *****\n",
      "12/13 10:19:19 PM   Epoch = 7 iter 3699 step\n",
      "12/13 10:19:19 PM   Num examples = 277\n",
      "12/13 10:19:19 PM   Batch size = 32\n"
     ]
    },
    {
     "data": {
      "application/vnd.jupyter.widget-view+json": {
       "model_id": "7bf87392aa6b4670ac62e221e365c19b",
       "version_major": 2,
       "version_minor": 0
      },
      "text/plain": [
       "Evaluating:   0%|          | 0/9 [00:00<?, ?it/s]"
      ]
     },
     "metadata": {},
     "output_type": "display_data"
    },
    {
     "name": "stdout",
     "output_type": "stream",
     "text": [
      "12/13 10:19:19 PM ***** Eval results *****\n",
      "12/13 10:19:19 PM   acc = 0.5342960288808665\n",
      "12/13 10:19:19 PM   att_loss = 0.0\n",
      "12/13 10:19:19 PM   cls_loss = 0.2846665451159844\n",
      "12/13 10:19:19 PM   eval_loss = 0.7045755386352539\n",
      "12/13 10:19:19 PM   global_step = 3699\n",
      "12/13 10:19:19 PM   loss = 0.2846665451159844\n",
      "12/13 10:19:19 PM   rep_loss = 0.0\n",
      "12/13 10:19:50 PM ***** Running evaluation *****\n",
      "12/13 10:19:50 PM   Epoch = 7 iter 3799 step\n",
      "12/13 10:19:50 PM   Num examples = 277\n",
      "12/13 10:19:50 PM   Batch size = 32\n"
     ]
    },
    {
     "data": {
      "application/vnd.jupyter.widget-view+json": {
       "model_id": "551f4ed475414ddebd89cd00db926c82",
       "version_major": 2,
       "version_minor": 0
      },
      "text/plain": [
       "Evaluating:   0%|          | 0/9 [00:00<?, ?it/s]"
      ]
     },
     "metadata": {},
     "output_type": "display_data"
    },
    {
     "name": "stdout",
     "output_type": "stream",
     "text": [
      "12/13 10:19:50 PM ***** Eval results *****\n",
      "12/13 10:19:50 PM   acc = 0.5812274368231047\n",
      "12/13 10:19:50 PM   att_loss = 0.0\n",
      "12/13 10:19:50 PM   cls_loss = 0.28579004677502734\n",
      "12/13 10:19:50 PM   eval_loss = 0.6809346477190653\n",
      "12/13 10:19:50 PM   global_step = 3799\n",
      "12/13 10:19:50 PM   loss = 0.28579004677502734\n",
      "12/13 10:19:50 PM   rep_loss = 0.0\n",
      "12/13 10:20:21 PM ***** Running evaluation *****\n",
      "12/13 10:20:21 PM   Epoch = 7 iter 3899 step\n",
      "12/13 10:20:21 PM   Num examples = 277\n",
      "12/13 10:20:21 PM   Batch size = 32\n"
     ]
    },
    {
     "data": {
      "application/vnd.jupyter.widget-view+json": {
       "model_id": "f824ecdc1b264b77b82308db03eb696c",
       "version_major": 2,
       "version_minor": 0
      },
      "text/plain": [
       "Evaluating:   0%|          | 0/9 [00:00<?, ?it/s]"
      ]
     },
     "metadata": {},
     "output_type": "display_data"
    },
    {
     "name": "stdout",
     "output_type": "stream",
     "text": [
      "12/13 10:20:22 PM ***** Eval results *****\n",
      "12/13 10:20:22 PM   acc = 0.5812274368231047\n",
      "12/13 10:20:22 PM   att_loss = 0.0\n",
      "12/13 10:20:22 PM   cls_loss = 0.2854333540040349\n",
      "12/13 10:20:22 PM   eval_loss = 0.6873681412802802\n",
      "12/13 10:20:22 PM   global_step = 3899\n",
      "12/13 10:20:22 PM   loss = 0.2854333540040349\n",
      "12/13 10:20:22 PM   rep_loss = 0.0\n",
      "12/13 10:20:53 PM ***** Running evaluation *****\n",
      "12/13 10:20:53 PM   Epoch = 7 iter 3999 step\n",
      "12/13 10:20:53 PM   Num examples = 277\n",
      "12/13 10:20:53 PM   Batch size = 32\n"
     ]
    },
    {
     "data": {
      "application/vnd.jupyter.widget-view+json": {
       "model_id": "371ae5bde1944f6f9f06dda9239ee6c1",
       "version_major": 2,
       "version_minor": 0
      },
      "text/plain": [
       "Evaluating:   0%|          | 0/9 [00:00<?, ?it/s]"
      ]
     },
     "metadata": {},
     "output_type": "display_data"
    },
    {
     "name": "stdout",
     "output_type": "stream",
     "text": [
      "12/13 10:20:53 PM ***** Eval results *****\n",
      "12/13 10:20:53 PM   acc = 0.5595667870036101\n",
      "12/13 10:20:53 PM   att_loss = 0.0\n",
      "12/13 10:20:53 PM   cls_loss = 0.2858089101924138\n",
      "12/13 10:20:53 PM   eval_loss = 0.6906983455022176\n",
      "12/13 10:20:53 PM   global_step = 3999\n",
      "12/13 10:20:53 PM   loss = 0.2858089101924138\n",
      "12/13 10:20:53 PM   rep_loss = 0.0\n",
      "12/13 10:21:24 PM ***** Running evaluation *****\n",
      "12/13 10:21:24 PM   Epoch = 7 iter 4099 step\n",
      "12/13 10:21:24 PM   Num examples = 277\n",
      "12/13 10:21:24 PM   Batch size = 32\n"
     ]
    },
    {
     "data": {
      "application/vnd.jupyter.widget-view+json": {
       "model_id": "21995d0cce8a451e987cc1d642e78267",
       "version_major": 2,
       "version_minor": 0
      },
      "text/plain": [
       "Evaluating:   0%|          | 0/9 [00:00<?, ?it/s]"
      ]
     },
     "metadata": {},
     "output_type": "display_data"
    },
    {
     "name": "stdout",
     "output_type": "stream",
     "text": [
      "12/13 10:21:24 PM ***** Eval results *****\n",
      "12/13 10:21:24 PM   acc = 0.5667870036101083\n",
      "12/13 10:21:24 PM   att_loss = 0.0\n",
      "12/13 10:21:24 PM   cls_loss = 0.28639178624195333\n",
      "12/13 10:21:24 PM   eval_loss = 0.6883480350176493\n",
      "12/13 10:21:24 PM   global_step = 4099\n",
      "12/13 10:21:24 PM   loss = 0.28639178624195333\n",
      "12/13 10:21:24 PM   rep_loss = 0.0\n"
     ]
    },
    {
     "data": {
      "application/vnd.jupyter.widget-view+json": {
       "model_id": "436ff15e5ba54366b3cbed91bf4a7c39",
       "version_major": 2,
       "version_minor": 0
      },
      "text/plain": [
       "Iteration:   0%|          | 0/522 [00:00<?, ?it/s]"
      ]
     },
     "metadata": {},
     "output_type": "display_data"
    },
    {
     "name": "stdout",
     "output_type": "stream",
     "text": [
      "12/13 10:21:55 PM ***** Running evaluation *****\n",
      "12/13 10:21:55 PM   Epoch = 8 iter 4199 step\n",
      "12/13 10:21:55 PM   Num examples = 277\n",
      "12/13 10:21:55 PM   Batch size = 32\n"
     ]
    },
    {
     "data": {
      "application/vnd.jupyter.widget-view+json": {
       "model_id": "fed7a1d51d8c4aa8b4ca38977b5603c3",
       "version_major": 2,
       "version_minor": 0
      },
      "text/plain": [
       "Evaluating:   0%|          | 0/9 [00:00<?, ?it/s]"
      ]
     },
     "metadata": {},
     "output_type": "display_data"
    },
    {
     "name": "stdout",
     "output_type": "stream",
     "text": [
      "12/13 10:21:55 PM ***** Eval results *****\n",
      "12/13 10:21:55 PM   acc = 0.5631768953068592\n",
      "12/13 10:21:55 PM   att_loss = 0.0\n",
      "12/13 10:21:55 PM   cls_loss = 0.28602526745488566\n",
      "12/13 10:21:55 PM   eval_loss = 0.6888710856437683\n",
      "12/13 10:21:55 PM   global_step = 4199\n",
      "12/13 10:21:55 PM   loss = 0.28602526745488566\n",
      "12/13 10:21:55 PM   rep_loss = 0.0\n",
      "12/13 10:22:26 PM ***** Running evaluation *****\n",
      "12/13 10:22:26 PM   Epoch = 8 iter 4299 step\n",
      "12/13 10:22:26 PM   Num examples = 277\n",
      "12/13 10:22:26 PM   Batch size = 32\n"
     ]
    },
    {
     "data": {
      "application/vnd.jupyter.widget-view+json": {
       "model_id": "96ef417f64df4c379e283e0688205fd6",
       "version_major": 2,
       "version_minor": 0
      },
      "text/plain": [
       "Evaluating:   0%|          | 0/9 [00:00<?, ?it/s]"
      ]
     },
     "metadata": {},
     "output_type": "display_data"
    },
    {
     "name": "stdout",
     "output_type": "stream",
     "text": [
      "12/13 10:22:27 PM ***** Eval results *****\n",
      "12/13 10:22:27 PM   acc = 0.5523465703971119\n",
      "12/13 10:22:27 PM   att_loss = 0.0\n",
      "12/13 10:22:27 PM   cls_loss = 0.28574439450984696\n",
      "12/13 10:22:27 PM   eval_loss = 0.6927235722541809\n",
      "12/13 10:22:27 PM   global_step = 4299\n",
      "12/13 10:22:27 PM   loss = 0.28574439450984696\n",
      "12/13 10:22:27 PM   rep_loss = 0.0\n",
      "12/13 10:22:58 PM ***** Running evaluation *****\n",
      "12/13 10:22:58 PM   Epoch = 8 iter 4399 step\n",
      "12/13 10:22:58 PM   Num examples = 277\n",
      "12/13 10:22:58 PM   Batch size = 32\n"
     ]
    },
    {
     "data": {
      "application/vnd.jupyter.widget-view+json": {
       "model_id": "c2266b4e376d44a7955c0d2d4ef242c7",
       "version_major": 2,
       "version_minor": 0
      },
      "text/plain": [
       "Evaluating:   0%|          | 0/9 [00:00<?, ?it/s]"
      ]
     },
     "metadata": {},
     "output_type": "display_data"
    },
    {
     "name": "stdout",
     "output_type": "stream",
     "text": [
      "12/13 10:22:58 PM ***** Eval results *****\n",
      "12/13 10:22:58 PM   acc = 0.5776173285198556\n",
      "12/13 10:22:58 PM   att_loss = 0.0\n",
      "12/13 10:22:58 PM   cls_loss = 0.28509473103981514\n",
      "12/13 10:22:58 PM   eval_loss = 0.6890822649002075\n",
      "12/13 10:22:58 PM   global_step = 4399\n",
      "12/13 10:22:58 PM   loss = 0.28509473103981514\n",
      "12/13 10:22:58 PM   rep_loss = 0.0\n",
      "12/13 10:23:29 PM ***** Running evaluation *****\n",
      "12/13 10:23:29 PM   Epoch = 8 iter 4499 step\n",
      "12/13 10:23:29 PM   Num examples = 277\n",
      "12/13 10:23:29 PM   Batch size = 32\n"
     ]
    },
    {
     "data": {
      "application/vnd.jupyter.widget-view+json": {
       "model_id": "eb0fdc520d654e09a991f94cad2e0183",
       "version_major": 2,
       "version_minor": 0
      },
      "text/plain": [
       "Evaluating:   0%|          | 0/9 [00:00<?, ?it/s]"
      ]
     },
     "metadata": {},
     "output_type": "display_data"
    },
    {
     "name": "stdout",
     "output_type": "stream",
     "text": [
      "12/13 10:23:30 PM ***** Eval results *****\n",
      "12/13 10:23:30 PM   acc = 0.5631768953068592\n",
      "12/13 10:23:30 PM   att_loss = 0.0\n",
      "12/13 10:23:30 PM   cls_loss = 0.285532381509366\n",
      "12/13 10:23:30 PM   eval_loss = 0.6893674665027194\n",
      "12/13 10:23:30 PM   global_step = 4499\n",
      "12/13 10:23:30 PM   loss = 0.285532381509366\n",
      "12/13 10:23:30 PM   rep_loss = 0.0\n",
      "12/13 10:24:01 PM ***** Running evaluation *****\n",
      "12/13 10:24:01 PM   Epoch = 8 iter 4599 step\n",
      "12/13 10:24:01 PM   Num examples = 277\n",
      "12/13 10:24:01 PM   Batch size = 32\n"
     ]
    },
    {
     "data": {
      "application/vnd.jupyter.widget-view+json": {
       "model_id": "49134599cfa8445dabfeb866c90678c4",
       "version_major": 2,
       "version_minor": 0
      },
      "text/plain": [
       "Evaluating:   0%|          | 0/9 [00:00<?, ?it/s]"
      ]
     },
     "metadata": {},
     "output_type": "display_data"
    },
    {
     "name": "stdout",
     "output_type": "stream",
     "text": [
      "12/13 10:24:01 PM ***** Eval results *****\n",
      "12/13 10:24:01 PM   acc = 0.5740072202166066\n",
      "12/13 10:24:01 PM   att_loss = 0.0\n",
      "12/13 10:24:01 PM   cls_loss = 0.28574344152779146\n",
      "12/13 10:24:01 PM   eval_loss = 0.6930854519208273\n",
      "12/13 10:24:01 PM   global_step = 4599\n",
      "12/13 10:24:01 PM   loss = 0.28574344152779146\n",
      "12/13 10:24:01 PM   rep_loss = 0.0\n"
     ]
    },
    {
     "data": {
      "application/vnd.jupyter.widget-view+json": {
       "model_id": "bc6b40790d5d4d7b9d3c605be7c3d2e1",
       "version_major": 2,
       "version_minor": 0
      },
      "text/plain": [
       "Iteration:   0%|          | 0/522 [00:00<?, ?it/s]"
      ]
     },
     "metadata": {},
     "output_type": "display_data"
    },
    {
     "name": "stdout",
     "output_type": "stream",
     "text": [
      "12/13 10:24:32 PM ***** Running evaluation *****\n",
      "12/13 10:24:32 PM   Epoch = 9 iter 4699 step\n",
      "12/13 10:24:32 PM   Num examples = 277\n",
      "12/13 10:24:32 PM   Batch size = 32\n"
     ]
    },
    {
     "data": {
      "application/vnd.jupyter.widget-view+json": {
       "model_id": "496d955726b94e638c79e8424614356f",
       "version_major": 2,
       "version_minor": 0
      },
      "text/plain": [
       "Evaluating:   0%|          | 0/9 [00:00<?, ?it/s]"
      ]
     },
     "metadata": {},
     "output_type": "display_data"
    },
    {
     "name": "stdout",
     "output_type": "stream",
     "text": [
      "12/13 10:24:33 PM ***** Eval results *****\n",
      "12/13 10:24:33 PM   acc = 0.5667870036101083\n",
      "12/13 10:24:33 PM   att_loss = 0.0\n",
      "12/13 10:24:33 PM   cls_loss = 0.29126897156238557\n",
      "12/13 10:24:33 PM   eval_loss = 0.6895361012882657\n",
      "12/13 10:24:33 PM   global_step = 4699\n",
      "12/13 10:24:33 PM   loss = 0.29126897156238557\n",
      "12/13 10:24:33 PM   rep_loss = 0.0\n",
      "12/13 10:25:04 PM ***** Running evaluation *****\n",
      "12/13 10:25:04 PM   Epoch = 9 iter 4799 step\n",
      "12/13 10:25:04 PM   Num examples = 277\n",
      "12/13 10:25:04 PM   Batch size = 32\n"
     ]
    },
    {
     "data": {
      "application/vnd.jupyter.widget-view+json": {
       "model_id": "8fd206821cae4146ab5f93f60499a761",
       "version_major": 2,
       "version_minor": 0
      },
      "text/plain": [
       "Evaluating:   0%|          | 0/9 [00:00<?, ?it/s]"
      ]
     },
     "metadata": {},
     "output_type": "display_data"
    },
    {
     "name": "stdout",
     "output_type": "stream",
     "text": [
      "12/13 10:25:04 PM ***** Eval results *****\n",
      "12/13 10:25:04 PM   acc = 0.5667870036101083\n",
      "12/13 10:25:04 PM   att_loss = 0.0\n",
      "12/13 10:25:04 PM   cls_loss = 0.2853957149115476\n",
      "12/13 10:25:04 PM   eval_loss = 0.6889904472563002\n",
      "12/13 10:25:04 PM   global_step = 4799\n",
      "12/13 10:25:04 PM   loss = 0.2853957149115476\n",
      "12/13 10:25:04 PM   rep_loss = 0.0\n",
      "12/13 10:25:35 PM ***** Running evaluation *****\n",
      "12/13 10:25:35 PM   Epoch = 9 iter 4899 step\n",
      "12/13 10:25:35 PM   Num examples = 277\n",
      "12/13 10:25:35 PM   Batch size = 32\n"
     ]
    },
    {
     "data": {
      "application/vnd.jupyter.widget-view+json": {
       "model_id": "02df0e6a3c20414ea553b02f563f5514",
       "version_major": 2,
       "version_minor": 0
      },
      "text/plain": [
       "Evaluating:   0%|          | 0/9 [00:00<?, ?it/s]"
      ]
     },
     "metadata": {},
     "output_type": "display_data"
    },
    {
     "name": "stdout",
     "output_type": "stream",
     "text": [
      "12/13 10:25:35 PM ***** Eval results *****\n",
      "12/13 10:25:35 PM   acc = 0.555956678700361\n",
      "12/13 10:25:35 PM   att_loss = 0.0\n",
      "12/13 10:25:35 PM   cls_loss = 0.286812533225332\n",
      "12/13 10:25:35 PM   eval_loss = 0.698199106587304\n",
      "12/13 10:25:35 PM   global_step = 4899\n",
      "12/13 10:25:35 PM   loss = 0.286812533225332\n",
      "12/13 10:25:35 PM   rep_loss = 0.0\n",
      "12/13 10:26:06 PM ***** Running evaluation *****\n",
      "12/13 10:26:06 PM   Epoch = 9 iter 4999 step\n",
      "12/13 10:26:06 PM   Num examples = 277\n",
      "12/13 10:26:06 PM   Batch size = 32\n"
     ]
    },
    {
     "data": {
      "application/vnd.jupyter.widget-view+json": {
       "model_id": "c579a5f7ac804f2aa4b9c342b9d9783f",
       "version_major": 2,
       "version_minor": 0
      },
      "text/plain": [
       "Evaluating:   0%|          | 0/9 [00:00<?, ?it/s]"
      ]
     },
     "metadata": {},
     "output_type": "display_data"
    },
    {
     "name": "stdout",
     "output_type": "stream",
     "text": [
      "12/13 10:26:07 PM ***** Eval results *****\n",
      "12/13 10:26:07 PM   acc = 0.5740072202166066\n",
      "12/13 10:26:07 PM   att_loss = 0.0\n",
      "12/13 10:26:07 PM   cls_loss = 0.286456486390483\n",
      "12/13 10:26:07 PM   eval_loss = 0.6889664861891005\n",
      "12/13 10:26:07 PM   global_step = 4999\n",
      "12/13 10:26:07 PM   loss = 0.286456486390483\n",
      "12/13 10:26:07 PM   rep_loss = 0.0\n",
      "12/13 10:26:38 PM ***** Running evaluation *****\n",
      "12/13 10:26:38 PM   Epoch = 9 iter 5099 step\n",
      "12/13 10:26:38 PM   Num examples = 277\n",
      "12/13 10:26:38 PM   Batch size = 32\n"
     ]
    },
    {
     "data": {
      "application/vnd.jupyter.widget-view+json": {
       "model_id": "07660dae99464a56aea7b53455225fb2",
       "version_major": 2,
       "version_minor": 0
      },
      "text/plain": [
       "Evaluating:   0%|          | 0/9 [00:00<?, ?it/s]"
      ]
     },
     "metadata": {},
     "output_type": "display_data"
    },
    {
     "name": "stdout",
     "output_type": "stream",
     "text": [
      "12/13 10:26:38 PM ***** Eval results *****\n",
      "12/13 10:26:38 PM   acc = 0.5631768953068592\n",
      "12/13 10:26:38 PM   att_loss = 0.0\n",
      "12/13 10:26:38 PM   cls_loss = 0.28596234670499476\n",
      "12/13 10:26:38 PM   eval_loss = 0.692317869928148\n",
      "12/13 10:26:38 PM   global_step = 5099\n",
      "12/13 10:26:38 PM   loss = 0.28596234670499476\n",
      "12/13 10:26:38 PM   rep_loss = 0.0\n",
      "12/13 10:27:09 PM ***** Running evaluation *****\n",
      "12/13 10:27:09 PM   Epoch = 9 iter 5199 step\n",
      "12/13 10:27:09 PM   Num examples = 277\n",
      "12/13 10:27:09 PM   Batch size = 32\n"
     ]
    },
    {
     "data": {
      "application/vnd.jupyter.widget-view+json": {
       "model_id": "94b3d36ca5e840c0ab4bda7584db0720",
       "version_major": 2,
       "version_minor": 0
      },
      "text/plain": [
       "Evaluating:   0%|          | 0/9 [00:00<?, ?it/s]"
      ]
     },
     "metadata": {},
     "output_type": "display_data"
    },
    {
     "name": "stdout",
     "output_type": "stream",
     "text": [
      "12/13 10:27:10 PM ***** Eval results *****\n",
      "12/13 10:27:10 PM   acc = 0.5703971119133574\n",
      "12/13 10:27:10 PM   att_loss = 0.0\n",
      "12/13 10:27:10 PM   cls_loss = 0.2860311024329242\n",
      "12/13 10:27:10 PM   eval_loss = 0.6890967157151964\n",
      "12/13 10:27:10 PM   global_step = 5199\n",
      "12/13 10:27:10 PM   loss = 0.2860311024329242\n",
      "12/13 10:27:10 PM   rep_loss = 0.0\n"
     ]
    }
   ],
   "source": [
    "arguments = [\"task_distill_soumyajit.py\"] + getArguments(task_distill_step2)\n",
    "sys.argv = arguments\n",
    "\n",
    "print(f\"Arguments passed\\n{arguments}\")\n",
    "task_distill_soumyajit.main()"
   ]
  },
  {
   "cell_type": "code",
   "execution_count": 9,
   "id": "a6bc3b7d-b351-4737-94c4-0c3ba14bf71e",
   "metadata": {},
   "outputs": [
    {
     "name": "stdout",
     "output_type": "stream",
     "text": [
      "Arguments passed\n",
      "['task_distill_soumyajit.py', '--student_model=models/TinyBERT-RTE-(fast)-(0.0)/step2', '--data_dir=data/glue_data/RTE', '--task_name=rte', '--output_dir=models/TinyBERT-RTE-(fast)-(0.0)/eval', '--eval_batch_size=32', '--max_seq_length=128', '--do_lower_case', '--do_eval']\n",
      "12/13 10:27:13 PM The args: Namespace(data_dir='data/glue_data/RTE', teacher_model=None, student_model='models/TinyBERT-RTE-(fast)-(0.0)/step2', task_name='rte', output_dir='models/TinyBERT-RTE-(fast)-(0.0)/eval', cache_dir='', max_seq_length=128, do_eval=True, do_lower_case=True, train_batch_size=32, eval_batch_size=32, learning_rate=5e-05, weight_decay=0.0001, num_train_epochs=3.0, warmup_proportion=0.1, no_cuda=False, seed=42, gradient_accumulation_steps=1, aug_train=False, aug_mode='slow', fast_aug=0.0, eval_step=50, pred_distill=False, data_url='', temperature=1.0)\n",
      "12/13 10:27:13 PM device: cuda n_gpu: 1\n",
      "12/13 10:27:13 PM Writing example 0 of 277\n",
      "12/13 10:27:13 PM *** Example ***\n",
      "12/13 10:27:13 PM guid: dev-0\n",
      "12/13 10:27:13 PM tokens: [CLS] dana reeve , the widow of the actor christopher reeve , has died of lung cancer at age 44 , according to the christopher reeve foundation . [SEP] christopher reeve had an accident . [SEP]\n",
      "12/13 10:27:13 PM input_ids: 101 11271 20726 1010 1996 7794 1997 1996 3364 5696 20726 1010 2038 2351 1997 11192 4456 2012 2287 4008 1010 2429 2000 1996 5696 20726 3192 1012 102 5696 20726 2018 2019 4926 1012 102 0 0 0 0 0 0 0 0 0 0 0 0 0 0 0 0 0 0 0 0 0 0 0 0 0 0 0 0 0 0 0 0 0 0 0 0 0 0 0 0 0 0 0 0 0 0 0 0 0 0 0 0 0 0 0 0 0 0 0 0 0 0 0 0 0 0 0 0 0 0 0 0 0 0 0 0 0 0 0 0 0 0 0 0 0 0 0 0 0 0 0 0\n",
      "12/13 10:27:13 PM input_mask: 1 1 1 1 1 1 1 1 1 1 1 1 1 1 1 1 1 1 1 1 1 1 1 1 1 1 1 1 1 1 1 1 1 1 1 1 0 0 0 0 0 0 0 0 0 0 0 0 0 0 0 0 0 0 0 0 0 0 0 0 0 0 0 0 0 0 0 0 0 0 0 0 0 0 0 0 0 0 0 0 0 0 0 0 0 0 0 0 0 0 0 0 0 0 0 0 0 0 0 0 0 0 0 0 0 0 0 0 0 0 0 0 0 0 0 0 0 0 0 0 0 0 0 0 0 0 0 0\n",
      "12/13 10:27:13 PM segment_ids: 0 0 0 0 0 0 0 0 0 0 0 0 0 0 0 0 0 0 0 0 0 0 0 0 0 0 0 0 0 1 1 1 1 1 1 1 0 0 0 0 0 0 0 0 0 0 0 0 0 0 0 0 0 0 0 0 0 0 0 0 0 0 0 0 0 0 0 0 0 0 0 0 0 0 0 0 0 0 0 0 0 0 0 0 0 0 0 0 0 0 0 0 0 0 0 0 0 0 0 0 0 0 0 0 0 0 0 0 0 0 0 0 0 0 0 0 0 0 0 0 0 0 0 0 0 0 0 0\n",
      "12/13 10:27:13 PM label: not_entailment\n",
      "12/13 10:27:13 PM label_id: 1\n",
      "12/13 10:27:13 PM Model config {\n",
      "  \"attention_probs_dropout_prob\": 0.1,\n",
      "  \"cell\": {},\n",
      "  \"emb_size\": 312,\n",
      "  \"hidden_act\": \"gelu\",\n",
      "  \"hidden_dropout_prob\": 0.1,\n",
      "  \"hidden_size\": 312,\n",
      "  \"initializer_range\": 0.02,\n",
      "  \"intermediate_size\": 1200,\n",
      "  \"max_position_embeddings\": 512,\n",
      "  \"model_type\": \"bert\",\n",
      "  \"num_attention_heads\": 12,\n",
      "  \"num_hidden_layers\": 4,\n",
      "  \"pre_trained\": \"\",\n",
      "  \"structure\": [],\n",
      "  \"training\": \"\",\n",
      "  \"type_vocab_size\": 2,\n",
      "  \"vocab_size\": 30522\n",
      "}\n",
      "\n",
      "12/13 10:27:13 PM Loading model models/TinyBERT-RTE-(fast)-(0.0)/step2/pytorch_model.bin\n",
      "12/13 10:27:13 PM loading model...\n",
      "12/13 10:27:13 PM done!\n",
      "12/13 10:27:14 PM ***** Running evaluation *****\n",
      "12/13 10:27:14 PM   Num examples = 277\n",
      "12/13 10:27:14 PM   Batch size = 32\n"
     ]
    },
    {
     "data": {
      "application/vnd.jupyter.widget-view+json": {
       "model_id": "e71748062e5d473196e2d2bb0b03d9a0",
       "version_major": 2,
       "version_minor": 0
      },
      "text/plain": [
       "Evaluating:   0%|          | 0/9 [00:00<?, ?it/s]"
      ]
     },
     "metadata": {},
     "output_type": "display_data"
    },
    {
     "name": "stdout",
     "output_type": "stream",
     "text": [
      "12/13 10:27:14 PM ***** Eval results *****\n",
      "12/13 10:27:14 PM   acc = 0.6353790613718412\n",
      "12/13 10:27:14 PM   eval_loss = 0.6559031208356222\n"
     ]
    }
   ],
   "source": [
    "arguments = [\"task_distill_soumyajit.py\"] + getArguments(evaluation)\n",
    "sys.argv = arguments\n",
    "\n",
    "print(f\"Arguments passed\\n{arguments}\")\n",
    "task_distill_soumyajit.main()"
   ]
  },
  {
   "cell_type": "code",
   "execution_count": 11,
   "id": "b86a5bed-71fb-4766-9f43-e737daeab12e",
   "metadata": {},
   "outputs": [
    {
     "name": "stdout",
     "output_type": "stream",
     "text": [
      "DONE\n"
     ]
    }
   ],
   "source": [
    "print(\"DONE\")"
   ]
  },
  {
   "cell_type": "code",
   "execution_count": null,
   "id": "7d73bf03-8cf7-443d-9505-a0d0633a6fb8",
   "metadata": {},
   "outputs": [],
   "source": []
  }
 ],
 "metadata": {
  "kernelspec": {
   "display_name": "Python 3 (ipykernel)",
   "language": "python",
   "name": "python3"
  },
  "language_info": {
   "codemirror_mode": {
    "name": "ipython",
    "version": 3
   },
   "file_extension": ".py",
   "mimetype": "text/x-python",
   "name": "python",
   "nbconvert_exporter": "python",
   "pygments_lexer": "ipython3",
   "version": "3.11.9"
  }
 },
 "nbformat": 4,
 "nbformat_minor": 5
}
