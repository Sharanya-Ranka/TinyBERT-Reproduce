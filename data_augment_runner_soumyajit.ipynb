{
 "cells": [
  {
   "cell_type": "code",
   "execution_count": 8,
   "id": "7a7894a3-6ab0-4bf8-a496-d8a0a350c66f",
   "metadata": {},
   "outputs": [],
   "source": [
    "import boto3\n",
    "import data_augmentation\n",
    "import sys"
   ]
  },
  {
   "cell_type": "code",
   "execution_count": null,
   "id": "2b4b307b-fda8-4d10-8d00-e6c7ede1490b",
   "metadata": {
    "editable": true,
    "slideshow": {
     "slide_type": ""
    },
    "tags": []
   },
   "outputs": [],
   "source": []
  },
  {
   "cell_type": "code",
   "execution_count": 9,
   "id": "f13c87a3-3ab3-4078-a6fe-60f279b9d010",
   "metadata": {},
   "outputs": [],
   "source": [
    "def getArguments(dict_args):\n",
    "    list_args = []\n",
    "    for arg_name, arg_val in dict_args.items():\n",
    "        if arg_val not in [True, False]:\n",
    "            list_args.append(f\"--{arg_name}={arg_val}\")\n",
    "        elif arg_val == True:\n",
    "            list_args.append(f\"--{arg_name}\")\n",
    "\n",
    "    return list_args"
   ]
  },
  {
   "cell_type": "code",
   "execution_count": 10,
   "id": "7c286c62-915a-4981-a4bc-2a34975db3dd",
   "metadata": {},
   "outputs": [],
   "source": [
    "# data_augment = dict(pretrained_bert_model=\"models/bert-base-uncased\",\n",
    "#                             glove_embs=\"data/glove.6B.50d.txt\",\n",
    "#                             glue_dir=\"data/glue_data\",\n",
    "#                             task_name='SST-2')"
   ]
  },
  {
   "cell_type": "code",
   "execution_count": 11,
   "id": "41bf6527-8877-4ead-bd21-648e7f9234c0",
   "metadata": {},
   "outputs": [],
   "source": [
    "# arguments = [\"data_augmentation.py\"] + getArguments(data_augment)\n",
    "\n",
    "# def main():\n",
    "#     sys.argv = arguments\n",
    "#     print(f\"Arguments passed\\n{arguments}\")\n",
    "#     data_augmentation.main()\n",
    "\n",
    "\n",
    "# if __name__ == \"__main__\":\n",
    "#     main()"
   ]
  },
  {
   "cell_type": "code",
   "execution_count": 31,
   "id": "7fb95f07-e913-4148-b7ef-40bb0188ec7d",
   "metadata": {},
   "outputs": [],
   "source": [
    "data_augment = dict(pretrained_bert_model=\"models/bert-base-uncased\",\n",
    "                            glove_embs=\"data/glove.6B/glove.6B.50d.txt\",\n",
    "                            glue_dir=\"data/glue_data\",\n",
    "                            task_name='SST-2',\n",
    "                            fast=0.5)"
   ]
  },
  {
   "cell_type": "code",
   "execution_count": 13,
   "id": "a3bccc50-d43c-4dda-b0a1-5f333e725a98",
   "metadata": {
    "scrolled": true
   },
   "outputs": [
    {
     "name": "stderr",
     "output_type": "stream",
     "text": [
      "12/12/2024 20:49:28 - INFO - transformer.modeling -   Model config {\n",
      "  \"architectures\": [\n",
      "    \"BertForMaskedLM\"\n",
      "  ],\n",
      "  \"attention_probs_dropout_prob\": 0.1,\n",
      "  \"gradient_checkpointing\": false,\n",
      "  \"hidden_act\": \"gelu\",\n",
      "  \"hidden_dropout_prob\": 0.1,\n",
      "  \"hidden_size\": 768,\n",
      "  \"initializer_range\": 0.02,\n",
      "  \"intermediate_size\": 3072,\n",
      "  \"layer_norm_eps\": 1e-12,\n",
      "  \"max_position_embeddings\": 512,\n",
      "  \"model_type\": \"bert\",\n",
      "  \"num_attention_heads\": 12,\n",
      "  \"num_hidden_layers\": 12,\n",
      "  \"pad_token_id\": 0,\n",
      "  \"position_embedding_type\": \"absolute\",\n",
      "  \"pre_trained\": \"\",\n",
      "  \"training\": \"\",\n",
      "  \"transformers_version\": \"4.6.0.dev0\",\n",
      "  \"type_vocab_size\": 2,\n",
      "  \"use_cache\": true,\n",
      "  \"vocab_size\": 30522\n",
      "}\n",
      "\n"
     ]
    },
    {
     "name": "stdout",
     "output_type": "stream",
     "text": [
      "Arguments passed\n",
      "['data_augmentation.py', '--pretrained_bert_model=models/bert-base-uncased', '--glove_embs=data/glove.6B/glove.6B.50d.txt', '--glue_dir=data/glue_data', '--task_name=SST-2']\n"
     ]
    },
    {
     "name": "stderr",
     "output_type": "stream",
     "text": [
      "12/12/2024 20:49:31 - INFO - transformer.modeling -   Loading model models/bert-base-uncased/pytorch_model.bin\n",
      "12/12/2024 20:49:32 - INFO - transformer.modeling -   loading model...\n",
      "12/12/2024 20:49:32 - INFO - transformer.modeling -   done!\n",
      "12/12/2024 20:49:32 - INFO - transformer.modeling -   Weights from pretrained model not used in BertForMaskedLM: ['cls.seq_relationship.weight', 'cls.seq_relationship.bias']\n",
      "12/12/2024 20:49:34 - INFO - data_augmentation -   hide new secretions from the parental units \n",
      "12/12/2024 20:49:34 - INFO - data_augmentation -   ['hide', 'new', 'secretions', 'from', 'the', 'parental', 'units']\n"
     ]
    },
    {
     "ename": "NameError",
     "evalue": "name 'exit' is not defined",
     "output_type": "error",
     "traceback": [
      "\u001b[0;31m---------------------------------------------------------------------------\u001b[0m",
      "\u001b[0;31mNameError\u001b[0m                                 Traceback (most recent call last)",
      "Cell \u001b[0;32mIn[13], line 5\u001b[0m\n\u001b[1;32m      3\u001b[0m sys\u001b[38;5;241m.\u001b[39margv \u001b[38;5;241m=\u001b[39m arguments\n\u001b[1;32m      4\u001b[0m \u001b[38;5;28mprint\u001b[39m(\u001b[38;5;124mf\u001b[39m\u001b[38;5;124m\"\u001b[39m\u001b[38;5;124mArguments passed\u001b[39m\u001b[38;5;130;01m\\n\u001b[39;00m\u001b[38;5;132;01m{\u001b[39;00marguments\u001b[38;5;132;01m}\u001b[39;00m\u001b[38;5;124m\"\u001b[39m)\n\u001b[0;32m----> 5\u001b[0m \u001b[43mdata_augmentation\u001b[49m\u001b[38;5;241;43m.\u001b[39;49m\u001b[43mmain\u001b[49m\u001b[43m(\u001b[49m\u001b[43m)\u001b[49m\n",
      "File \u001b[0;32m~/TinyBERT/data_augmentation.py:332\u001b[0m, in \u001b[0;36mmain\u001b[0;34m()\u001b[0m\n\u001b[1;32m    330\u001b[0m \u001b[38;5;66;03m# Do data augmentation\u001b[39;00m\n\u001b[1;32m    331\u001b[0m processor \u001b[38;5;241m=\u001b[39m AugmentProcessor(data_augmentor, args\u001b[38;5;241m.\u001b[39mglue_dir, args\u001b[38;5;241m.\u001b[39mtask_name)\n\u001b[0;32m--> 332\u001b[0m \u001b[43mprocessor\u001b[49m\u001b[38;5;241;43m.\u001b[39;49m\u001b[43mread_augment_write\u001b[49m\u001b[43m(\u001b[49m\u001b[43m)\u001b[49m\n",
      "File \u001b[0;32m~/TinyBERT/data_augmentation.py:277\u001b[0m, in \u001b[0;36mAugmentProcessor.read_augment_write\u001b[0;34m(self)\u001b[0m\n\u001b[1;32m    275\u001b[0m \u001b[38;5;28;01mfor\u001b[39;00m augment_id \u001b[38;5;129;01min\u001b[39;00m augment_ids_:\n\u001b[1;32m    276\u001b[0m     sent \u001b[38;5;241m=\u001b[39m line[augment_id]\n\u001b[0;32m--> 277\u001b[0m     augmented_sents \u001b[38;5;241m=\u001b[39m \u001b[38;5;28;43mself\u001b[39;49m\u001b[38;5;241;43m.\u001b[39;49m\u001b[43maugmentor\u001b[49m\u001b[38;5;241;43m.\u001b[39;49m\u001b[43maugment\u001b[49m\u001b[43m(\u001b[49m\u001b[43msent\u001b[49m\u001b[43m)\u001b[49m\n\u001b[1;32m    278\u001b[0m     \u001b[38;5;28;01mfor\u001b[39;00m augment_sent \u001b[38;5;129;01min\u001b[39;00m augmented_sents:\n\u001b[1;32m    279\u001b[0m         line[augment_id] \u001b[38;5;241m=\u001b[39m augment_sent\n",
      "File \u001b[0;32m~/TinyBERT/data_augmentation.py:222\u001b[0m, in \u001b[0;36mDataAugmentor.augment\u001b[0;34m(self, sent)\u001b[0m\n\u001b[1;32m    220\u001b[0m logger\u001b[38;5;241m.\u001b[39minfo(sent)\n\u001b[1;32m    221\u001b[0m logger\u001b[38;5;241m.\u001b[39minfo(tokens)\n\u001b[0;32m--> 222\u001b[0m \u001b[43mexit\u001b[49m()\n\u001b[1;32m    226\u001b[0m \u001b[38;5;28;01mfor\u001b[39;00m (idx, word) \u001b[38;5;129;01min\u001b[39;00m \u001b[38;5;28menumerate\u001b[39m(tokens):\n\u001b[1;32m    227\u001b[0m     \u001b[38;5;28;01mif\u001b[39;00m _is_valid(word) \u001b[38;5;129;01mand\u001b[39;00m word\u001b[38;5;241m.\u001b[39mlower() \u001b[38;5;129;01mnot\u001b[39;00m \u001b[38;5;129;01min\u001b[39;00m StopWordsList:\n",
      "\u001b[0;31mNameError\u001b[0m: name 'exit' is not defined"
     ]
    }
   ],
   "source": [
    "arguments = [\"data_augmentation.py\"] + getArguments(data_augment)\n",
    "\n",
    "sys.argv = arguments\n",
    "print(f\"Arguments passed\\n{arguments}\")\n",
    "data_augmentation.main()\n"
   ]
  },
  {
   "cell_type": "code",
   "execution_count": 14,
   "id": "60a72de8-c82b-434e-bce9-91d3f851271d",
   "metadata": {},
   "outputs": [
    {
     "name": "stdout",
     "output_type": "stream",
     "text": [
      "Done\n"
     ]
    }
   ],
   "source": [
    "print(\"Done\")"
   ]
  },
  {
   "cell_type": "code",
   "execution_count": null,
   "id": "39cd68c4-6467-4a29-971c-198127a30c9d",
   "metadata": {},
   "outputs": [],
   "source": []
  }
 ],
 "metadata": {
  "kernelspec": {
   "display_name": "Python 3 (ipykernel)",
   "language": "python",
   "name": "python3"
  },
  "language_info": {
   "codemirror_mode": {
    "name": "ipython",
    "version": 3
   },
   "file_extension": ".py",
   "mimetype": "text/x-python",
   "name": "python",
   "nbconvert_exporter": "python",
   "pygments_lexer": "ipython3",
   "version": "3.11.9"
  }
 },
 "nbformat": 4,
 "nbformat_minor": 5
}
